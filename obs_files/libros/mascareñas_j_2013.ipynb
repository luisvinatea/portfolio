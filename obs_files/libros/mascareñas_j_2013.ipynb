{
 "cells": [
  {
   "cell_type": "markdown",
   "metadata": {},
   "source": [
    "# El valor temporal del dinero\n",
    "\n",
    "*Monografías de Juan Mascareñas sobre Finanzas Corporativas, 2013*"
   ]
  },
  {
   "cell_type": "markdown",
   "metadata": {
    "editable": true,
    "slideshow": {
     "slide_type": ""
    },
    "tags": []
   },
   "source": [
    "### Ejercicio 1\n",
    "**Calcule:**\n",
    "\n",
    "|Enunciado                                                                                              |Fórmula                 |\n",
    "|-------------------------------------------------------------------------------------------------------|------------------------|\n",
    "|El valor futuro dentro de un año de un capital cuyo valor actual es de 30.000 € con un interés del 10% |$VF = VA \\times (1 + i)$|\n",
    "|Lo mismo que el punto anterior, pero al final del segundo año |$VF = VA \\times (1 + i)^2$|\n",
    "|El valor actual de un capital que valdrá 50.000 € dentro de un año |$VA = \\frac{VF}{(1 + i)}$|\n",
    "|El valor actual de un capital que valdrá 50.000 € dentro de dos años|$VA = \\frac{VF}{(1 + i)^2}$|"
   ]
  },
  {
   "cell_type": "code",
   "execution_count": 1,
   "metadata": {},
   "outputs": [
    {
     "data": {
      "text/plain": [
       "(33000.0, 36300.00000000001, 45454.54545454545, 41322.31404958677)"
      ]
     },
     "execution_count": 1,
     "metadata": {},
     "output_type": "execute_result"
    }
   ],
   "source": [
    "# Variables\n",
    "VA_1 = 30000  # Valor actual en euros\n",
    "i = 0.10  # Tasa de interés\n",
    "VF_1 = 50000  # Valor futuro en euros\n",
    "\n",
    "# a) Valor futuro dentro de un año\n",
    "VF_a = VA_1 * (1 + i)\n",
    "\n",
    "# b) Valor futuro al final del segundo año\n",
    "VF_b = VA_1 * (1 + i) ** 2\n",
    "\n",
    "# e) Valor actual de un capital que valdrá 50.000 € dentro de un año\n",
    "VA_e = VF_1 / (1 + i)\n",
    "\n",
    "# d) Valor actual de un capital que valdrá 50.000 € dentro de dos años\n",
    "VA_d = VF_1 / (1 + i) ** 2\n",
    "\n",
    "(VF_a, VF_b, VA_e, VA_d)"
   ]
  },
  {
   "cell_type": "markdown",
   "metadata": {},
   "source": [
    "### Ejercicio 2\n",
    "**Calcule:**\n",
    "\n",
    "|Enunciado |Fórmula                                                                                                           |\n",
    "|----------|------------------------------------------------------------------------------------------------------------------|\n",
    "|El valor futuro dentro de diez años de un capital cuyo valor actual es de 30.000 € si el tipo de interés es del 10% anual    |$VF = VA \\times (1 + i)^{10}$ |\n",
    "|Lo mismo que el punto anterior pero el tipo de interés vale el 15% anual| $VF = VA \\times (1 + i)^{10}$ |\n",
    "|El valor actual de un capital que valdrá 500.000 € dentro de diez años al 10% anual|$VA = \\frac{VF}{(1 + i)^{10}}$ |\n",
    "|Lo mismo que en el punto anterior, pero el tipo de interés vale el 15%|$VA = \\frac{VF}{(1 + i)^{10}}$ |"
   ]
  },
  {
   "cell_type": "code",
   "execution_count": 2,
   "metadata": {},
   "outputs": [
    {
     "data": {
      "text/plain": [
       "(77812.27380300008, 121366.7320712372, 192771.64471476572, 123592.35306093293)"
      ]
     },
     "execution_count": 2,
     "metadata": {},
     "output_type": "execute_result"
    }
   ],
   "source": [
    "# Variables  \n",
    "VA_2 = 30000  # Valor actual en euros\n",
    "VF_2 = 500000  # Valor futuro en euros\n",
    "i_10 = 0.10  # Tasa de interés 10%\n",
    "i_15 = 0.15  # Tasa de interés 15%\n",
    "\n",
    "# a) Valor futuro dentro de diez años al 10%\n",
    "VF_2a = VA_2 * (1 + i_10) ** 10\n",
    "\n",
    "# b) Valor futuro dentro de diez años al 15%\n",
    "VF_2b = VA_2 * (1 + i_15) ** 10\n",
    "\n",
    "# c) Valor actual de un capital que valdrá 500.000 € dentro de diez años al 10%\n",
    "VA_2c = VF_2 / (1 + i_10) ** 10\n",
    "\n",
    "# d) Valor actual de un capital que valdrá 500.000 € dentro de diez años al 15%\n",
    "VA_2d = VF_2 / (1 + i_15) ** 10\n",
    "\n",
    "(VF_2a, VF_2b, VA_2c, VA_2d)"
   ]
  },
  {
   "cell_type": "markdown",
   "metadata": {},
   "source": [
    "### Ejercicio 3\n",
    "\n",
    "a) Encuentre el valor futuro de las rentas postpagables siguientes cuyo primer pago tiene lugar al final del primer año: 200.000 € anuales durante 10 años al 10% de interés.\n",
    "\n",
    "La fórmula para el valor futuro de una anualidad postpagable es:\n",
    "\n",
    "$$\n",
    " VF = R \\times \\frac{(1 + i)^n - 1}{i} \n",
    "$$\n",
    "\n",
    "donde:\n",
    "\n",
    "\n",
    "- R  es el pago anual\n",
    "- i  es la tasa de interés\n",
    "- n  es el número de pagos\n"
   ]
  },
  {
   "cell_type": "code",
   "execution_count": 3,
   "metadata": {},
   "outputs": [
    {
     "data": {
      "text/plain": [
       "3187484.9202000047"
      ]
     },
     "execution_count": 3,
     "metadata": {},
     "output_type": "execute_result"
    }
   ],
   "source": [
    "# Variables\n",
    "R_3a = 200000  # Pago anual en euros\n",
    "i = 0.10  # Tasa de interés\n",
    "n_3a = 10  # Número de pagos\n",
    "\n",
    "# Valor futuro de una anualidad postpagable\n",
    "VF_3a = R_3a * ((1 + i)**n_3a - 1) / i\n",
    "\n",
    "VF_3a"
   ]
  },
  {
   "cell_type": "markdown",
   "metadata": {},
   "source": [
    "b) 100.000 € anuales durante 5 años al 5% de interés."
   ]
  },
  {
   "cell_type": "code",
   "execution_count": 4,
   "metadata": {},
   "outputs": [
    {
     "data": {
      "text/plain": [
       "552563.1250000007"
      ]
     },
     "execution_count": 4,
     "metadata": {},
     "output_type": "execute_result"
    }
   ],
   "source": [
    "# Variables\n",
    "R_3b = 100000  # Pago anual en euros\n",
    "i = 0.05  # Tasa de interés\n",
    "n_3b = 5  # Número de pagos\n",
    "\n",
    "# Valor futuro de una anualidad postpagable\n",
    "VF_3b = R_3b * ((1 + i)**n_3b - 1) / i\n",
    "\n",
    "VF_3b"
   ]
  },
  {
   "cell_type": "markdown",
   "metadata": {},
   "source": [
    "c) 200.000 € anuales durante 5 años al 0% de interés."
   ]
  },
  {
   "cell_type": "code",
   "execution_count": 5,
   "metadata": {},
   "outputs": [
    {
     "data": {
      "text/plain": [
       "1000000"
      ]
     },
     "execution_count": 5,
     "metadata": {},
     "output_type": "execute_result"
    }
   ],
   "source": [
    "# Variables\n",
    "R_3c = 200000  # Pago anual en euros\n",
    "i = 0.0  # Tasa de interés\n",
    "n_3c = 5  # Número de pagos\n",
    "\n",
    "# Valor futuro de una anualidad postpagable (sin interés)\n",
    "VF_3c = R_3c * n_3c\n",
    "\n",
    "VF_3c"
   ]
  },
  {
   "cell_type": "markdown",
   "metadata": {},
   "source": [
    "d) 500.000 € anuales durante infinitos años al 10% de interés.\n",
    "\n",
    "La fórmula para el valor futuro de una perpetuidad es:\n",
    "\n",
    "$$\n",
    " VF = \\frac{R}{i} \n",
    "$$"
   ]
  },
  {
   "cell_type": "code",
   "execution_count": 6,
   "metadata": {},
   "outputs": [
    {
     "data": {
      "text/plain": [
       "5000000.0"
      ]
     },
     "execution_count": 6,
     "metadata": {},
     "output_type": "execute_result"
    }
   ],
   "source": [
    "# Variables\n",
    "R_3d = 500000  # Pago anual en euros\n",
    "i = 0.10  # Tasa de interés\n",
    "\n",
    "# Valor futuro de una perpetuidad\n",
    "VF_3d = R_3d / i\n",
    "\n",
    "VF_3d"
   ]
  },
  {
   "cell_type": "markdown",
   "metadata": {},
   "source": [
    "e) Repita los cálculos anteriores pero suponiendo que los pagos tienen lugar a principios del año (rentas prepagables).\n",
    "\n",
    "Para rentas prepagables, la fórmula es:\n",
    "\n",
    "$$\n",
    " VF = R \\times \\frac{(1 + i)^n - 1}{i} \\times (1 + i) \n",
    "$$"
   ]
  },
  {
   "cell_type": "code",
   "execution_count": 7,
   "metadata": {},
   "outputs": [
    {
     "data": {
      "text/plain": [
       "(3506233.4122200054, 580191.2812500008, 1100000.0, 5500000.0)"
      ]
     },
     "execution_count": 7,
     "metadata": {},
     "output_type": "execute_result"
    }
   ],
   "source": [
    "# Variables\n",
    "R_3a = 200000  # Pago anual en euros\n",
    "R_3b = 100000  # Pago anual en euros\n",
    "R_3c = 200000  # Pago anual en euros\n",
    "R_3d = 500000  # Pago anual en euros\n",
    "i_10 = 0.10  # Tasa de interés\n",
    "i_5 = 0.05  # Tasa de interés\n",
    "n_3a = 10  # Número de pagos\n",
    "n_3b = 5  # Número de pagos\n",
    "n_3c = 5  # Número de pagos\n",
    "\n",
    "# Valor futuro de una anualidad prepagable\n",
    "VF_3a_pre = R_3a * ((1 + i_10)**n_3a - 1) / i_10 * (1 + i_10)\n",
    "VF_3b_pre = R_3b * ((1 + i_5)**n_3b - 1) / i_5 * (1 + i_5)\n",
    "VF_3c_pre = R_3c * n_3c * (1 + i_10)  # Sin interés\n",
    "VF_3d_pre = (R_3d / i_10) * (1 + i_10)  # Perpetuidad\n",
    "\n",
    "VF_3a_pre, VF_3b_pre, VF_3c_pre, VF_3d_pre"
   ]
  },
  {
   "cell_type": "markdown",
   "metadata": {},
   "source": [
    "### Ejercicio 4\n",
    "\n",
    "a) Encuentre el valor actual de las rentas postpagables siguientes: 200.000 € anuales durante 10 años al 10% de interés.\n",
    "\n",
    "La fórmula para el valor actual de una anualidad postpagable es:\n",
    "\n",
    "$$\n",
    " VA = R \\times \\frac{1 - (1 + i)^{-n}}{i} \n",
    "$$"
   ]
  },
  {
   "cell_type": "code",
   "execution_count": 8,
   "metadata": {},
   "outputs": [
    {
     "data": {
      "text/plain": [
       "1228913.4211409371"
      ]
     },
     "execution_count": 8,
     "metadata": {},
     "output_type": "execute_result"
    }
   ],
   "source": [
    "# Variables\n",
    "R_4a = 200000  # Pago anual en euros\n",
    "i = 0.10  # Tasa de interés\n",
    "n_4a = 10  # Número de pagos\n",
    "\n",
    "# Valor actual de una anualidad postpagable\n",
    "VA_4a = R_4a * (1 - (1 + i)**-n_4a) / i\n",
    "\n",
    "VA_4a"
   ]
  },
  {
   "cell_type": "markdown",
   "metadata": {},
   "source": [
    "b) 100.000 € anuales durante 5 años al 5% de interés."
   ]
  },
  {
   "cell_type": "code",
   "execution_count": 9,
   "metadata": {},
   "outputs": [
    {
     "data": {
      "text/plain": [
       "432947.6670630822"
      ]
     },
     "execution_count": 9,
     "metadata": {},
     "output_type": "execute_result"
    }
   ],
   "source": [
    "# Variables\n",
    "R_4b = 100000  # Pago anual en euros\n",
    "i = 0.05  # Tasa de interés\n",
    "n_4b = 5  # Número de pagos\n",
    "\n",
    "# Valor actual de una anualidad postpagable\n",
    "VA_4b = R_4b * (1 - (1 + i)**-n_4b) / i\n",
    "\n",
    "VA_4b"
   ]
  },
  {
   "cell_type": "markdown",
   "metadata": {},
   "source": [
    "c) 200.000 € anuales durante 5 años al 0% de interés."
   ]
  },
  {
   "cell_type": "code",
   "execution_count": 10,
   "metadata": {},
   "outputs": [
    {
     "data": {
      "text/plain": [
       "1000000"
      ]
     },
     "execution_count": 10,
     "metadata": {},
     "output_type": "execute_result"
    }
   ],
   "source": [
    "# Variables\n",
    "R_4c = 200000  # Pago anual en euros\n",
    "i = 0.0  # Tasa de interés\n",
    "n_4c = 5  # Número de pagos\n",
    "\n",
    "# Valor actual de una anualidad postpagable (sin interés)\n",
    "VA_4c = R_4c * n_4c\n",
    "\n",
    "VA_4c"
   ]
  },
  {
   "cell_type": "markdown",
   "metadata": {},
   "source": [
    "d) 500.000 € anuales durante infinitos años al 10% de interés.\n",
    "\n",
    "La fórmula para el valor actual de una perpetuidad es:\n",
    "\n",
    "$$\n",
    " VA = \\frac{R}{i} \n",
    "$$"
   ]
  },
  {
   "cell_type": "code",
   "execution_count": 11,
   "metadata": {},
   "outputs": [
    {
     "data": {
      "text/plain": [
       "5000000.0"
      ]
     },
     "execution_count": 11,
     "metadata": {},
     "output_type": "execute_result"
    }
   ],
   "source": [
    "# Variables\n",
    "R_4d = 500000  # Pago anual en euros\n",
    "i = 0.10  # Tasa de interés\n",
    "\n",
    "# Valor actual de una perpetuidad\n",
    "VA_4d = R_4d / i\n",
    "\n",
    "VA_4d"
   ]
  },
  {
   "cell_type": "markdown",
   "metadata": {},
   "source": [
    "e) Repita los cálculos anteriores, pero suponiendo que se trata de rentas prepagables.\n",
    "\n",
    "Para rentas prepagables, la fórmula es:\n",
    "\n",
    "$$\n",
    " VA = R \\times \\frac{1 - (1 + i)^{-n}}{i} \\times (1 + i) \n",
    "$$"
   ]
  },
  {
   "cell_type": "code",
   "execution_count": 12,
   "metadata": {},
   "outputs": [
    {
     "data": {
      "text/plain": [
       "(1351804.7632550308, 454595.05041623634, 1100000.0, 5500000.0)"
      ]
     },
     "execution_count": 12,
     "metadata": {},
     "output_type": "execute_result"
    }
   ],
   "source": [
    "# Variables\n",
    "R_4a = 200000  # Pago anual en euros\n",
    "R_4b = 100000  # Pago anual en euros\n",
    "R_4c = 200000  # Pago anual en euros\n",
    "R_4d = 500000  # Pago anual en euros\n",
    "i_10 = 0.10  # Tasa de interés\n",
    "i_5 = 0.05  # Tasa de interés\n",
    "n_4a = 10  # Número de pagos\n",
    "n_4b = 5  # Número de pagos\n",
    "n_4c = 5  # Número de pagos\n",
    "\n",
    "# Valor actual de una anualidad prepagable\n",
    "VA_4a_pre = R_4a * (1 - (1 + i_10)**-n_4a) / i_10 * (1 + i_10)\n",
    "VA_4b_pre = R_4b * (1 - (1 + i_5)**-n_4b) / i_5 * (1 + i_5)\n",
    "VA_4c_pre = R_4c * n_4c * (1 + i_10)  # Sin interés\n",
    "VA_4d_pre = (R_4d / i_10) * (1 + i_10)  # Perpetuidad\n",
    "\n",
    "VA_4a_pre, VA_4b_pre, VA_4c_pre, VA_4d_pre"
   ]
  },
  {
   "cell_type": "markdown",
   "metadata": {},
   "source": [
    "### Ejercicio 5\n",
    "\n",
    "Encuentre el valor actual y el valor futuro de las dos series siguientes de flujos de tesorería si el tipo de descuento fuese del 10% anual y del 0% anual.\n",
    "\n",
    "Años: 1, 2, 3, 4, 5\n",
    "\n",
    "Serie A: 10.000, 40.000, 40.000, 40.000, 30.000  \n",
    "Serie B: 30.000, 40.000, 40.000, 40.000, 10.000\n",
    "\n",
    "#### Valor actual (10% anual)\n",
    "\n",
    "La fórmula para el valor actual de una serie de flujos es:"
   ]
  },
  {
   "cell_type": "markdown",
   "metadata": {},
   "source": [
    "$$\n",
    "VA = \\sum_{t=1}^{n} \\frac{CF_t}{(1 + i)^t}\n",
    "$$\n",
    "\n",
    "donde:\n",
    "\\begin{align*}\n",
    "CF_t & \\text{ es el flujo de caja en el año } t \\\\\n",
    "i & \\text{ es la tasa de interés} \\\\\n",
    "n & \\text{ es el número de años}\n",
    "\\end{align*}"
   ]
  },
  {
   "cell_type": "markdown",
   "metadata": {},
   "source": [
    "#### Valor futuro (10% anual)"
   ]
  },
  {
   "cell_type": "markdown",
   "metadata": {},
   "source": [
    "La fórmula para el valor futuro de una serie de flujos es:\n",
    "\n",
    "$$\n",
    "VF = \\sum_{t=1}^{n} CF_t \\times (1 + i)^{n-t}\n",
    "$$\n",
    "\n",
    "donde:\n",
    "\\begin{align*}\n",
    "CF_t & \\text{ es el flujo de caja en el año } t \\\\\n",
    "i & \\text{ es la tasa de interés} \\\\\n",
    "n & \\text{ es el número de años}\n",
    "\\end{align*}"
   ]
  },
  {
   "cell_type": "code",
   "execution_count": 13,
   "metadata": {},
   "outputs": [
    {
     "data": {
      "text/plain": [
       "(118149.53027301907,\n",
       " 190281.00000000003,\n",
       " 160000,\n",
       " 160000,\n",
       " 123912.92199365415,\n",
       " 199563.00000000003,\n",
       " 160000,\n",
       " 160000)"
      ]
     },
     "execution_count": 13,
     "metadata": {},
     "output_type": "execute_result"
    }
   ],
   "source": [
    "# Serie A y B de flujos de tesorería\n",
    "series_a = [10000, 40000, 40000, 40000, 30000]\n",
    "series_b = [30000, 40000, 40000, 40000, 10000]\n",
    "i_10 = 0.10  # Tasa de interés 10%\n",
    "i_0 = 0.0  # Tasa de interés 0%\n",
    "n = 5  # Número de años\n",
    "\n",
    "# Valor actual con 10% de interés\n",
    "VA_series_a_10 = sum(cf / (1 + i_10) ** (t + 1) for t, cf in enumerate(series_a))\n",
    "VA_series_b_10 = sum(cf / (1 + i_10) ** (t + 1) for t, cf in enumerate(series_b))\n",
    "\n",
    "# Valor futuro con 10% de interés\n",
    "VF_series_a_10 = sum(cf * (1 + i_10) ** (n - t - 1) for t, cf in enumerate(series_a))\n",
    "VF_series_b_10 = sum(cf * (1 + i_10) ** (n - t - 1) for t, cf in enumerate(series_b))\n",
    "\n",
    "# Valor actual con 0% de interés\n",
    "VA_series_a_0 = sum(cf for cf in series_a)\n",
    "VA_series_b_0 = sum(cf for cf in series_b)\n",
    "\n",
    "# Valor futuro con 0% de interés\n",
    "VF_series_a_0 = VA_series_a_0\n",
    "VF_series_b_0 = VA_series_b_0\n",
    "\n",
    "(VA_series_a_10, VF_series_a_10, VA_series_a_0, VF_series_a_0, VA_series_b_10, VF_series_b_10, VA_series_b_0, VF_series_b_0)"
   ]
  },
  {
   "cell_type": "markdown",
   "metadata": {},
   "source": [
    "### Ejercicio 6\n",
    "\n",
    "¿Cuál es el valor actual de la siguiente corriente de flujos de liquidez descontada al 5% de interés anual?\n",
    "\n",
    "Años: 1, 2, 3, 4, 5, ..., 20\n",
    "\n",
    "Flujos: 10.000, 40.000, 30.000, 30.000, 30.000\n",
    "\n",
    "La fórmula para el valor actual de una serie de flujos es:"
   ]
  },
  {
   "cell_type": "markdown",
   "metadata": {},
   "source": [
    "\\begin{align*}\n",
    " VA = \\sum_{t=1}^{n} \\frac{CF_t}{(1 + i)^t} \n",
    "\\end{align*}"
   ]
  },
  {
   "cell_type": "code",
   "execution_count": 14,
   "metadata": {},
   "outputs": [
    {
     "data": {
      "text/plain": [
       "363888.9860131609"
      ]
     },
     "execution_count": 14,
     "metadata": {},
     "output_type": "execute_result"
    }
   ],
   "source": [
    "# Flujos de tesorería\n",
    "flows = [10000, 40000, 30000, 30000, 30000] + [30000] * 15  # Los últimos 15 años tienen el mismo flujo de 30.000\n",
    "i_5 = 0.05  # Tasa de interés 5%\n",
    "n = 20  # Número de años\n",
    "\n",
    "# Valor actual con 5% de interés\n",
    "VA_flows_5 = sum(cf / (1 + i_5) ** (t + 1) for t, cf in enumerate(flows))\n",
    "\n",
    "VA_flows_5"
   ]
  },
  {
   "cell_type": "markdown",
   "metadata": {},
   "source": [
    "### Ejercicio 7\n",
    "\n",
    "¿Qué cantidad de dinero vale más hoy día: un millón de euros hoy, o dos millones dentro de 8 años si el tipo de descuento es del 10%?\n",
    "\n",
    "La fórmula para el valor actual es:"
   ]
  },
  {
   "cell_type": "markdown",
   "metadata": {},
   "source": [
    "\n",
    "$$\n",
    "  VA = \\frac{VF}{(1 + i)^n}\n",
    "$$"
   ]
  },
  {
   "cell_type": "code",
   "execution_count": 15,
   "metadata": {},
   "outputs": [
    {
     "data": {
      "text/plain": [
       "(933014.7604194662, True)"
      ]
     },
     "execution_count": 15,
     "metadata": {},
     "output_type": "execute_result"
    }
   ],
   "source": [
    "# Variables\n",
    "VF_7 = 2000000  # Valor futuro en euros\n",
    "i_10 = 0.10  # Tasa de interés 10%\n",
    "n_7 = 8  # Número de años\n",
    "\n",
    "# Valor actual de dos millones dentro de 8 años\n",
    "VA_7 = VF_7 / (1 + i_10) ** n_7\n",
    "\n",
    "# Comparación\n",
    "VA_7, 1000000 > VA_7"
   ]
  },
  {
   "cell_type": "markdown",
   "metadata": {},
   "source": [
    "### Ejercicio 8\n",
    "\n",
    "a) Indique a qué tasa anual han estado creciendo las ventas.\n",
    "\n",
    "La fórmula para calcular la tasa de crecimiento anual compuesto (CAGR) es:"
   ]
  },
  {
   "cell_type": "markdown",
   "metadata": {},
   "source": [
    "$$\n",
    "CAGR = \\left( \\frac{VF}{VA} \\right)^{\\frac{1}{n}} - 1\n",
    "$$\n",
    "\n",
    "donde:\n",
    "\\begin{align*}\n",
    "VF & \\text{ es el valor final (600 millones)} \\\\\n",
    "VA & \\text{ es el valor inicial (300 millones)} \\\\\n",
    "n & \\text{ es el número de años (5)}\n",
    "\\end{align*}"
   ]
  },
  {
   "cell_type": "code",
   "execution_count": 16,
   "metadata": {},
   "outputs": [
    {
     "data": {
      "text/plain": [
       "0.1486983549970351"
      ]
     },
     "execution_count": 16,
     "metadata": {},
     "output_type": "execute_result"
    }
   ],
   "source": [
    "# Variables\n",
    "VA_8 = 300  # Ventas iniciales en millones\n",
    "VF_8 = 600  # Ventas finales en millones\n",
    "n_8 = 5  # Número de años\n",
    "\n",
    "# Tasa de crecimiento anual compuesto\n",
    "CAGR = (VF_8 / VA_8) ** (1 / n_8) - 1\n",
    "\n",
    "CAGR"
   ]
  },
  {
   "cell_type": "markdown",
   "metadata": {},
   "source": [
    "b) Comente la afirmación: «Si las ventas se han doblado en cinco años, implica que han crecido un 100%; así que si dividimos 100 entre 5 obtendremos un crecimiento anual del 20%».\n",
    "\n",
    "Esta afirmación es incorrecta porque no considera el efecto compuesto del crecimiento. La tasa de crecimiento anual compuesto (CAGR) proporciona una tasa de crecimiento que tiene en cuenta el efecto compuesto y es más precisa.\n",
    "\n",
    "### Ejercicio 9\n",
    "\n",
    "a) Usted pidió prestados 500.000 € y se comprometió a devolver 530.000 € un año después.\n",
    "\n",
    "La fórmula para calcular la tasa de descuento es:"
   ]
  },
  {
   "cell_type": "markdown",
   "metadata": {},
   "source": [
    "$$\n",
    "i = \\frac{VF - VA}{VA}\n",
    "$$"
   ]
  },
  {
   "cell_type": "code",
   "execution_count": 17,
   "metadata": {},
   "outputs": [
    {
     "data": {
      "text/plain": [
       "0.06"
      ]
     },
     "execution_count": 17,
     "metadata": {},
     "output_type": "execute_result"
    }
   ],
   "source": [
    "# Variables\n",
    "VA_9a = 500000  # Monto prestado en euros\n",
    "VF_9a = 530000  # Monto a devolver en euros\n",
    "\n",
    "# Tasa de descuento\n",
    "i_9a = (VF_9a - VA_9a) / VA_9a\n",
    "\n",
    "i_9a"
   ]
  },
  {
   "cell_type": "markdown",
   "metadata": {},
   "source": [
    "b) Usted pidió prestados 400.000 € y se comprometió a devolver 651.560 € diez años después."
   ]
  },
  {
   "cell_type": "code",
   "execution_count": 18,
   "metadata": {},
   "outputs": [
    {
     "data": {
      "text/plain": [
       "0.05000034636220296"
      ]
     },
     "execution_count": 18,
     "metadata": {},
     "output_type": "execute_result"
    }
   ],
   "source": [
    "# Variables\n",
    "VA_9b = 400000  # Monto prestado en euros\n",
    "VF_9b = 651560  # Monto a devolver en euros\n",
    "n_9b = 10  # Número de años\n",
    "\n",
    "# Tasa de descuento anual\n",
    "i_9b = (VF_9b / VA_9b) ** (1 / n_9b) - 1\n",
    "\n",
    "i_9b"
   ]
  },
  {
   "cell_type": "markdown",
   "metadata": {},
   "source": [
    "c) Usted pidió prestados 400.000 € y se comprometió a realizar pagos anuales iguales de 110.000 € durante cinco años."
   ]
  },
  {
   "cell_type": "code",
   "execution_count": 20,
   "metadata": {},
   "outputs": [
    {
     "name": "stdout",
     "output_type": "stream",
     "text": [
      "0.11648768552297212\n"
     ]
    }
   ],
   "source": [
    "import numpy_financial as npf\n",
    "\n",
    "# Variables\n",
    "VA_9c = 400000  # Monto prestado en euros\n",
    "n_9c = 5  # Número de pagos\n",
    "PMT_9c = 110000  # Pago anual\n",
    "\n",
    "# Tasa de descuento usando la función numpy_financial.rate\n",
    "i_9c = npf.rate(n_9c, -PMT_9c, VA_9c, 0)\n",
    "\n",
    "print(i_9c)"
   ]
  },
  {
   "cell_type": "markdown",
   "metadata": {},
   "source": [
    "### Ejercicio 10\n",
    "\n",
    "Un banco le concede un préstamo hipotecario a una empresa de diez millones de euros, que implica pagar 1,095.472 € anuales durante 20 años. ¿Cuál es el tipo de interés compuesto que le están cargando a la empresa?\n",
    "\n",
    "Para encontrar el tipo de interés compuesto, utilizamos la fórmula de la anualidad:\n",
    "\n",
    "$$\n",
    "PV = PMT \\times \\frac{1 - (1 + r)^{-n}}{r}\n",
    "$$\n",
    "\n",
    "donde:\n",
    "\n",
    "$$\n",
    "PV\\ \n",
    "\\text{es el valor presente (10,000,000 €)}\\\n",
    "$$\n",
    "$$\n",
    "PMT\\ \n",
    "\\text{es el pago anual (1,095,472 €)}\\\n",
    "$$\n",
    "$$\n",
    "r\\ \n",
    "\\text{es la tasa de interés anual}\\\n",
    "$$\n",
    "$$\n",
    "n\\ \n",
    "\\text{es el número de pagos (20)}\n",
    "$$\n",
    "\n",
    "\n",
    "Podemos resolver esta ecuación para \\( r \\) utilizando una aproximación numérica."
   ]
  },
  {
   "cell_type": "code",
   "execution_count": 21,
   "metadata": {},
   "outputs": [
    {
     "data": {
      "text/plain": [
       "0.09000092871430432"
      ]
     },
     "execution_count": 21,
     "metadata": {},
     "output_type": "execute_result"
    }
   ],
   "source": [
    "from scipy.optimize import fsolve\n",
    "\n",
    "# Variables\n",
    "PV_10 = 10000000  # Préstamo en euros\n",
    "PMT_10 = 1095472  # Pago anual en euros\n",
    "n_10 = 20  # Número de pagos\n",
    "\n",
    "# Definimos la ecuación a resolver\n",
    "def equation(r):\n",
    "    return PMT_10 * (1 - (1 + r)**-n_10) / r - PV_10\n",
    "\n",
    "# Usamos fsolve para encontrar la tasa de interés\n",
    "r_10 = fsolve(equation, 0.05)[0]\n",
    "\n",
    "r_10"
   ]
  },
  {
   "cell_type": "markdown",
   "metadata": {},
   "source": [
    "### Ejercicio 11\n",
    "\n",
    "Luis se dispone a ir a la Universidad dentro de un año. Para sufragar sus gastos necesitará 10.000 € anuales durante cada uno de los cinco años que espera estar en ella. Su tío Rigoberto le ofrece darle la cantidad de dinero necesaria para que Luis pueda pagarse sus estudios. Dicha cantidad es depositada hoy en un banco a un tipo de interés anual del 8%.\n",
    "\n",
    "a) ¿Cuál es el montante de esa cantidad de dinero?\n",
    "\n",
    "Usamos la fórmula del valor presente de una anualidad:\n",
    "\n",
    "$$\n",
    "PV = PMT \\times \\frac{1 - (1 + r)^{-n}}{r}\n",
    "$$"
   ]
  },
  {
   "cell_type": "code",
   "execution_count": 22,
   "metadata": {},
   "outputs": [
    {
     "data": {
      "text/plain": [
       "39927.100370780885"
      ]
     },
     "execution_count": 22,
     "metadata": {},
     "output_type": "execute_result"
    }
   ],
   "source": [
    "# Variables\n",
    "PMT_11 = 10000  # Pago anual en euros\n",
    "r_11 = 0.08  # Tasa de interés anual\n",
    "n_11 = 5  # Número de pagos\n",
    "\n",
    "# Valor presente de la anualidad\n",
    "PV_11 = PMT_11 * (1 - (1 + r_11)**-n_11) / r_11\n",
    "\n",
    "PV_11"
   ]
  },
  {
   "cell_type": "markdown",
   "metadata": {},
   "source": [
    "b) Calcule cuál será el saldo en el banco de la suma depositada por el tío de Luis al final de cada año."
   ]
  },
  {
   "cell_type": "code",
   "execution_count": 23,
   "metadata": {},
   "outputs": [
    {
     "data": {
      "text/plain": [
       "[33121.268400443354,\n",
       " 25770.96987247881,\n",
       " 17832.647462277113,\n",
       " 9259.259259259277,\n",
       " 0.0]"
      ]
     },
     "execution_count": 23,
     "metadata": {},
     "output_type": "execute_result"
    }
   ],
   "source": [
    "# Saldo al final de cada año\n",
    "saldo_11 = [PV_11 * (1 + r_11)**t - PMT_11 * ((1 + r_11)**t - 1) / r_11 for t in range(1, n_11 + 1)]\n",
    "\n",
    "saldo_11"
   ]
  },
  {
   "cell_type": "markdown",
   "metadata": {},
   "source": [
    "### Ejercicio 12\n",
    "\n",
    "Si usted ha contraído un préstamo de 10.000 € a un interés anual del 10%, y lo va amortizando por cuotas de amortización constantes a lo largo de cinco años, indique los intereses que deberá pagar al final de cada año.\n",
    "\n",
    "Para encontrar los intereses pagados cada año, necesitamos calcular los pagos anuales y luego los intereses restantes."
   ]
  },
  {
   "cell_type": "code",
   "execution_count": 24,
   "metadata": {},
   "outputs": [
    {
     "data": {
      "text/plain": [
       "[-1398.1589163158656,\n",
       " -1180.1444693780595,\n",
       " -981.9495176164171,\n",
       " -801.7722887421976,\n",
       " -637.9748079474521]"
      ]
     },
     "execution_count": 24,
     "metadata": {},
     "output_type": "execute_result"
    }
   ],
   "source": [
    "# Variables\n",
    "PV_12 = 10000  # Préstamo en euros\n",
    "r_12 = 0.10  # Tasa de interés anual\n",
    "n_12 = 5  # Número de pagos\n",
    "\n",
    "# Pago anual\n",
    "PMT_12 = PV_12 * r_12 / (1 - (1 + r_12)**-n_12)\n",
    "\n",
    "# Intereses pagados cada año\n",
    "intereses_12 = [PV_12 * r_12 - PMT_12 * ((1 + r_12)**-t) for t in range(1, n_12 + 1)]\n",
    "\n",
    "intereses_12"
   ]
  },
  {
   "cell_type": "markdown",
   "metadata": {},
   "source": [
    "### Ejercicio 13\n",
    "\n",
    "En el caso del ejercicio anterior, supongamos que usted desea pagar una cantidad igual cada uno de los cinco años. Dicha cantidad comprenderá los intereses y la amortización del principal (se la conoce como anualidad). ¿Cuál sería el valor de esa cantidad?\n",
    "\n",
    "Esto ya lo hemos calculado en el ejercicio anterior:"
   ]
  },
  {
   "cell_type": "code",
   "execution_count": 25,
   "metadata": {},
   "outputs": [
    {
     "data": {
      "text/plain": [
       "2637.974807947452"
      ]
     },
     "execution_count": 25,
     "metadata": {},
     "output_type": "execute_result"
    }
   ],
   "source": [
    "PMT_12"
   ]
  },
  {
   "cell_type": "markdown",
   "metadata": {},
   "source": [
    "### Ejercicio 14\n",
    "\n",
    "Si usted deposita 150.000 € anualmente en una cuenta que le proporciona el 10% de interés anual, ¿cuánto tiempo necesitará usted para acumular un millón de euros?\n",
    "\n",
    "Para encontrar el número de años necesarios, usamos la fórmula del valor futuro de una anualidad:\n",
    "\n",
    "$$\n",
    "FV = PMT \\times \\frac{(1 + r)^n - 1}{r}\n",
    "$$\n",
    "\n",
    "Despejamos \\( n \\):\n",
    "\n",
    "$$\n",
    "n = \\frac{\\log \\left( \\frac{FV \\times r}{PMT} + 1 \\right)}{\\log(1 + r)} \n",
    "$$"
   ]
  },
  {
   "cell_type": "code",
   "execution_count": 26,
   "metadata": {},
   "outputs": [
    {
     "data": {
      "text/plain": [
       "5.359612423507469"
      ]
     },
     "execution_count": 26,
     "metadata": {},
     "output_type": "execute_result"
    }
   ],
   "source": [
    "import math\n",
    "\n",
    "# Variables\n",
    "PMT_14 = 150000  # Depósito anual en euros\n",
    "r_14 = 0.10  # Tasa de interés anual\n",
    "FV_14 = 1000000  # Valor futuro deseado en euros\n",
    "\n",
    "# Número de años necesarios\n",
    "n_14 = math.log((FV_14 * r_14 / PMT_14) + 1) / math.log(1 + r_14)\n",
    "\n",
    "n_14"
   ]
  },
  {
   "cell_type": "markdown",
   "metadata": {},
   "source": [
    "### Ejercicio 15\n",
    "\n",
    "Si usted tiene hoy día 20.000 € y las invierte en las siguientes condiciones, ¿cuál será su valor futuro dentro de cinco años?\n",
    "\n",
    "a) A un tipo de interés anual compuesto del 12%.\n",
    "\n",
    "$$\n",
    "VF = VA \\times (1 + i)^n\n",
    "$$"
   ]
  },
  {
   "cell_type": "code",
   "execution_count": 27,
   "metadata": {},
   "outputs": [
    {
     "data": {
      "text/plain": [
       "35246.83366400001"
      ]
     },
     "execution_count": 27,
     "metadata": {},
     "output_type": "execute_result"
    }
   ],
   "source": [
    "# Variables\n",
    "VA_15 = 20000  # Valor actual en euros\n",
    "i_15a = 0.12  # Tasa de interés anual\n",
    "n_15 = 5  # Número de años\n",
    "\n",
    "# Valor futuro\n",
    "VF_15a = VA_15 * (1 + i_15a) ** n_15\n",
    "\n",
    "VF_15a"
   ]
  },
  {
   "cell_type": "markdown",
   "metadata": {},
   "source": [
    "b) A un tipo de interés anual compuesto del 12% capitalizado semestralmente.\n",
    "\n",
    "$$\n",
    "VF = VA \\times \\left(1 + \\frac{i}{m}\\right)^{n \\times m}\n",
    "$$\n",
    "\n",
    "donde \\( m \\) es el número de periodos de capitalización por año (2 para semestralmente)."
   ]
  },
  {
   "cell_type": "code",
   "execution_count": 28,
   "metadata": {},
   "outputs": [
    {
     "data": {
      "text/plain": [
       "35816.95393085709"
      ]
     },
     "execution_count": 28,
     "metadata": {},
     "output_type": "execute_result"
    }
   ],
   "source": [
    "# Variables\n",
    "i_15b = 0.12  # Tasa de interés anual\n",
    "m_15b = 2  # Número de periodos de capitalización por año\n",
    "\n",
    "# Valor futuro\n",
    "VF_15b = VA_15 * (1 + i_15b / m_15b) ** (n_15 * m_15b)\n",
    "\n",
    "VF_15b"
   ]
  },
  {
   "cell_type": "markdown",
   "metadata": {},
   "source": [
    "c) A un tipo de interés anual compuesto del 12% capitalizado trimestralmente.\n",
    "\n",
    "donde \\( m \\) es el número de periodos de capitalización por año (4 para trimestralmente)."
   ]
  },
  {
   "cell_type": "code",
   "execution_count": 29,
   "metadata": {},
   "outputs": [
    {
     "data": {
      "text/plain": [
       "36122.2246933883"
      ]
     },
     "execution_count": 29,
     "metadata": {},
     "output_type": "execute_result"
    }
   ],
   "source": [
    "# Variables\n",
    "i_15c = 0.12  # Tasa de interés anual\n",
    "m_15c = 4  # Número de periodos de capitalización por año\n",
    "\n",
    "# Valor futuro\n",
    "VF_15c = VA_15 * (1 + i_15c / m_15c) ** (n_15 * m_15c)\n",
    "\n",
    "VF_15c"
   ]
  },
  {
   "cell_type": "markdown",
   "metadata": {},
   "source": [
    "d) A un tipo de interés anual compuesto del 12% capitalizado mensualmente.\n",
    "\n",
    "donde \\( m \\) es el número de periodos de capitalización por año (12 para mensualmente)."
   ]
  },
  {
   "cell_type": "code",
   "execution_count": 30,
   "metadata": {},
   "outputs": [
    {
     "data": {
      "text/plain": [
       "36333.933971281826"
      ]
     },
     "execution_count": 30,
     "metadata": {},
     "output_type": "execute_result"
    }
   ],
   "source": [
    "# Variables\n",
    "i_15d = 0.12  # Tasa de interés anual\n",
    "m_15d = 12  # Número de periodos de capitalización por año\n",
    "\n",
    "# Valor futuro\n",
    "VF_15d = VA_15 * (1 + i_15d / m_15d) ** (n_15 * m_15d)\n",
    "\n",
    "VF_15d"
   ]
  },
  {
   "cell_type": "markdown",
   "metadata": {},
   "source": [
    "### Ejercicio 16\n",
    "\n",
    "Si usted espera tener un millón de euros dentro de cinco años, calcule su valor actual en las siguientes condiciones, suponiendo que el tipo de descuento es del 10%:\n",
    "\n",
    "a) Calculado al interés compuesto anualmente.\n",
    "\n",
    "$$\n",
    "VA = \\frac{VF}{(1 + i)^n}\n",
    "$$"
   ]
  },
  {
   "cell_type": "code",
   "execution_count": 31,
   "metadata": {},
   "outputs": [
    {
     "data": {
      "text/plain": [
       "620921.3230591549"
      ]
     },
     "execution_count": 31,
     "metadata": {},
     "output_type": "execute_result"
    }
   ],
   "source": [
    "# Variables\n",
    "VF_16 = 1000000  # Valor futuro en euros\n",
    "i_16a = 0.10  # Tasa de interés anual\n",
    "n_16 = 5  # Número de años\n",
    "\n",
    "# Valor actual\n",
    "VA_16a = VF_16 / (1 + i_16a) ** n_16\n",
    "\n",
    "VA_16a"
   ]
  },
  {
   "cell_type": "markdown",
   "metadata": {},
   "source": [
    "b) Calculado al interés compuesto semestralmente.\n",
    "\n",
    "donde \\( m \\) es el número de periodos de capitalización por año (2 para semestralmente)."
   ]
  },
  {
   "cell_type": "code",
   "execution_count": 32,
   "metadata": {},
   "outputs": [
    {
     "data": {
      "text/plain": [
       "613913.2535407591"
      ]
     },
     "execution_count": 32,
     "metadata": {},
     "output_type": "execute_result"
    }
   ],
   "source": [
    "# Variables\n",
    "i_16b = 0.10  # Tasa de interés anual\n",
    "m_16b = 2  # Número de periodos de capitalización por año\n",
    "\n",
    "# Valor actual\n",
    "VA_16b = VF_16 / (1 + i_16b / m_16b) ** (n_16 * m_16b)\n",
    "\n",
    "VA_16b"
   ]
  },
  {
   "cell_type": "markdown",
   "metadata": {},
   "source": [
    "c) Calculado al interés compuesto trimestralmente.\n",
    "\n",
    "donde \\( m \\) es el número de periodos de capitalización por año (4 para trimestralmente)."
   ]
  },
  {
   "cell_type": "code",
   "execution_count": 33,
   "metadata": {},
   "outputs": [
    {
     "data": {
      "text/plain": [
       "610270.9428588309"
      ]
     },
     "execution_count": 33,
     "metadata": {},
     "output_type": "execute_result"
    }
   ],
   "source": [
    "# Variables\n",
    "i_16c = 0.10  # Tasa de interés anual\n",
    "m_16c = 4  # Número de periodos de capitalización por año\n",
    "\n",
    "# Valor actual\n",
    "VA_16c = VF_16 / (1 + i_16c / m_16c) ** (n_16 * m_16c)\n",
    "\n",
    "VA_16c"
   ]
  },
  {
   "cell_type": "markdown",
   "metadata": {},
   "source": [
    "d) Calculado al interés compuesto mensualmente.\n",
    "\n",
    "donde \\( m \\) es el número de periodos de capitalización por año (12 para mensualmente)."
   ]
  },
  {
   "cell_type": "code",
   "execution_count": 34,
   "metadata": {},
   "outputs": [
    {
     "data": {
      "text/plain": [
       "607788.5914687343"
      ]
     },
     "execution_count": 34,
     "metadata": {},
     "output_type": "execute_result"
    }
   ],
   "source": [
    "# Variables\n",
    "i_16d = 0.10  # Tasa de interés anual\n",
    "m_16d = 12  # Número de periodos de capitalización por año\n",
    "\n",
    "# Valor actual\n",
    "VA_16d = VF_16 / (1 + i_16d / m_16d) ** (n_16 * m_16d)\n",
    "\n",
    "VA_16d"
   ]
  },
  {
   "cell_type": "markdown",
   "metadata": {},
   "source": [
    "### Ejercicio 17\n",
    "\n",
    "a) El valor futuro de 20.000 € invertidos cada seis meses a lo largo de cinco años a un tipo nominal del 12% anual.\n",
    "\n",
    "$$\n",
    "VF = PMT \\times \\frac{(1 + i/m)^{n \\times m} - 1}{i/m}\n",
    "$$\n",
    "\n",
    "donde \\( m \\) es el número de periodos de capitalización por año (2 para semestralmente)."
   ]
  },
  {
   "cell_type": "code",
   "execution_count": 35,
   "metadata": {},
   "outputs": [
    {
     "data": {
      "text/plain": [
       "263615.8988476182"
      ]
     },
     "execution_count": 35,
     "metadata": {},
     "output_type": "execute_result"
    }
   ],
   "source": [
    "# Variables\n",
    "PMT_17a = 20000  # Depósito cada seis meses en euros\n",
    "i_17a = 0.12  # Tasa de interés anual\n",
    "n_17a = 5  # Número de años\n",
    "m_17a = 2  # Número de periodos de capitalización por año\n",
    "\n",
    "# Valor futuro\n",
    "VF_17a = PMT_17a * ((1 + i_17a / m_17a) ** (n_17a * m_17a) - 1) / (i_17a / m_17a)\n",
    "\n",
    "VF_17a"
   ]
  },
  {
   "cell_type": "markdown",
   "metadata": {},
   "source": [
    "b) El valor actual de 20.000 € invertidos cada tres meses durante cinco años a un tipo de interés nominal del 12% anual.\n",
    "\n",
    "$$\n",
    "VA = PMT \\times \\frac{1 - (1 + i/m)^{-n \\times m}}{i/m}\n",
    "$$\n",
    "\n",
    "donde \\( m \\) es el número de periodos de capitalización por año (4 para trimestralmente)."
   ]
  },
  {
   "cell_type": "code",
   "execution_count": 36,
   "metadata": {},
   "outputs": [
    {
     "data": {
      "text/plain": [
       "297549.49720911036"
      ]
     },
     "execution_count": 36,
     "metadata": {},
     "output_type": "execute_result"
    }
   ],
   "source": [
    "# Variables\n",
    "PMT_17b = 20000  # Depósito cada tres meses en euros\n",
    "i_17b = 0.12  # Tasa de interés anual\n",
    "n_17b = 5  # Número de años\n",
    "m_17b = 4  # Número de periodos de capitalización por año\n",
    "\n",
    "# Valor actual\n",
    "VA_17b = PMT_17b * (1 - (1 + i_17b / m_17b) ** -(n_17b * m_17b)) / (i_17b / m_17b)\n",
    "\n",
    "VA_17b"
   ]
  },
  {
   "cell_type": "markdown",
   "metadata": {},
   "source": [
    "### Ejercicio 18\n",
    "\n",
    "La Caja de Ahonos de Trijueque paga el 9% de interés anual, mientras que la Caja de El Toboso paga el 8% de interés anual capitalizado trimestralmente. ¿En qué Caja preferiría usted depositar su dinero?\n",
    "\n",
    "Calculamos el interés efectivo anual (EAR) para cada caja y comparamos.\n",
    "\n",
    "$$\n",
    "EAR = \\left(1 + \\frac{i}{m}\\right)^m - 1\n",
    "$$\n",
    "\n",
    "donde \\( m \\) es el número de periodos de capitalización por año."
   ]
  },
  {
   "cell_type": "code",
   "execution_count": 37,
   "metadata": {},
   "outputs": [
    {
     "data": {
      "text/plain": [
       "(0.09, 0.08243215999999998, True)"
      ]
     },
     "execution_count": 37,
     "metadata": {},
     "output_type": "execute_result"
    }
   ],
   "source": [
    "# Variables\n",
    "i_18_trijueque = 0.09  # Tasa de interés anual de Trijueque\n",
    "i_18_toboso = 0.08  # Tasa de interés anual de El Toboso\n",
    "m_18_toboso = 4  # Capitalización trimestral para El Toboso\n",
    "\n",
    "# Interés efectivo anual (EAR)\n",
    "EAR_trijueque = i_18_trijueque\n",
    "EAR_toboso = (1 + i_18_toboso / m_18_toboso) ** m_18_toboso - 1\n",
    "\n",
    "(EAR_trijueque, EAR_toboso, EAR_trijueque > EAR_toboso)"
   ]
  },
  {
   "cell_type": "markdown",
   "metadata": {},
   "source": [
    "### Ejercicio 19\n",
    "\n",
    "Una empresa necesita financiar un proyecto de inversión. Tres bancos le hacen las siguientes ofertas:\n",
    "- El primero le pide un 4,5% de interés nominal anual pagadero semestralmente.\n",
    "- El segundo le pide un 4,3% nominal anual pagadero mensualmente.\n",
    "- El tercero le pide un 4,25% nominal anual pagadero anualmente.\n",
    "\n",
    "Calculamos el interés efectivo anual (EAR) para cada oferta y comparamos.\n",
    "\n",
    "$$\n",
    "EAR = \\left(1 + \\frac{i}{m}\\right)^m - 1\n",
    "$$\n",
    "\n",
    "donde \\( m \\) es el número de periodos de capitalización por año."
   ]
  },
  {
   "cell_type": "code",
   "execution_count": 38,
   "metadata": {},
   "outputs": [
    {
     "data": {
      "text/plain": [
       "(0.04550624999999986,\n",
       " 0.043857662834188016,\n",
       " 0.04249999999999998,\n",
       " 0.04249999999999998)"
      ]
     },
     "execution_count": 38,
     "metadata": {},
     "output_type": "execute_result"
    }
   ],
   "source": [
    "# Variables\n",
    "i_19_1 = 0.045  # Tasa de interés nominal anual del primer banco\n",
    "i_19_2 = 0.043  # Tasa de interés nominal anual del segundo banco\n",
    "i_19_3 = 0.0425  # Tasa de interés nominal anual del tercer banco\n",
    "m_19_1 = 2  # Capitalización semestral\n",
    "m_19_2 = 12  # Capitalización mensual\n",
    "m_19_3 = 1  # Capitalización anual\n",
    "\n",
    "# Interés efectivo anual (EAR)\n",
    "EAR_19_1 = (1 + i_19_1 / m_19_1) ** m_19_1 - 1\n",
    "EAR_19_2 = (1 + i_19_2 / m_19_2) ** m_19_2 - 1\n",
    "EAR_19_3 = (1 + i_19_3 / m_19_3) ** m_19_3 - 1\n",
    "\n",
    "(EAR_19_1, EAR_19_2, EAR_19_3, min(EAR_19_1, EAR_19_2, EAR_19_3))"
   ]
  },
  {
   "cell_type": "markdown",
   "metadata": {},
   "source": [
    "## Referencias\n",
    "\n",
    "Mascareñas, J. (2013). El valor temporal del dinero. Monografías de Juan Mascareñas sobre Finanzas Corporativas. https://doi.org/10.2139/ssrn.2312111\n",
    "\n",
    "Yo, Luis Paulo Vinatea Barberena, usé el contenido de esta publicación y la ayuda de ChatGPT de OpenAI para elaborar un manual de soluciones en Python para los ejercícios."
   ]
  }
 ],
 "metadata": {
  "kernelspec": {
   "display_name": "Python 3 (ipykernel)",
   "language": "python",
   "name": "python3"
  },
  "language_info": {
   "codemirror_mode": {
    "name": "ipython",
    "version": 3
   },
   "file_extension": ".py",
   "mimetype": "text/x-python",
   "name": "python",
   "nbconvert_exporter": "python",
   "pygments_lexer": "ipython3",
   "version": "3.12.4"
  }
 },
 "nbformat": 4,
 "nbformat_minor": 4
}
