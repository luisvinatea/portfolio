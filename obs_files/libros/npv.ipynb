{
 "cells": [
  {
   "cell_type": "code",
   "execution_count": 17,
   "metadata": {},
   "outputs": [],
   "source": [
    "import numpy_financial as npf\n",
    "from datetime import datetime\n",
    "import numpy as np\n"
   ]
  },
  {
   "cell_type": "code",
   "execution_count": 19,
   "metadata": {},
   "outputs": [],
   "source": [
    "\n",
    "def future_value(rate, nper, pv, pmt=0):\n",
    "    \"\"\"\n",
    "    Calculate future value of an investment or annuity using numpy_financial.\n",
    "    \n",
    "    rate: Interest rate per period\n",
    "    nper: Number of periods\n",
    "    pv: Present value (negative as outflow)\n",
    "    pmt: Payment amount per period (default is 0)\n",
    "    \"\"\"\n",
    "    return npf.fv(rate, nper, pmt, pv)\n"
   ]
  },
  {
   "cell_type": "code",
   "execution_count": 7,
   "metadata": {},
   "outputs": [],
   "source": [
    "def present_value(rate, nper, pmt, fv=0):\n",
    "    \"\"\"\n",
    "    Calculate present value of an investment or series of future payments using numpy_financial.\n",
    "    \n",
    "    rate: Interest rate per period\n",
    "    nper: Number of periods\n",
    "    pmt: Payment amount per period\n",
    "    fv: Future value (default is 0)\n",
    "    \"\"\"\n",
    "    return npf.pv(rate, nper, pmt, fv)\n"
   ]
  },
  {
   "cell_type": "code",
   "execution_count": 20,
   "metadata": {},
   "outputs": [],
   "source": [
    "def interest_rate(nper, pmt, pv, fv, guess=0.1):\n",
    "    \"\"\"\n",
    "    Calculate the interest rate given the number of periods, payment, and present/future values using numpy_financial.\n",
    "    \n",
    "    nper: Number of periods\n",
    "    pmt: Payment amount per period\n",
    "    pv: Present value (negative as outflow)\n",
    "    fv: Future value\n",
    "    guess: Initial guess for the rate\n",
    "    \"\"\"\n",
    "    return npf.rate(nper, pmt, pv, fv, guess=guess)\n"
   ]
  },
  {
   "cell_type": "code",
   "execution_count": 21,
   "metadata": {},
   "outputs": [],
   "source": [
    "def number_of_periods(rate, pmt, pv, fv):\n",
    "    \"\"\"\n",
    "    Calculate the number of periods for an investment to grow to a given future value using numpy_financial.\n",
    "    \n",
    "    rate: Interest rate per period\n",
    "    pmt: Payment amount per period\n",
    "    pv: Present value (negative as outflow)\n",
    "    fv: Future value\n",
    "    \"\"\"\n",
    "    return npf.nper(rate, pmt, pv, fv)\n"
   ]
  },
  {
   "cell_type": "code",
   "execution_count": 22,
   "metadata": {},
   "outputs": [],
   "source": [
    "def payment_amount(rate, nper, pv, fv=0):\n",
    "    \"\"\"\n",
    "    Calculate the payment amount for a loan or mortgage using numpy_financial.\n",
    "    \n",
    "    rate: Interest rate per period\n",
    "    nper: Number of periods\n",
    "    pv: Present value (loan amount)\n",
    "    fv: Future value (default is 0)\n",
    "    \"\"\"\n",
    "    return npf.pmt(rate, nper, pv, fv)\n"
   ]
  },
  {
   "cell_type": "code",
   "execution_count": 23,
   "metadata": {},
   "outputs": [],
   "source": [
    "def xnpv(rate, cashflows):\n",
    "    \"\"\"\n",
    "    Calculate NPV for a series of irregular cash flows at given times using custom implementation.\n",
    "    \n",
    "    rate: Discount rate\n",
    "    cashflows: List of tuples (date, cashflow) where date is a datetime object and cashflow is the amount\n",
    "    \"\"\"\n",
    "    return sum([cf / (1 + rate) ** ((d - cashflows[0][0]).days / 365) for d, cf in cashflows])\n"
   ]
  },
  {
   "cell_type": "code",
   "execution_count": 24,
   "metadata": {},
   "outputs": [],
   "source": [
    "def effective_rate(nominal_rate, npery):\n",
    "    \"\"\"\n",
    "    Calculate the effective annual interest rate given a nominal rate.\n",
    "    \n",
    "    nominal_rate: Nominal annual rate\n",
    "    npery: Number of compounding periods per year\n",
    "    \"\"\"\n",
    "    return (1 + nominal_rate / npery) ** npery - 1\n"
   ]
  },
  {
   "cell_type": "code",
   "execution_count": 25,
   "metadata": {},
   "outputs": [],
   "source": [
    "def nominal_rate(effect_rate, npery):\n",
    "    \"\"\"\n",
    "    Calculate the nominal interest rate given the effective annual rate and number of compounding periods.\n",
    "    \n",
    "    effect_rate: Effective annual rate\n",
    "    npery: Number of compounding periods per year\n",
    "    \"\"\"\n",
    "    return npery * ((1 + effect_rate) ** (1 / npery) - 1)\n"
   ]
  },
  {
   "cell_type": "markdown",
   "metadata": {},
   "source": [
    "### Problem 1\n",
    "**Question**: At an interest rate of 12%, the six-year discount factor is 0.507. How many dollars is $0.507 worth in six years if invested at 12%?\n",
    "\n",
    "This is a future value calculation, where the present value (PV) is \\$0.507, the interest rate is 12%, and the period is 6 years. We're solving for the future value (FV).\n"
   ]
  },
  {
   "cell_type": "code",
   "execution_count": 26,
   "metadata": {},
   "outputs": [
    {
     "name": "stdout",
     "output_type": "stream",
     "text": [
      "Future value in 6 years: $1.00\n"
     ]
    }
   ],
   "source": [
    "fv_value_1 = future_value(0.12, 6, -0.507)\n",
    "print(f\"Future value in 6 years: ${fv_value_1:.2f}\")\n"
   ]
  },
  {
   "cell_type": "markdown",
   "metadata": {},
   "source": [
    "### Problem 2\n",
    "**Question**: If the PV of \\$139 is \\$125, what is the discount factor?\n",
    "\n",
    "The discount factor is calculated as the present value divided by the future value.\n",
    "\n"
   ]
  },
  {
   "cell_type": "code",
   "execution_count": 27,
   "metadata": {},
   "outputs": [
    {
     "name": "stdout",
     "output_type": "stream",
     "text": [
      "Discount factor: 0.899\n"
     ]
    }
   ],
   "source": [
    "pv = 125\n",
    "fv = 139\n",
    "discount_factor_2 = pv / fv\n",
    "print(f\"Discount factor: {discount_factor_2:.3f}\")\n"
   ]
  },
  {
   "cell_type": "markdown",
   "metadata": {},
   "source": [
    "### Problem 3\n",
    "**Question**: If the cost of capital is 9%, what is the PV of \\$374 paid in year 9?\n",
    "\n",
    "This is a present value (PV) calculation, where the future value is \\$374, the period is 9 years, and the interest rate is 9%.\n"
   ]
  },
  {
   "cell_type": "code",
   "execution_count": 28,
   "metadata": {},
   "outputs": [
    {
     "name": "stdout",
     "output_type": "stream",
     "text": [
      "Present value: $-172.20\n"
     ]
    }
   ],
   "source": [
    "pv_value_3 = present_value(0.09, 9, 0, 374)\n",
    "print(f\"Present value: ${pv_value_3:.2f}\")\n"
   ]
  },
  {
   "cell_type": "markdown",
   "metadata": {},
   "source": [
    "### Problem 4\n",
    "**Question**: A project produces a cash flow of \\$432 in year 1, \\$137 in year 2, and \\$797 in year 3. If the cost of capital is 15%, what is the project’s PV?\n",
    "\n",
    "We need to discount each cash flow individually and sum them to find the total present value.\n"
   ]
  },
  {
   "cell_type": "code",
   "execution_count": 29,
   "metadata": {},
   "outputs": [
    {
     "name": "stdout",
     "output_type": "stream",
     "text": [
      "Project PV: $1003.28\n"
     ]
    }
   ],
   "source": [
    "cashflows = [(1, 432), (2, 137), (3, 797)]\n",
    "cost_of_capital = 0.15\n",
    "pv_value_4 = sum([cf / (1 + cost_of_capital) ** t for t, cf in cashflows])\n",
    "print(f\"Project PV: ${pv_value_4:.2f}\")\n"
   ]
  },
  {
   "cell_type": "markdown",
   "metadata": {},
   "source": [
    "### Problem 5\n",
    "**Question**: If you invest \\$100 at an interest rate of 15%, how much will you have at the end of eight years?\n",
    "\n",
    "This is a future value calculation, where the present value is \\$100, the period is 8 years, and the interest rate is 15%.\n"
   ]
  },
  {
   "cell_type": "code",
   "execution_count": 30,
   "metadata": {},
   "outputs": [
    {
     "name": "stdout",
     "output_type": "stream",
     "text": [
      "Future value after 8 years: $305.90\n"
     ]
    }
   ],
   "source": [
    "fv_value_5 = future_value(0.15, 8, -100)\n",
    "print(f\"Future value after 8 years: ${fv_value_5:.2f}\")\n"
   ]
  },
  {
   "cell_type": "markdown",
   "metadata": {},
   "source": [
    "### Problem 6\n",
    "**Question**: An investment costs \\$1,548 and pays \\$138 in perpetuity. If the interest rate is 9%, what is the NPV?\n",
    "\n",
    "For perpetuity, the formula is NPV = Cash Flow / Interest Rate.\n"
   ]
  },
  {
   "cell_type": "code",
   "execution_count": 31,
   "metadata": {},
   "outputs": [
    {
     "name": "stdout",
     "output_type": "stream",
     "text": [
      "NPV of the investment: $-14.67\n"
     ]
    }
   ],
   "source": [
    "investment = 1548\n",
    "cashflow = 138\n",
    "interest_rate = 0.09\n",
    "npv_value_6 = cashflow / interest_rate - investment\n",
    "print(f\"NPV of the investment: ${npv_value_6:.2f}\")\n"
   ]
  },
  {
   "cell_type": "markdown",
   "metadata": {},
   "source": [
    "### Problem 7\n",
    "**Question**: A common stock will pay a cash dividend of \\$4 next year. After that, the dividends are expected to increase indefinitely at 4% per year. If the discount rate is 14%, what is the PV of the stream of dividend payments?\n",
    "\n",
    "This is a growing perpetuity, where the formula is PV = D / (r - g), where D is the next dividend, r is the discount rate, and g is the growth rate.\n"
   ]
  },
  {
   "cell_type": "code",
   "execution_count": 32,
   "metadata": {},
   "outputs": [
    {
     "name": "stdout",
     "output_type": "stream",
     "text": [
      "PV of dividend payments: $40.00\n"
     ]
    }
   ],
   "source": [
    "dividend = 4\n",
    "discount_rate = 0.14\n",
    "growth_rate = 0.04\n",
    "pv_value_7 = dividend / (discount_rate - growth_rate)\n",
    "print(f\"PV of dividend payments: ${pv_value_7:.2f}\")\n"
   ]
  },
  {
   "cell_type": "markdown",
   "metadata": {},
   "source": [
    "### Problem 8\n",
    "#### Part A\n",
    "**Question**: What is the PV of an asset that pays \\$1 a year in perpetuity if the interest rate is 10%?\n",
    "\n",
    "For a perpetuity, the formula is PV = Cash Flow / Interest Rate.\n"
   ]
  },
  {
   "cell_type": "code",
   "execution_count": 33,
   "metadata": {},
   "outputs": [
    {
     "name": "stdout",
     "output_type": "stream",
     "text": [
      "PV of perpetuity: $10.00\n"
     ]
    }
   ],
   "source": [
    "cashflow_8a = 1\n",
    "interest_rate_8a = 0.10\n",
    "pv_value_8a = cashflow_8a / interest_rate_8a\n",
    "print(f\"PV of perpetuity: ${pv_value_8a:.2f}\")\n"
   ]
  },
  {
   "cell_type": "markdown",
   "metadata": {},
   "source": [
    "\n",
    "#### Part B\n",
    "**Question**: What is the approximate PV of an asset that pays \\$1 a year in perpetuity beginning in year 8?\n",
    "\n",
    "This is a deferred perpetuity, where we discount back to the present the value of the perpetuity starting in year 8.\n"
   ]
  },
  {
   "cell_type": "code",
   "execution_count": 34,
   "metadata": {},
   "outputs": [
    {
     "name": "stdout",
     "output_type": "stream",
     "text": [
      "Deferred PV of perpetuity: $5.13\n"
     ]
    }
   ],
   "source": [
    "deferred_pv_8b = cashflow_8a / interest_rate_8a / (1 + interest_rate_8a) ** 7\n",
    "print(f\"Deferred PV of perpetuity: ${deferred_pv_8b:.2f}\")\n"
   ]
  },
  {
   "cell_type": "markdown",
   "metadata": {},
   "source": [
    "\n",
    "#### Part C\n",
    "**Question**: What is the approximate PV of an asset that pays \\$1 a year for each of the next seven years?\n",
    "\n",
    "This is an annuity calculation.\n"
   ]
  },
  {
   "cell_type": "code",
   "execution_count": 35,
   "metadata": {},
   "outputs": [
    {
     "name": "stdout",
     "output_type": "stream",
     "text": [
      "PV of 7-year annuity: $4.87\n"
     ]
    }
   ],
   "source": [
    "pv_value_8c = sum([1 / (1 + interest_rate_8a) ** t for t in range(1, 8)])\n",
    "print(f\"PV of 7-year annuity: ${pv_value_8c:.2f}\")\n"
   ]
  },
  {
   "cell_type": "markdown",
   "metadata": {},
   "source": [
    "\n",
    "#### Part D\n",
    "**Question**: A piece of land produces an income that grows by 5% per annum. If the first year’s income is \\$10,000, what is the value of the land?\n",
    "\n",
    "This is a growing perpetuity, where the formula is PV = C / (r - g).\n"
   ]
  },
  {
   "cell_type": "code",
   "execution_count": 36,
   "metadata": {},
   "outputs": [
    {
     "name": "stdout",
     "output_type": "stream",
     "text": [
      "Value of the land: $200000.00\n"
     ]
    }
   ],
   "source": [
    "first_year_income = 10000\n",
    "growth_rate_8d = 0.05\n",
    "interest_rate_8d = 0.10\n",
    "pv_value_8d = first_year_income / (interest_rate_8d - growth_rate_8d)\n",
    "print(f\"Value of the land: ${pv_value_8d:.2f}\")\n"
   ]
  },
  {
   "cell_type": "markdown",
   "metadata": {},
   "source": [
    "### Problem 9\n",
    "#### Part A\n",
    "**Question**: The cost of a new automobile is \\$10,000. If the interest rate is 5%, how much would you have to set aside now to provide this sum in five years?\n",
    "\n",
    "This is a present value calculation.\n"
   ]
  },
  {
   "cell_type": "code",
   "execution_count": 37,
   "metadata": {},
   "outputs": [
    {
     "name": "stdout",
     "output_type": "stream",
     "text": [
      "Amount to set aside: $-7835.26\n"
     ]
    }
   ],
   "source": [
    "pv_value_9a = present_value(0.05, 5, 0, 10000)\n",
    "print(f\"Amount to set aside: ${pv_value_9a:.2f}\")\n"
   ]
  },
  {
   "cell_type": "markdown",
   "metadata": {},
   "source": [
    "\n",
    "#### Part B\n",
    "**Question**: You have to pay \\$12,000 a year in school fees at the end of each of the next six years. If the interest rate is 8%, how much do you need to set aside today to cover these bills?\n",
    "\n",
    "This is a present value of annuity calculation.\n"
   ]
  },
  {
   "cell_type": "code",
   "execution_count": 38,
   "metadata": {},
   "outputs": [
    {
     "name": "stdout",
     "output_type": "stream",
     "text": [
      "Amount to set aside for school fees: $55474.56\n"
     ]
    }
   ],
   "source": [
    "pv_value_9b = present_value(0.08, 6, -12000)\n",
    "print(f\"Amount to set aside for school fees: ${pv_value_9b:.2f}\")\n"
   ]
  },
  {
   "cell_type": "markdown",
   "metadata": {},
   "source": [
    "\n",
    "#### Part C\n",
    "**Question**: You have invested \\$60,476 at 8%. After paying the above school fees, how much would remain at the end of the six years?\n"
   ]
  },
  {
   "cell_type": "code",
   "execution_count": 39,
   "metadata": {},
   "outputs": [
    {
     "name": "stdout",
     "output_type": "stream",
     "text": [
      "Remaining amount: $-183998.96\n"
     ]
    }
   ],
   "source": [
    "remaining_amount_9c = future_value(0.08, 6, pv_value_9b + 60476)\n",
    "print(f\"Remaining amount: ${remaining_amount_9c:.2f}\")\n"
   ]
  },
  {
   "cell_type": "markdown",
   "metadata": {},
   "source": [
    "### Problem 10\n",
    "**Continuous Compounding Problems**\n",
    "\n",
    "We use the continuous compounding formula for all parts.\n",
    "\n",
    "#### Part A\n",
    "**Question**: You invest \\$1,000 at a continuously compounded rate of 12%. What is the investment worth after five years?\n"
   ]
  },
  {
   "cell_type": "code",
   "execution_count": 40,
   "metadata": {},
   "outputs": [
    {
     "name": "stdout",
     "output_type": "stream",
     "text": [
      "Value after 5 years with continuous compounding: $1822.12\n"
     ]
    }
   ],
   "source": [
    "fv_continuous_10a = 1000 * np.exp(0.12 * 5)\n",
    "print(f\"Value after 5 years with continuous compounding: ${fv_continuous_10a:.2f}\")\n"
   ]
  },
  {
   "cell_type": "markdown",
   "metadata": {},
   "source": [
    "\n",
    "#### Part B\n",
    "**Question**: What is the PV of \\$5 million to be received in eight years with continuous compounding?\n"
   ]
  },
  {
   "cell_type": "code",
   "execution_count": 41,
   "metadata": {},
   "outputs": [
    {
     "name": "stdout",
     "output_type": "stream",
     "text": [
      "PV of \\$5 million in 8 years: $1914464.43\n"
     ]
    }
   ],
   "source": [
    "pv_continuous_10b = 5000000 / np.exp(0.12 * 8)\n",
    "print(f\"PV of \\$5 million in 8 years: ${pv_continuous_10b:.2f}\")\n"
   ]
  },
  {
   "cell_type": "markdown",
   "metadata": {},
   "source": [
    "\n",
    "#### Part C\n",
    "**Question**: What is the PV of a continuous stream of cash flows amounting to \\$2,000 per year for 15 years starting immediately?\n"
   ]
  },
  {
   "cell_type": "code",
   "execution_count": 42,
   "metadata": {},
   "outputs": [
    {
     "name": "stdout",
     "output_type": "stream",
     "text": [
      "PV of continuous cash flows: $13911.69\n"
     ]
    }
   ],
   "source": [
    "\n",
    "pv_continuous_10c = 2000 * (1 - np.exp(-0.12 * 15)) / 0.12\n",
    "print(f\"PV of continuous cash flows: ${pv_continuous_10c:.2f}\")\n"
   ]
  },
  {
   "cell_type": "markdown",
   "metadata": {},
   "source": [
    "### Problem 11\n",
    "#### Part A\n",
    "**Question**: What is the value of your investment after four years if interest is compounded annually at 6%?\n",
    "\n"
   ]
  },
  {
   "cell_type": "code",
   "execution_count": 43,
   "metadata": {},
   "outputs": [
    {
     "name": "stdout",
     "output_type": "stream",
     "text": [
      "Value after 4 years (annually): $12624769.60\n"
     ]
    }
   ],
   "source": [
    "fv_11a = future_value(0.06, 4, -10000000)\n",
    "print(f\"Value after 4 years (annually): ${fv_11a:.2f}\")\n"
   ]
  },
  {
   "cell_type": "markdown",
   "metadata": {},
   "source": [
    "#### Part B\n",
    "**Question**: What is the value of your investment after four years if interest is compounded monthly at 6%?\n",
    "\n"
   ]
  },
  {
   "cell_type": "code",
   "execution_count": 44,
   "metadata": {},
   "outputs": [
    {
     "name": "stdout",
     "output_type": "stream",
     "text": [
      "Value after 4 years (monthly): $12704891.61\n"
     ]
    }
   ],
   "source": [
    "fv_11b = future_value(0.06 / 12, 4 * 12, -10000000)\n",
    "print(f\"Value after 4 years (monthly): ${fv_11b:.2f}\")\n"
   ]
  },
  {
   "cell_type": "markdown",
   "metadata": {},
   "source": [
    "#### Part C\n",
    "**Question**: What is the value of your investment after four years if interest is compounded continuously at 6%?\n"
   ]
  },
  {
   "cell_type": "code",
   "execution_count": 45,
   "metadata": {},
   "outputs": [
    {
     "name": "stdout",
     "output_type": "stream",
     "text": [
      "Value after 4 years (continuously): $12712491.50\n"
     ]
    }
   ],
   "source": [
    "fv_11c = 10000000 * np.exp(0.06 * 4)\n",
    "print(f\"Value after 4 years (continuously): ${fv_11c:.2f}\")\n"
   ]
  },
  {
   "cell_type": "markdown",
   "metadata": {},
   "source": [
    "### Problem 12\n",
    "**Question**: What is the PV of \\$100 received in:\n",
    "- **a**: Year 10 (at a discount rate of 1%)?\n",
    "- **b**: Year 10 (at a discount rate of 13%)?\n",
    "- **c**: Year 15 (at a discount rate of 25%)?\n",
    "- **d**: Each of years 1 through 3 (at a discount rate of 12%)?\n",
    "\n",
    "We'll use the present value formula to solve each of these sub-problems.\n"
   ]
  },
  {
   "cell_type": "code",
   "execution_count": 46,
   "metadata": {},
   "outputs": [
    {
     "name": "stdout",
     "output_type": "stream",
     "text": [
      "PV of $100 in year 10 at 1%: $-90.53\n",
      "PV of $100 in year 10 at 13%: $-29.46\n",
      "PV of $100 in year 15 at 25%: $-3.52\n",
      "PV of $100 received in years 1 through 3 at 12%: $-240.18\n"
     ]
    }
   ],
   "source": [
    "# Part a: Year 10 at 1% discount rate\n",
    "pv_12a = present_value(0.01, 10, 0, 100)\n",
    "print(f\"PV of $100 in year 10 at 1%: ${pv_12a:.2f}\")\n",
    "\n",
    "# Part b: Year 10 at 13% discount rate\n",
    "pv_12b = present_value(0.13, 10, 0, 100)\n",
    "print(f\"PV of $100 in year 10 at 13%: ${pv_12b:.2f}\")\n",
    "\n",
    "# Part c: Year 15 at 25% discount rate\n",
    "pv_12c = present_value(0.25, 15, 0, 100)\n",
    "print(f\"PV of $100 in year 15 at 25%: ${pv_12c:.2f}\")\n",
    "\n",
    "# Part d: Each of years 1 through 3 at 12% discount rate\n",
    "pv_12d = sum([present_value(0.12, t, 0, 100) for t in range(1, 4)])\n",
    "print(f\"PV of $100 received in years 1 through 3 at 12%: ${pv_12d:.2f}\")\n"
   ]
  },
  {
   "cell_type": "markdown",
   "metadata": {},
   "source": [
    "### Problem 13\n",
    "**a**: If the one-year discount factor is 0.905, what is the one-year interest rate?\n",
    "\n",
    "The discount factor formula is:  \n",
    "$ \\text{Discount Factor} = \\frac{1}{(1 + r)} $\n",
    "We can rearrange this to solve for $ r $:  \n",
    "$ r = \\frac{1}{\\text{Discount Factor}} - 1 $\n"
   ]
  },
  {
   "cell_type": "code",
   "execution_count": 47,
   "metadata": {},
   "outputs": [
    {
     "name": "stdout",
     "output_type": "stream",
     "text": [
      "One-year interest rate: 10.50%\n"
     ]
    }
   ],
   "source": [
    "discount_factor_13a = 0.905\n",
    "interest_rate_13a = (1 / discount_factor_13a) - 1\n",
    "print(f\"One-year interest rate: {interest_rate_13a:.2%}\")\n"
   ]
  },
  {
   "cell_type": "markdown",
   "metadata": {},
   "source": [
    "**b**: If the two-year interest rate is 10.5%, what is the two-year discount factor?\n",
    "\n",
    "The discount factor is:  \n",
    "$ \\text{Discount Factor} = \\frac{1}{(1 + r)^{n}} $\n"
   ]
  },
  {
   "cell_type": "code",
   "execution_count": 48,
   "metadata": {},
   "outputs": [
    {
     "name": "stdout",
     "output_type": "stream",
     "text": [
      "Two-year discount factor: 0.819\n"
     ]
    }
   ],
   "source": [
    "interest_rate_13b = 0.105\n",
    "discount_factor_13b = 1 / (1 + interest_rate_13b) ** 2\n",
    "print(f\"Two-year discount factor: {discount_factor_13b:.3f}\")\n"
   ]
  },
  {
   "cell_type": "markdown",
   "metadata": {},
   "source": [
    "**c**: Given these one- and two-year discount factors, calculate the two-year annuity factor.\n",
    "\n",
    "The annuity factor is the sum of discount factors over the two years.\n"
   ]
  },
  {
   "cell_type": "code",
   "execution_count": 49,
   "metadata": {},
   "outputs": [
    {
     "name": "stdout",
     "output_type": "stream",
     "text": [
      "Two-year annuity factor: 1.724\n"
     ]
    }
   ],
   "source": [
    "annuity_factor_13c = discount_factor_13a + discount_factor_13b\n",
    "print(f\"Two-year annuity factor: {annuity_factor_13c:.3f}\")\n"
   ]
  },
  {
   "cell_type": "markdown",
   "metadata": {},
   "source": [
    "**d**: If the PV of \\$10 a year for three years is \\$24.65, what is the three-year annuity factor?\n",
    "\n",
    "The annuity factor is the present value divided by the cash flow.\n"
   ]
  },
  {
   "cell_type": "code",
   "execution_count": 50,
   "metadata": {},
   "outputs": [
    {
     "name": "stdout",
     "output_type": "stream",
     "text": [
      "Three-year annuity factor: 2.465\n"
     ]
    }
   ],
   "source": [
    "pv_13d = 24.65\n",
    "cashflow_13d = 10\n",
    "annuity_factor_13d = pv_13d / cashflow_13d\n",
    "print(f\"Three-year annuity factor: {annuity_factor_13d:.3f}\")\n"
   ]
  },
  {
   "cell_type": "markdown",
   "metadata": {},
   "source": [
    "\n",
    "**e**: From your answers to (c) and (d), calculate the three-year discount factor.\n",
    "\n",
    "The three-year discount factor is the difference between the three-year and two-year annuity factors.\n"
   ]
  },
  {
   "cell_type": "code",
   "execution_count": 51,
   "metadata": {},
   "outputs": [
    {
     "name": "stdout",
     "output_type": "stream",
     "text": [
      "Three-year discount factor: 0.741\n"
     ]
    }
   ],
   "source": [
    "three_year_discount_factor_13e = annuity_factor_13d - annuity_factor_13c\n",
    "print(f\"Three-year discount factor: {three_year_discount_factor_13e:.3f}\")\n"
   ]
  },
  {
   "cell_type": "markdown",
   "metadata": {},
   "source": [
    "\n",
    "### Problem 14\n",
    "**Question**: A factory costs \\$800,000 and produces an inflow of \\$170,000 a year for 10 years. If the opportunity cost of capital is 14%, what is the net present value of the factory?\n",
    "\n",
    "We'll use the present value of an annuity formula for this.\n",
    "\n"
   ]
  },
  {
   "cell_type": "code",
   "execution_count": 52,
   "metadata": {},
   "outputs": [
    {
     "name": "stdout",
     "output_type": "stream",
     "text": [
      "Net Present Value of the factory: $86739.66\n"
     ]
    }
   ],
   "source": [
    "cost_of_factory = 800000\n",
    "cashflow_14 = 170000\n",
    "years_14 = 10\n",
    "discount_rate_14 = 0.14\n",
    "\n",
    "# Present value of the cash flows\n",
    "pv_cashflows_14 = present_value(discount_rate_14, years_14, -cashflow_14)\n",
    "\n",
    "# Net Present Value (NPV) is cashflow PV minus the initial cost\n",
    "npv_14 = pv_cashflows_14 - cost_of_factory\n",
    "print(f\"Net Present Value of the factory: ${npv_14:.2f}\")\n"
   ]
  },
  {
   "cell_type": "markdown",
   "metadata": {},
   "source": [
    "**Follow-up**: What will the factory be worth at the end of five years?\n",
    "\n",
    "We need to calculate the present value of the remaining five years of cash flows after year 5.\n",
    "\n"
   ]
  },
  {
   "cell_type": "code",
   "execution_count": 53,
   "metadata": {},
   "outputs": [
    {
     "name": "stdout",
     "output_type": "stream",
     "text": [
      "Factory worth at end of 5 years: $583623.76\n"
     ]
    }
   ],
   "source": [
    "pv_remaining_14 = present_value(discount_rate_14, 5, -cashflow_14)\n",
    "print(f\"Factory worth at end of 5 years: ${pv_remaining_14:.2f}\")\n"
   ]
  },
  {
   "cell_type": "markdown",
   "metadata": {},
   "source": [
    "### Problem 15\n",
    "**Question**: A machine costs \\$380,000 and produces the following cash flows:\n",
    "\n",
    "Year 1-10: Cash flows $[50k, 57k, 75k, 80k, 85k, 92k, 92k, 80k, 68k, 50k]$. If the cost of capital is 12%, what is the machine’s NPV?\n",
    "\n",
    "We'll discount each cash flow separately and sum them to find the NPV.\n"
   ]
  },
  {
   "cell_type": "code",
   "execution_count": 55,
   "metadata": {},
   "outputs": [
    {
     "name": "stdout",
     "output_type": "stream",
     "text": [
      "NPV of the machine: $23696.15\n"
     ]
    }
   ],
   "source": [
    "machine_cost = 380000\n",
    "cashflows_15 = [50000, 57000, 75000, 80000, 85000, 92000, 92000, 80000, 68000, 50000]\n",
    "discount_rate_15 = 0.12\n",
    "\n",
    "# Calculate NPV by summing the present value of each cash flow\n",
    "npv_15 = sum([cf / (1 + discount_rate_15) ** t for t, cf in enumerate(cashflows_15, start=1)]) - machine_cost\n",
    "print(f\"NPV of the machine: ${npv_15:.2f}\")\n"
   ]
  },
  {
   "cell_type": "markdown",
   "metadata": {},
   "source": [
    "### Problem 16\n",
    "**Question**: Mike forecasts that his salary will increase at a steady rate of 5% per annum. If the discount rate is 8%, what is the PV of these future salary payments?\n",
    "\n",
    "This is a growing annuity calculation.\n"
   ]
  },
  {
   "cell_type": "code",
   "execution_count": 57,
   "metadata": {},
   "outputs": [
    {
     "name": "stdout",
     "output_type": "stream",
     "text": [
      "PV of future salary payments: $760662.53\n"
     ]
    }
   ],
   "source": [
    "initial_salary = 40000\n",
    "growth_rate_16 = 0.05\n",
    "discount_rate_16 = 0.08\n",
    "years_to_retirement_16 = 60 - 30\n",
    "\n",
    "# PV of growing annuity\n",
    "pv_salary_16 = initial_salary * ((1 - ((1 + growth_rate_16) / (1 + discount_rate_16)) ** years_to_retirement_16) / (discount_rate_16 - growth_rate_16))\n",
    "print(f\"PV of future salary payments: ${pv_salary_16:.2f}\")\n"
   ]
  },
  {
   "cell_type": "markdown",
   "metadata": {},
   "source": [
    "**Follow-up**: If Mike saves 5% of his salary and invests these savings at an interest rate of 8%, how much will he have saved by age 60?\n",
    "\n",
    "We need to calculate the future value of a growing annuity.\n"
   ]
  },
  {
   "cell_type": "code",
   "execution_count": 58,
   "metadata": {},
   "outputs": [
    {
     "name": "stdout",
     "output_type": "stream",
     "text": [
      "Future value of savings: $132877.70\n"
     ]
    }
   ],
   "source": [
    "savings_rate_16 = 0.05\n",
    "fv_savings_16 = savings_rate_16 * initial_salary * ((1 + growth_rate_16) ** years_to_retirement_16 - 1) / (growth_rate_16)\n",
    "print(f\"Future value of savings: ${fv_savings_16:.2f}\")\n"
   ]
  },
  {
   "cell_type": "markdown",
   "metadata": {},
   "source": [
    "\n",
    "### Problem 36: Rules of Thumb for Doubling Investments\n",
    "\n",
    "**a**. If the annually compounded interest rate is 12%, use the Rule of 72 to calculate how long it takes for the money to double. Then, calculate the exact time using the compound interest formula.\n",
    "\n",
    "**Rule of 72**:  \n",
    "According to the Rule of 72, the time it takes for an investment to double is:  \n",
    "$$\n",
    "t = \\frac{72}{r}\n",
    "$$  \n",
    "Where $ r $ is the interest rate in percentage.\n",
    "\n",
    "The **exact calculation** for doubling time with discrete compounding is found using the future value formula $ FV = PV \\cdot (1 + r)^t $, where $ FV = 2 \\cdot PV $ for doubling:\n",
    "\n",
    "$$\n",
    "2 = (1 + r)^t\n",
    "$$\n",
    "Solving for $ t $:\n",
    "$$\n",
    "t = \\frac{\\ln(2)}{\\ln(1 + r)}\n",
    "$$\n",
    "\n",
    "Let's calculate this.\n"
   ]
  },
  {
   "cell_type": "code",
   "execution_count": 59,
   "metadata": {},
   "outputs": [
    {
     "name": "stdout",
     "output_type": "stream",
     "text": [
      "Time to double (Rule of 72): 6.00 years\n",
      "Exact time to double: 6.12 years\n"
     ]
    }
   ],
   "source": [
    "# Rule of 72\n",
    "interest_rate_36a = 12  # 12% interest rate\n",
    "time_72 = 72 / interest_rate_36a\n",
    "print(f\"Time to double (Rule of 72): {time_72:.2f} years\")\n",
    "\n",
    "# Exact calculation for doubling\n",
    "r = 12 / 100  # Convert percentage to decimal\n",
    "time_exact = np.log(2) / np.log(1 + r)\n",
    "print(f\"Exact time to double: {time_exact:.2f} years\")\n"
   ]
  },
  {
   "cell_type": "markdown",
   "metadata": {},
   "source": [
    "**b**. Can you prove the Rule of 69?\n",
    "\n",
    "The **Rule of 69** applies to continuous compounding. The formula for continuous compounding is:\n",
    "\n",
    "$$\n",
    "FV = PV \\cdot e^{r \\cdot t}\n",
    "$$\n",
    "Where $ e $ is the base of the natural logarithm.\n",
    "\n",
    "For the investment to double $ FV = 2 \\cdot PV $:\n",
    "\n",
    "$$\n",
    "2 = e^{r \\cdot t}\n",
    "$$\n",
    "Solving for \\( t \\):\n",
    "$$\n",
    "t = \\frac{\\ln(2)}{r}\n",
    "$$\n",
    "Now, if you use $ r $ in percent, this becomes:\n",
    "\n",
    "$$\n",
    "t = \\frac{69.3}{r}\n",
    "$$\n",
    "This is where the Rule of 69 comes from, since $ \\ln(2) \\approx 0.693 $\n",
    "\n"
   ]
  },
  {
   "cell_type": "markdown",
   "metadata": {},
   "source": [
    "### Problem 38: Valuing an Oil Pipeline\n",
    "\n",
    "You own an oil pipeline that will generate a \\$2 million cash return over the coming year. Unfortunately, the cash flows are expected to decline by 4% per year. The discount rate is 10%.\n",
    "\n",
    "**a**. What is the PV of the pipeline’s cash flows if they last forever?\n",
    "\n",
    "This is a **declining perpetuity**. The formula for the present value of a perpetuity with declining cash flows is:\n",
    "\n",
    "$$\n",
    "PV = \\frac{C}{r - g}\n",
    "$$\n",
    "Where:\n",
    "- $ C $ is the cash flow (\\$2 million),\n",
    "- $ r $ is the discount rate (10%),\n",
    "- $ g $ is the decline rate (4%).\n"
   ]
  },
  {
   "cell_type": "code",
   "execution_count": 61,
   "metadata": {},
   "outputs": [
    {
     "name": "stdout",
     "output_type": "stream",
     "text": [
      "PV of the pipeline's cash flows (forever): $33333333.33\n"
     ]
    }
   ],
   "source": [
    "cashflow_38 = 2_000_000  # $2 million\n",
    "discount_rate_38 = 0.10\n",
    "decline_rate_38 = 0.04\n",
    "\n",
    "# PV of declining perpetuity\n",
    "pv_38a = cashflow_38 / (discount_rate_38 - decline_rate_38)\n",
    "print(f\"PV of the pipeline's cash flows (forever): ${pv_38a:.2f}\")\n"
   ]
  },
  {
   "cell_type": "markdown",
   "metadata": {},
   "source": [
    "\n",
    "**b**. What is the PV of the cash flows if the pipeline is scrapped after 20 years?\n",
    "\n",
    "In this case, it's a declining **annuity**. The formula for a growing annuity (with a negative growth rate) is:\n",
    "\n",
    "$$\n",
    "PV = \\frac{C \\cdot \\left( 1 - \\left( \\frac{1 + g}{1 + r} \\right)^n \\right)}{r - g}\n",
    "$$\n",
    "Where:\n",
    "- $ C $ is the cash flow,\n",
    "- $ r $ is the discount rate,\n",
    "- $ g $ is the decline rate,\n",
    "- $ n $ is the number of years (20 years).\n",
    "\n"
   ]
  },
  {
   "cell_type": "code",
   "execution_count": 62,
   "metadata": {},
   "outputs": [
    {
     "name": "stdout",
     "output_type": "stream",
     "text": [
      "PV of the pipeline's cash flows (20 years): $22476783.55\n"
     ]
    }
   ],
   "source": [
    "years_38b = 20\n",
    "\n",
    "# PV of declining annuity\n",
    "pv_38b = cashflow_38 * (1 - ((1 + decline_rate_38) / (1 + discount_rate_38)) ** years_38b) / (discount_rate_38 - decline_rate_38)\n",
    "print(f\"PV of the pipeline's cash flows (20 years): ${pv_38b:.2f}\")\n"
   ]
  },
  {
   "cell_type": "markdown",
   "metadata": {},
   "source": [
    "### Problem 39: Amortizing Loans\n",
    "\n",
    "Suppose that you take out a 30-year mortgage loan of \\$200,000 at an interest rate of 10%.\n",
    "\n",
    "**a**. What is your total monthly payment?\n",
    "\n",
    "To calculate the monthly payment, we use the annuity payment formula:\n",
    "\n",
    "$$\n",
    "PMT = \\frac{r \\cdot PV}{1 - (1 + r)^{-n}}\n",
    "$$\n",
    "Where:\n",
    "- $ r $ is the monthly interest rate $ \\frac{10\\%}{12} $,\n",
    "- $ n $ is the total number of payments $ 30 \\times 12 $\n",
    "- $ PV $ is the loan amount $200,000 \n",
    "\n"
   ]
  },
  {
   "cell_type": "code",
   "execution_count": 63,
   "metadata": {},
   "outputs": [
    {
     "name": "stdout",
     "output_type": "stream",
     "text": [
      "Monthly payment: $1755.14\n"
     ]
    }
   ],
   "source": [
    "loan_amount_39 = 200_000\n",
    "annual_interest_rate_39 = 0.10\n",
    "monthly_interest_rate_39 = annual_interest_rate_39 / 12\n",
    "years_39 = 30\n",
    "n_payments_39 = years_39 * 12\n",
    "\n",
    "# Monthly payment calculation\n",
    "monthly_payment_39 = loan_amount_39 * monthly_interest_rate_39 / (1 - (1 + monthly_interest_rate_39) ** -n_payments_39)\n",
    "print(f\"Monthly payment: ${monthly_payment_39:.2f}\")\n"
   ]
  },
  {
   "cell_type": "markdown",
   "metadata": {},
   "source": [
    "**b**. How much of the first month’s payment goes to reduce the size of the loan?\n",
    "\n",
    "The amount that goes toward reducing the loan principal is the total payment minus the interest for the first month. The interest for the first month is:\n",
    "\n",
    "$$\n",
    "\\text{Interest} = \\text{Loan Amount} \\times r\n",
    "$$\n"
   ]
  },
  {
   "cell_type": "code",
   "execution_count": 64,
   "metadata": {},
   "outputs": [
    {
     "name": "stdout",
     "output_type": "stream",
     "text": [
      "Principal reduction in the first month: $88.48\n"
     ]
    }
   ],
   "source": [
    "first_month_interest_39 = loan_amount_39 * monthly_interest_rate_39\n",
    "principal_reduction_39 = monthly_payment_39 - first_month_interest_39\n",
    "print(f\"Principal reduction in the first month: ${principal_reduction_39:.2f}\")\n"
   ]
  },
  {
   "cell_type": "markdown",
   "metadata": {},
   "source": [
    "\n",
    "\n",
    "**c**. How much of the payment after two years goes to reduce the size of the loan?\n",
    "\n",
    "After two years (24 payments), we calculate the outstanding balance and subtract the interest for the 25th payment.\n",
    "\n"
   ]
  },
  {
   "cell_type": "code",
   "execution_count": 65,
   "metadata": {},
   "outputs": [
    {
     "name": "stdout",
     "output_type": "stream",
     "text": [
      "Principal reduction after 2 years: $107.98\n"
     ]
    }
   ],
   "source": [
    "\n",
    "# Remaining balance after 2 years (24 payments)\n",
    "balance_after_2_years_39 = loan_amount_39 * (1 + monthly_interest_rate_39) ** 24 - monthly_payment_39 * ((1 + monthly_interest_rate_39) ** 24 - 1) / monthly_interest_rate_39\n",
    "interest_25th_payment_39 = balance_after_2_years_39 * monthly_interest_rate_39\n",
    "principal_reduction_25th_payment_39 = monthly_payment_39 - interest_25th_payment_39\n",
    "print(f\"Principal reduction after 2 years: ${principal_reduction_25th_payment_39:.2f}\")\n"
   ]
  },
  {
   "cell_type": "markdown",
   "metadata": {},
   "source": [
    "### Problem 40: Retirement Planning\n",
    "\n",
    "You need to accumulate \\$2 million by the time you retire in 20 years. You currently have \\$200,000. How much do you need to save each year?\n",
    "\n",
    "We need to calculate the annual savings required using the future value of annuity formula. \n",
    "\n",
    "$$\n",
    "FV = PMT \\cdot \\frac{(1 + r)^n - 1}{r}\n",
    "$$\n",
    "\n"
   ]
  },
  {
   "cell_type": "code",
   "execution_count": 66,
   "metadata": {},
   "outputs": [
    {
     "name": "stdout",
     "output_type": "stream",
     "text": [
      "Annual savings required: $23333.98\n"
     ]
    }
   ],
   "source": [
    "goal_40 = 2_000_000\n",
    "current_savings_40 = 200_000\n",
    "years_to_retirement_40 = 20\n",
    "annual_interest_rate_40 = 0.08\n",
    "\n",
    "# FV of current savings\n",
    "fv_current_savings_40 = current_savings_40 * (1 + annual_interest_rate_40) ** years_to_retirement_40\n",
    "\n",
    "# Remaining amount to save\n",
    "remaining_goal_40 = goal_40 - fv_current_savings_40\n",
    "\n",
    "# Calculate the annual savings required\n",
    "annual_savings_40 = remaining_goal_40 * annual_interest_rate_40 / ((1 + annual_interest_rate_40) ** years_to_retirement_40 - 1)\n",
    "print(f\"Annual savings required: ${annual_savings_40:.2f}\")\n"
   ]
  },
  {
   "cell_type": "markdown",
   "metadata": {},
   "source": [
    "## Case Study: Investing in Collateral Brazilian Credit Cards\n",
    "\n",
    "To evaluate the present value (PV) of this Brazilian product, we need to understand the opportunity cost of locking up your money as collateral in exchange for receiving interest based on 80% of the CDI rate and the ability to fraction your credit card spendings into 12 interest-free monthly quotas.\n",
    "\n",
    "### Step-by-Step Breakdown:\n",
    "\n",
    "1. **Investment Return from the Product**:\n",
    "   - The CDI rate is 12.5% annually, but the product offers 80% of that, meaning the effective return is:\n",
    "     $$\n",
    "     \\text{Effective Rate} = 0.80 \\times 12.5\\% = 10\\%\n",
    "     $$\n",
    "   - Therefore, for each R\\$100 deposited, at the end of 12 months, you'll get R\\$110. This translates to a future value (FV) of R\\$110 after one year for every R\\$100 you lock up as collateral.\n",
    "\n",
    "2. **Opportunity Cost**:\n",
    "   - You could alternatively keep your money available (under the mattress, for example), in which case you'd have immediate liquidity but no returns. This is important because by locking the money, you're giving up liquidity, which has a cost.\n",
    "   - Additionally, inflation erodes the value of your money. With inflation ranging from 4% to 5%, your money loses purchasing power over time if not invested or earning at least as much as inflation.\n",
    "\n",
    "3. **Comparison of Two Scenarios**:\n",
    "   - **Scenario 1 (Collateral Credit Card Product)**: You deposit R\\$100, which earns 10% interest (80% of CDI) and provides you the ability to fraction spending over 12 months interest-free, but you lose immediate liquidity.\n",
    "   - **Scenario 2 (Money Under the Mattress)**: You keep your R\\$100 and manage your spending directly, but the money loses purchasing power due to inflation (4%-5%).\n",
    "\n",
    "4. **Present Value Calculation**:\n",
    "   - Let's calculate the **Present Value (PV)** of R\\$110 received in 12 months under the collateral product.\n",
    "   - We'll use the range of interest rates (10% to 11.75%) to discount the R\\$110 back to the present.\n",
    "\n",
    "   The formula for present value (PV) is:\n",
    "   $$\n",
    "   PV = \\frac{FV}{(1 + r)^t}\n",
    "   $$\n",
    "   Where:\n",
    "   - $FV$ is the future value (R\\$110),\n",
    "   - $r$ is the annual interest rate,\n",
    "   - $t$ is the time in years (1 year).\n",
    "\n",
    "We'll calculate the present value for both the lower bound (10%) and upper bound (11.75%) of the interest rate.\n",
    "\n"
   ]
  },
  {
   "cell_type": "code",
   "execution_count": 67,
   "metadata": {},
   "outputs": [
    {
     "data": {
      "text/plain": [
       "(99.99999999999999, 98.43400447427294)"
      ]
     },
     "execution_count": 67,
     "metadata": {},
     "output_type": "execute_result"
    }
   ],
   "source": [
    "# Inputs\n",
    "fv = 110  # Future value (R$110 for each R$100 deposited)\n",
    "interest_rate_low = 0.10  # Lower bound of interest rate (10%)\n",
    "interest_rate_high = 0.1175  # Upper bound of interest rate (11.75%)\n",
    "time = 1  # 1 year\n",
    "\n",
    "# Present value calculations\n",
    "pv_low = fv / (1 + interest_rate_low) ** time\n",
    "pv_high = fv / (1 + interest_rate_high) ** time\n",
    "\n",
    "pv_low, pv_high\n"
   ]
  },
  {
   "cell_type": "markdown",
   "metadata": {},
   "source": [
    "5. **Net Value**:\n",
    "   - **Net Value**: We will compare the present value (from the collateral product) to keeping the money \"under the mattress,\" factoring in inflation. By comparing the purchasing power loss due to inflation (4%-5%), we can see if the collateral product is worth it.\n",
    "\n",
    "   If we assume inflation reduces the value of the R\\$100, its real purchasing power would be:\n",
    "   $$\n",
    "   \\text{Real Value after 1 year} = \\frac{R\\$100}{(1 + \\text{inflation rate})}\n",
    "   $$\n",
    "   We will calculate for both 4% and 5% inflation.\n"
   ]
  },
  {
   "cell_type": "code",
   "execution_count": 68,
   "metadata": {},
   "outputs": [
    {
     "data": {
      "text/plain": [
       "(96.15384615384615, 95.23809523809524)"
      ]
     },
     "execution_count": 68,
     "metadata": {},
     "output_type": "execute_result"
    }
   ],
   "source": [
    "# Inputs for inflation\n",
    "inflation_low = 0.04  # 4% inflation\n",
    "inflation_high = 0.05  # 5% inflation\n",
    "\n",
    "# Calculate the real value under inflation (keeping money under the mattress)\n",
    "real_value_low = 100 / (1 + inflation_low)\n",
    "real_value_high = 100 / (1 + inflation_high)\n",
    "\n",
    "real_value_low, real_value_high\n"
   ]
  },
  {
   "cell_type": "markdown",
   "metadata": {},
   "source": [
    "\n",
    "Here are the results of the calculations:\n",
    "\n",
    "1. **Present Value (PV) of R$110 received after 12 months from the collateral product**:\n",
    "   - At an interest rate of 10%, the PV is **R$100**.\n",
    "   - At an interest rate of 11.75%, the PV is **R$98.43**.\n",
    "\n",
    "2. **Real value of R$100 under the mattress after adjusting for inflation**:\n",
    "   - With 4% inflation, the real value is **R$96.15**.\n",
    "   - With 5% inflation, the real value is **R$95.24**.\n",
    "\n",
    "### Interpretation:\n",
    "- If you invest R$100 in the collateral product, the present value of your return (R$110 after 12 months) is worth about **R$100** (at a 10% interest rate) or **R$98.43** (at 11.75%). \n",
    "- If you keep the R$100 under the mattress, its real purchasing power would drop to **R$96.15** (with 4% inflation) or **R$95.24** (with 5% inflation).\n",
    "\n",
    "### Conclusion:\n",
    "The collateral credit card product gives you a better outcome in present value compared to keeping the money under the mattress, especially when accounting for inflation. The opportunity cost of losing liquidity is offset by the 10% return (80% of CDI), which helps preserve and even slightly grow the value of your money over time. Thus, the collateral product seems to be a better financial choice compared to just keeping the money without earning any interest."
   ]
  },
  {
   "cell_type": "markdown",
   "metadata": {},
   "source": [
    "Let's compare the **collateral credit card** to a **no collateral credit card**, taking into account both the risk of default and the liquidity that you give up when using the collateral product.\n",
    "\n",
    "### Key Points for Comparison:\n",
    "\n",
    "1. **Collateral Credit Card**:\n",
    "   - You lock up your funds (collateral), but the risk of default is eliminated.\n",
    "   - You earn 80% of the CDI rate (which we calculated as 10% annually in the previous scenario), and you don't face any risk of penalties or interest charges.\n",
    "\n",
    "2. **No Collateral Credit Card**:\n",
    "   - You maintain liquidity, meaning you can use your money freely.\n",
    "   - However, you face **extremely high moratory interest rates of 11% per month** if you fail to pay your credit card invoices on time.\n",
    "   - This monthly interest compounds very quickly, leading to a **nightmare scenario** if you default.\n",
    "\n",
    "### Scenario Setup:\n",
    "- We assume you have the option to either:\n",
    "   1. **Use the Collateral Credit Card**: Earn 10% annually on your locked-up collateral (with no risk of default).\n",
    "   2. **Use the No Collateral Credit Card**: Keep liquidity but risk paying 11% monthly interest on unpaid balances if you default.\n",
    "\n",
    "### Assumptions for the Comparison:\n",
    "- We'll compare the **expected cost** of the **no collateral credit card** if you default and incur moratory interest, versus the **opportunity cost** of the **collateral credit card**, where you lose immediate liquidity but avoid any risk.\n",
    "  \n",
    "We'll calculate the impact of a hypothetical default where:\n",
    "1. You owe R\\$1000, and you fail to pay it back on time.\n",
    "2. The moratory interest is 11% per month on the unpaid balance.\n",
    "3. We'll compute how much this debt grows in a year if you default.\n",
    "  \n",
    "### Step-by-Step Calculation:\n",
    "- **No Collateral Credit Card**: We'll calculate how much a R\\$1000 debt grows after 12 months if you're paying 11% monthly interest.\n",
    "  \n",
    "$$\n",
    "FV = PV \\times (1 + r)^n\n",
    "$$\n",
    "Where:\n",
    "- $PV$ is the debt (\\$1000),\n",
    "- $r$ is the monthly interest rate (11% or 0.11),\n",
    "- $n$ is the number of months (12).\n",
    "\n",
    "- **Collateral Credit Card**: The opportunity cost here is the **liquidity you give up** (R\\$1000). We'll compare this to the risk-free return of **10% annually** on the locked funds.\n"
   ]
  },
  {
   "cell_type": "code",
   "execution_count": 69,
   "metadata": {},
   "outputs": [
    {
     "name": "stdout",
     "output_type": "stream",
     "text": [
      "Future debt with no collateral credit card (if defaulted): R$3498.45\n",
      "Future value with collateral credit card (locked funds): R$1100.00\n"
     ]
    }
   ],
   "source": [
    "# Inputs for No Collateral Credit Card scenario\n",
    "debt = 1000  # Debt amount in R$\n",
    "monthly_interest_rate = 0.11  # 11% monthly interest rate\n",
    "months = 12  # 12 months\n",
    "\n",
    "# Future value of the debt after 12 months with 11% monthly interest\n",
    "future_debt_no_collateral = debt * (1 + monthly_interest_rate) ** months\n",
    "\n",
    "# Collateral Credit Card return (opportunity cost of locking funds)\n",
    "annual_return_rate_collateral = 0.10  # 10% annual return on locked collateral\n",
    "future_value_collateral = 1000 * (1 + annual_return_rate_collateral)  # R$1000 locked for 12 months\n",
    "\n",
    "# Results\n",
    "print(f\"Future debt with no collateral credit card (if defaulted): R${future_debt_no_collateral:.2f}\")\n",
    "print(f\"Future value with collateral credit card (locked funds): R${future_value_collateral:.2f}\")\n"
   ]
  },
  {
   "cell_type": "markdown",
   "metadata": {},
   "source": [
    "To wrap up this analysis, we need to determine the **break-even point** or **equilibrium point** where investing in an asset using a **no collateral credit card** (essentially margin investing) offers better returns than the **10% risk-free return** from using the **collateral credit card**. At the same time, this asset investment needs to cover the potential risk of **moratory interest** if you default on the credit card debt (11% monthly interest).\n",
    "\n",
    "Here's the thought process:\n",
    "\n",
    "### Key Aspects of the Problem:\n",
    "1. **No Collateral Credit Card**:\n",
    "   - If you default, you're charged **11% monthly interest** on the unpaid balance, which compounds significantly (leading to a future value of 3.5x your original debt after 12 months).\n",
    "   - You have the **liquidity** to invest in an asset instead of locking your funds as collateral.\n",
    "\n",
    "2. **Collateral Credit Card**:\n",
    "   - You earn a **secure return of 10%** annually from the product, but you lose immediate liquidity.\n",
    "\n",
    "### Break-Even Analysis:\n",
    "We want to find the **required return on the asset** that will:\n",
    "1. **Outperform the secure 10% return** from the collateral credit card.\n",
    "2. **Cover the risk of defaulting** on the credit card with 11% monthly moratory interest.\n",
    "\n",
    "### Steps:\n",
    "1. **Calculate the effective cost of defaulting** using the no collateral credit card. We already calculated that after 12 months, the R\\$1000 debt grows to R\\$3498.45 if you default.\n",
    "2. **Set the break-even point** where the return from the risky asset exceeds both:\n",
    "   - The secure 10% annual return from the collateral product.\n",
    "   - The compounded 11% monthly penalty if defaulting (which grows to 349.8% of the initial debt).\n",
    "\n",
    "We need to calculate the **required return on the asset** such that its future value (after 12 months) is greater than R\\$3498.45 (to cover the worst-case scenario of default) and exceeds the 10% return from the collateral product.\n",
    "\n",
    "Let's set this up as follows:\n",
    "\n",
    "$$\n",
    "\\text{Future Value of Asset} = \\text{Initial Investment} \\times (1 + r)\n",
    "$$\n",
    "Where $ r $ is the required return on the risky asset.\n",
    "\n",
    "We want this to be greater than the future value of the defaulted debt (R\\$3498.45) and the secure investment return of R\\$1100 (10%).\n",
    "\n",
    "Let's calculate the required rate of return $ r $"
   ]
  },
  {
   "cell_type": "code",
   "execution_count": 70,
   "metadata": {},
   "outputs": [
    {
     "name": "stdout",
     "output_type": "stream",
     "text": [
      "Required return to cover moratory risk (defaulted debt): 249.84%\n",
      "Required return to surpass the collateral product (10% return): 10.00%\n"
     ]
    }
   ],
   "source": [
    "# Inputs for the break-even analysis\n",
    "initial_investment = 1000  # Initial amount in R$\n",
    "future_debt_no_collateral = 3498.45  # Future value of debt if defaulted after 12 months\n",
    "future_value_collateral = 1100  # Future value of collateral investment with 10% return\n",
    "\n",
    "# Required return to cover the default risk (surpassing future debt after 12 months)\n",
    "required_return_to_cover_debt = (future_debt_no_collateral / initial_investment) - 1\n",
    "\n",
    "# Required return to surpass the secure 10% return from the collateral product\n",
    "required_return_to_surpass_collateral = (future_value_collateral / initial_investment) - 1\n",
    "\n",
    "# Output the required returns\n",
    "print(f\"Required return to cover moratory risk (defaulted debt): {required_return_to_cover_debt * 100:.2f}%\")\n",
    "print(f\"Required return to surpass the collateral product (10% return): {required_return_to_surpass_collateral * 100:.2f}%\")\n"
   ]
  },
  {
   "cell_type": "markdown",
   "metadata": {},
   "source": [
    "The **required return to cover moratory risk** (around **249.84%**) is extremely high, while the **required return to surpass the collateral product's 10% secure return** is relatively low (10%). \n",
    "\n",
    "### Key Takeaways:\n",
    "- **249.84% return in 12 months** is exceedingly high, and practically unattainable for most traditional investments. Achieving this kind of return is typically only seen in **very high-risk investments** such as:\n",
    "  - **Day trading**: This would involve frequent buying and selling of securities (stocks, forex, crypto, etc.) in very short time frames (minutes to hours) with the hope of capitalizing on small price movements.\n",
    "  - **Leveraged or margin trading**: This would involve using borrowed money (often with significant interest) to increase the size of your trades, which also increases risk.\n",
    "  - **Cryptocurrency speculation**: Cryptocurrencies are known for their high volatility and potential for both large gains and significant losses over short periods.\n",
    "\n",
    "### Risk of Such an Operation:\n",
    "- **Day Trading**: The **success rate of day traders** is very low. Studies show that only about 10% of day traders actually make consistent profits, with the majority of traders losing money due to the high risks, transaction costs, and market volatility.\n",
    "  - **Risk**: Very high. Achieving consistent high returns (let alone 249% annually) through day trading is incredibly difficult due to:\n",
    "    - Market unpredictability.\n",
    "    - Transaction fees and taxes.\n",
    "    - Emotional stress and the risk of substantial losses.\n",
    "  \n",
    "- **Leveraged Trading**: Using margin or leverage amplifies both gains and losses. While you might gain significantly if the market moves in your favor, you could also lose more than your initial investment if it moves against you. Margin trading can easily lead to **margin calls** or liquidation of your position, forcing you to repay the borrowed amount even if you suffer large losses.\n",
    "  - **Risk**: Extremely high. Leveraged trades can wipe out an entire investment if the market moves even slightly against your position.\n",
    "\n",
    "- **Cryptocurrency Investing**: While some cryptocurrencies have seen exponential returns, they are highly volatile. The market can fluctuate wildly in a short period, and many traders lose money during market crashes or corrections.\n",
    "  - **Risk**: High. Cryptocurrency markets are speculative and prone to rapid price changes, making consistent high returns difficult to predict.\n",
    "\n",
    "### Conclusion:\n",
    "To achieve a **249.84% return**, you'd have to engage in **extremely high-risk strategies** like leveraged trading, speculative day trading, or investing in highly volatile assets. These strategies carry significant downside risks, and the likelihood of consistent success is very low.\n",
    "\n",
    "### Alternative Approach:\n",
    "In contrast, the **collateral credit card** offers a **secure 10% return** with no risk of default or moratory penalties. The trade-off is the loss of liquidity, but the risk-free return might be preferable for someone who wants to avoid extreme risks associated with speculative investments.\n",
    "\n",
    "### Risk Estimation:\n",
    "It's nearly impossible to quantify the exact risk of such speculative operations in terms of probability because it depends on various factors such as market conditions, individual skill, and emotional control. However, **historically**, most high-risk traders (such as day traders) fail to achieve these returns consistently over time.\n"
   ]
  },
  {
   "cell_type": "markdown",
   "metadata": {},
   "source": [
    "To help a restaurant wisely use a **no collateral credit card** across a year, especially in the context of the seasonality and financial dynamics from Brazil, we need to establish a **strategy** that leverages the credit card for cash flow management, while minimizing risks associated with high-interest debt and ensuring compliance with tax obligations. Here’s how a restaurant could manage this:\n",
    "\n",
    "### Key Assumptions:\n",
    "\n",
    "1. **Monthly Revenue**: R$50,000.\n",
    "2. **Food Cost**: 30% of gross revenue, which means R$15,000 monthly.\n",
    "3. **Corporate Tax**: 9% of gross revenue, or R$4,500 monthly.\n",
    "4. **Seasonality**: \n",
    "   - Employee vacations (typically mid-year) and 13th salary (in December) will cause increased expenses during those periods.\n",
    "   - Inventory purchasing often happens before the food is sold, creating cash flow gaps.\n",
    "5. **Credit Card**: Used to bridge cash flow gaps for buying inputs, such as food and other supplies, ensuring no inventory shortages.\n",
    "\n",
    "### Approach to Using the Credit Card Wisely:\n",
    "\n",
    "The following steps outline how a restaurant can effectively manage its cash flow and credit card usage, keeping in mind seasonality and tax obligations.\n",
    "\n",
    "#### 1. **Plan for Seasonality in Cash Flow**:\n",
    "   - **13th Salary**: In Brazil, employees are entitled to a **13th salary** payment in December. This means payroll costs will effectively increase by 1/12th (about 8.33%) in December, plus employee vacation costs, which typically spike in mid-year.\n",
    "   - **Vacation Pay**: Employee vacation costs can come mid-year (around July-August), which adds another payroll burden.\n",
    "   \n",
    "   **Strategy**:\n",
    "   - **Use the credit card to finance purchases of inputs** in months where sales are high but expenses (like 13th salary and vacations) spike. This could help avoid using cash reserves for inventory and reserve cash for employee-related expenses.\n",
    "   - Pay off the credit card **before interest accrues** to avoid high-interest penalties. Use the card during high-revenue months and ensure it’s paid off quickly after sales revenue comes in.\n",
    "\n",
    "#### 2. **Match Inventory Purchases with Sales**:\n",
    "   - Restaurants often need to purchase ingredients upfront, but the revenue from sales may take weeks to fully materialize.\n",
    "   - **Credit card purchases** can help bridge the gap between inventory purchase and sales. For example, if R\\$15,000 in food costs (30% of revenue) is needed upfront, the credit card can be used to cover this. When sales come in, part of the revenue can be used to **pay off the credit card balance**.\n",
    "\n",
    "   **Strategy**:\n",
    "   - Calculate the **time lag** between inventory purchases and when the sales materialize as cash inflow. Use the credit card to **finance food costs** during this lag, but ensure that the card is paid off as soon as revenue is collected.\n",
    "   - In months where there are higher food costs (e.g., holiday periods when more customers dine out), the credit card can be used more heavily, but the outstanding balance must be settled promptly to avoid high interest.\n",
    "\n",
    "#### 3. **Consider Credit Card Payment Cycle and Due Dates**:\n",
    "   - Be mindful of the **credit card billing cycle**. Align purchases with the cycle so that the payment date falls after sales have been realized. This way, the card can act as a short-term interest-free loan if paid within the billing period.\n",
    "   \n",
    "   **Strategy**:\n",
    "   - If the restaurant's sales tend to spike in certain weeks, make sure to **time the use of the credit card** around this period. For example, if revenue peaks towards the end of the month, make major input purchases at the beginning of the month so that the credit card bill is due after peak revenue is collected.\n",
    "\n",
    "#### 4. **Account for Corporate Taxes**:\n",
    "   - With **9% corporate tax** on gross income (R\\$4,500 per month), the restaurant needs to ensure tax payments are timely and cash flow is managed accordingly.\n",
    "\n",
    "   **Strategy**:\n",
    "   - Use the credit card to **finance purchases** that free up cash flow for taxes. In high-expense months (e.g., December), the card can cover larger input purchases while the restaurant reserves cash to meet tax obligations. However, tax payments should **not be delayed** as penalties and interest from tax authorities can compound.\n",
    "\n",
    "#### 5. **Monthly Cash Flow Example**:\n",
    "\n",
    "Let's map out a **hypothetical month** where the credit card is used to balance expenses and cash flow:\n",
    "\n",
    "- **Revenue**: R\\$50,000.\n",
    "- **Food Cost (30%)**: R\\$15,000.\n",
    "- **Employee Costs**: Assuming payroll + tax + benefits are 40% of revenue: R\\$20,000.\n",
    "- **Corporate Tax (9%)**: R\\$4,500.\n",
    "\n",
    "This leaves R\\$10,500 for other operating expenses (rent, utilities, etc.).\n",
    "\n",
    "- **Scenario**: In a particular month (say, November), you have large food purchases before the holiday season, but sales don’t fully materialize until December. You use the credit card to cover the **R\\$15,000 food cost**, knowing that this will be sold in the coming weeks.\n",
    "  \n",
    "- **Card Repayment Strategy**: Once sales come in, part of the revenue from December (about 30%) will be used to pay off the credit card in full, avoiding interest.\n",
    "\n",
    "### Steps to Manage Credit Card Use:\n",
    "\n",
    "1. **Use the Credit Card to Smooth Out Cash Flow**:\n",
    "   - Purchase inputs (inventory) with the card when cash flow is tight.\n",
    "   - Use sales revenue to pay off the balance before interest is charged.\n",
    "\n",
    "2. **Plan for High-Cost Periods**:\n",
    "   - In months where employee costs spike (vacation pay, 13th salary), reserve cash for payroll and use the credit card for other expenses like inventory.\n",
    "\n",
    "3. **Avoid Carrying a Balance**:\n",
    "   - Pay off the credit card every month, even if this means reserving cash from high-revenue months for leaner months. Carrying a balance would incur extremely high interest rates, which would cut into the restaurant’s margins.\n",
    "\n",
    "4. **Use the Card for Larger Purchases**:\n",
    "   - For large input purchases that exceed cash flow in the short term, the card can help maintain liquidity without affecting day-to-day operations. Ensure the balance is paid when sales materialize.\n",
    "\n",
    "### Conclusion:\n",
    "\n",
    "In summary, the restaurant should use the **no collateral credit card** to manage cash flow, **timing purchases of inputs** to match periods of high revenue. The card can be used to **smooth out seasonality** (e.g., for high payroll months like December), while the restaurant focuses on paying the card off quickly using the revenue from sales. The key is to use the card as a **cash flow management tool** and not to carry a balance, which would incur high interest and negatively impact the restaurant’s profitability.\n"
   ]
  }
 ],
 "metadata": {
  "kernelspec": {
   "display_name": "Python 3",
   "language": "python",
   "name": "python3"
  },
  "language_info": {
   "codemirror_mode": {
    "name": "ipython",
    "version": 3
   },
   "file_extension": ".py",
   "mimetype": "text/x-python",
   "name": "python",
   "nbconvert_exporter": "python",
   "pygments_lexer": "ipython3",
   "version": "3.9.20"
  }
 },
 "nbformat": 4,
 "nbformat_minor": 2
}
