{
 "cells": [
  {
   "cell_type": "markdown",
   "metadata": {},
   "source": [
    "### Chapter 2: Accounting Overview\n",
    "\n",
    "#### Introduction to Accounting\n",
    "Accounting is essential for understanding the financial health of a company. We will use Python to explore the primary financial statements: the Income Statement, the Balance Sheet, and the Statement of Cash Flows.\n",
    "\n",
    "#### The Income Statement\n",
    "The Income Statement shows a company's revenues and expenses over a specific period, leading to net profit or loss.\n",
    "\n",
    "**Formula**: \n",
    "$$\n",
    "\\text{Net Income} = \\text{Revenue} - \\text{Expenses}\n",
    "$$\n",
    "\n",
    "\n"
   ]
  },
  {
   "cell_type": "code",
   "execution_count": 1,
   "metadata": {},
   "outputs": [
    {
     "name": "stdout",
     "output_type": "stream",
     "text": [
      "Net Income: $40000\n"
     ]
    }
   ],
   "source": [
    "# Income Statement Calculation\n",
    "revenue = 100000  # Total revenue\n",
    "expenses = 60000  # Total expenses\n",
    "\n",
    "net_income = revenue - expenses\n",
    "print(f\"Net Income: ${net_income}\")\n"
   ]
  },
  {
   "cell_type": "markdown",
   "metadata": {},
   "source": [
    "**Exercise**:\n",
    "Calculate the net income given different values for revenue and expenses."
   ]
  },
  {
   "cell_type": "code",
   "execution_count": 2,
   "metadata": {},
   "outputs": [
    {
     "name": "stdout",
     "output_type": "stream",
     "text": [
      "70000\n",
      "80000\n"
     ]
    }
   ],
   "source": [
    "def calculate_net_income(revenue, expenses):\n",
    "    return revenue - expenses\n",
    "\n",
    "# Test the function\n",
    "print(calculate_net_income(150000, 80000))\n",
    "print(calculate_net_income(200000, 120000))\n"
   ]
  },
  {
   "cell_type": "markdown",
   "metadata": {},
   "source": [
    "#### The Balance Sheet\n",
    "The Balance Sheet provides a snapshot of a company's financial position at a specific point in time. It includes assets, liabilities, and equity.\n",
    "\n",
    "**Formula**:\n",
    "$$\n",
    "\\text{Assets} = \\text{Liabilities} + \\text{Equity}\n",
    "$$\n"
   ]
  },
  {
   "cell_type": "code",
   "execution_count": 3,
   "metadata": {},
   "outputs": [
    {
     "name": "stdout",
     "output_type": "stream",
     "text": [
      "Equity: $100000\n"
     ]
    }
   ],
   "source": [
    "# Balance Sheet Calculation\n",
    "assets = 250000  # Total assets\n",
    "liabilities = 150000  # Total liabilities\n",
    "\n",
    "equity = assets - liabilities\n",
    "print(f\"Equity: ${equity}\")"
   ]
  },
  {
   "cell_type": "markdown",
   "metadata": {},
   "source": [
    "**Exercise**:\n",
    "Determine the missing value (assets, liabilities, or equity) given the other two.\n"
   ]
  },
  {
   "cell_type": "code",
   "execution_count": 4,
   "metadata": {},
   "outputs": [
    {
     "name": "stdout",
     "output_type": "stream",
     "text": [
      "(250000, 150000, 100000)\n",
      "(250000, 150000, 100000)\n"
     ]
    }
   ],
   "source": [
    "def calculate_balance_sheet(assets=None, liabilities=None, equity=None):\n",
    "    if assets is None:\n",
    "        assets = liabilities + equity\n",
    "    elif liabilities is None:\n",
    "        liabilities = assets - equity\n",
    "    elif equity is None:\n",
    "        equity = assets - liabilities\n",
    "    return assets, liabilities, equity\n",
    "\n",
    "# Test the function\n",
    "print(calculate_balance_sheet(liabilities=150000, equity=100000))\n",
    "print(calculate_balance_sheet(assets=250000, equity=100000))\n"
   ]
  },
  {
   "cell_type": "markdown",
   "metadata": {},
   "source": [
    "#### The Statement of Cash Flows\n",
    "The Statement of Cash Flows shows the cash inflows and outflows from operating, investing, and financing activities.\n",
    "\n",
    "**Formula**:\n",
    "\n",
    "$$\n",
    "\\text{Net Cash Flow} = \\text{Cash Inflows} - \\text{Cash Outflows}\n",
    "$$\n",
    "\n",
    "\n"
   ]
  },
  {
   "cell_type": "code",
   "execution_count": 5,
   "metadata": {},
   "outputs": [
    {
     "name": "stdout",
     "output_type": "stream",
     "text": [
      "Net Cash Flow: $40000\n"
     ]
    }
   ],
   "source": [
    "# Statement of Cash Flows Calculation\n",
    "cash_inflows = 120000  # Total cash inflows\n",
    "cash_outflows = 80000  # Total cash outflows\n",
    "\n",
    "net_cash_flow = cash_inflows - cash_outflows\n",
    "print(f\"Net Cash Flow: ${net_cash_flow}\")\n"
   ]
  },
  {
   "cell_type": "markdown",
   "metadata": {},
   "source": [
    "**Exercise**:\n",
    "Calculate the net cash flow for different sets of cash inflows and outflows."
   ]
  },
  {
   "cell_type": "code",
   "execution_count": 6,
   "metadata": {},
   "outputs": [
    {
     "name": "stdout",
     "output_type": "stream",
     "text": [
      "60000\n",
      "60000\n"
     ]
    }
   ],
   "source": [
    "def calculate_net_cash_flow(cash_inflows, cash_outflows):\n",
    "    return cash_inflows - cash_outflows\n",
    "\n",
    "# Test the function\n",
    "print(calculate_net_cash_flow(150000, 90000))\n",
    "print(calculate_net_cash_flow(200000, 140000))\n"
   ]
  },
  {
   "cell_type": "markdown",
   "metadata": {},
   "source": [
    "#### Integrating the Three Financial Statements\n",
    "To fully understand a company's financial health, we need to integrate the three statements.\n",
    "\n",
    "**Example Integration**:\n",
    "Let's create a function that integrates the Income Statement, Balance Sheet, and Statement of Cash Flows."
   ]
  },
  {
   "cell_type": "code",
   "execution_count": 7,
   "metadata": {},
   "outputs": [
    {
     "name": "stdout",
     "output_type": "stream",
     "text": [
      "{'Net Income': 40000, 'Equity': 100000, 'Net Cash Flow': 40000}\n"
     ]
    }
   ],
   "source": [
    "class FinancialStatements:\n",
    "    def __init__(self, revenue, expenses, assets, liabilities, cash_inflows, cash_outflows):\n",
    "        self.revenue = revenue\n",
    "        self.expenses = expenses\n",
    "        self.assets = assets\n",
    "        self.liabilities = liabilities\n",
    "        self.cash_inflows = cash_inflows\n",
    "        self.cash_outflows = cash_outflows\n",
    "\n",
    "    def net_income(self):\n",
    "        return self.revenue - self.expenses\n",
    "\n",
    "    def equity(self):\n",
    "        return self.assets - self.liabilities\n",
    "\n",
    "    def net_cash_flow(self):\n",
    "        return self.cash_inflows - self.cash_outflows\n",
    "\n",
    "    def summary(self):\n",
    "        return {\n",
    "            \"Net Income\": self.net_income(),\n",
    "            \"Equity\": self.equity(),\n",
    "            \"Net Cash Flow\": self.net_cash_flow()\n",
    "        }\n",
    "# Example usage\n",
    "statements = FinancialStatements(100000, 60000, 250000, 150000, 120000, 80000)\n",
    "print(statements.summary())\n"
   ]
  },
  {
   "cell_type": "markdown",
   "metadata": {},
   "source": [
    "### Chapter 3: Finance Overview\n",
    "\n",
    "#### The Financial System\n",
    "Understanding the financial system is crucial as it forms the backbone of finance, involving institutions, instruments, and markets.\n",
    "\n",
    "#### Principles of Finance\n",
    "The core principles of finance include the time value of money, risk and reward, and the concept of discount rates.\n",
    "\n",
    "### Time Value of Money\n",
    "The time value of money (TVM) is a fundamental finance principle that states a sum of money is worth more now than the same sum in the future due to its potential earning capacity.\n",
    "\n",
    "**Formula**:\n",
    "\n",
    "$$\n",
    "PV = \\frac{FV}{(1 + r)^n}\n",
    "$$\n",
    "\n",
    "Where:\n",
    "- $ PV $ = Present Value\n",
    "- $ FV $ = Future Value\n",
    "- $ r  $ = Discount Rate\n",
    "- $ n  $ = Number of Periods\n"
   ]
  },
  {
   "cell_type": "code",
   "execution_count": 8,
   "metadata": {},
   "outputs": [
    {
     "name": "stdout",
     "output_type": "stream",
     "text": [
      "Present Value: $613.91\n"
     ]
    }
   ],
   "source": [
    "\n",
    "def present_value(fv, r, n):\n",
    "    return fv / (1 + r) ** n\n",
    "\n",
    "# Example calculation\n",
    "fv = 1000  # Future value\n",
    "r = 0.05   # Discount rate (5%)\n",
    "n = 10     # Number of periods\n",
    "\n",
    "pv = present_value(fv, r, n)\n",
    "print(f\"Present Value: ${pv:.2f}\")\n"
   ]
  },
  {
   "cell_type": "markdown",
   "metadata": {},
   "source": [
    "\n",
    "**Exercise**:\n",
    "Calculate the present value for different future values, discount rates, and periods.\n"
   ]
  },
  {
   "cell_type": "code",
   "execution_count": 9,
   "metadata": {},
   "outputs": [
    {
     "name": "stdout",
     "output_type": "stream",
     "text": [
      "[613.9132535407591, 1425.9723589673365, 962.792921095076]\n"
     ]
    }
   ],
   "source": [
    "\n",
    "# Define a function for multiple inputs\n",
    "def calculate_present_values(future_values, rates, periods):\n",
    "    results = []\n",
    "    for fv, r, n in zip(future_values, rates, periods):\n",
    "        pv = present_value(fv, r, n)\n",
    "        results.append(pv)\n",
    "    return results\n",
    "\n",
    "# Test the function\n",
    "future_values = [1000, 2000, 1500]\n",
    "rates = [0.05, 0.07, 0.03]\n",
    "periods = [10, 5, 15]\n",
    "print(calculate_present_values(future_values, rates, periods))\n"
   ]
  },
  {
   "cell_type": "markdown",
   "metadata": {},
   "source": [
    "\n",
    "### Risk and Reward\n",
    "Understanding risk and reward involves knowing the relationship between the expected return and the associated risk.\n"
   ]
  },
  {
   "cell_type": "markdown",
   "metadata": {},
   "source": [
    "\n",
    "**Formula**:\n",
    "$$\n",
    "\\text{Expected Return} = \\sum (P_i \\times R_i) \n",
    "$$\n",
    "\n",
    "Where:\n",
    "- $ P_i $ = Probability of outcome $ i $\n",
    "- $ R_i $ = Return of outcome $ i $\n"
   ]
  },
  {
   "cell_type": "code",
   "execution_count": 10,
   "metadata": {},
   "outputs": [
    {
     "name": "stdout",
     "output_type": "stream",
     "text": [
      "Expected Return: 5.4%\n"
     ]
    }
   ],
   "source": [
    "def expected_return(probabilities, returns):\n",
    "    return sum(p * r for p, r in zip(probabilities, returns))\n",
    "\n",
    "# Example calculation\n",
    "probabilities = [0.2, 0.5, 0.3]\n",
    "returns = [5, 10, -2]\n",
    "\n",
    "exp_return = expected_return(probabilities, returns)\n",
    "print(f\"Expected Return: {exp_return}%\")\n"
   ]
  },
  {
   "cell_type": "markdown",
   "metadata": {},
   "source": [
    "\n",
    "**Exercise**:\n",
    "Calculate the expected return for different sets of probabilities and returns.\n",
    "    "
   ]
  },
  {
   "cell_type": "code",
   "execution_count": 11,
   "metadata": {},
   "outputs": [
    {
     "name": "stdout",
     "output_type": "stream",
     "text": [
      "2.6000000000000005\n",
      "4.5\n"
     ]
    }
   ],
   "source": [
    "# Test the function with different inputs\n",
    "probabilities_1 = [0.1, 0.4, 0.5]\n",
    "returns_1 = [3, 7, -1]\n",
    "probabilities_2 = [0.25, 0.5, 0.25]\n",
    "returns_2 = [6, 8, -4]\n",
    "\n",
    "print(expected_return(probabilities_1, returns_1))\n",
    "print(expected_return(probabilities_2, returns_2))\n"
   ]
  },
  {
   "cell_type": "markdown",
   "metadata": {},
   "source": [
    "\n",
    "### Introduction to Corporate Finance\n",
    "Corporate finance involves making decisions on investments, financing, and dividends.\n",
    "\n",
    "### Valuing Securities\n",
    "Valuing securities involves determining the worth of financial instruments like stocks and bonds.\n",
    "\n",
    "#### Valuing Bonds\n",
    "**Formula**:\n",
    "$$\n",
    "\\text{Bond Price} = \\sum \\left( \\frac{C}{(1 + r)^t} \\right) + \\frac{F}{(1 + r)^n} \n",
    "$$\n",
    "\n",
    "Where:\n",
    "- $ C $ = Coupon payment\n",
    "- $ r $ = Discount rate\n",
    "- $ t $ = Time period\n",
    "- $ F $ = Face value of the bond\n",
    "- $ n $ = Number of periods\n"
   ]
  },
  {
   "cell_type": "code",
   "execution_count": 12,
   "metadata": {},
   "outputs": [
    {
     "name": "stdout",
     "output_type": "stream",
     "text": [
      "Bond Price: $1000.00\n"
     ]
    }
   ],
   "source": [
    "def bond_price(c, r, n, f):\n",
    "    price = sum([c / (1 + r) ** t for t in range(1, n + 1)]) + f / (1 + r) ** n\n",
    "    return price\n",
    "\n",
    "# Example calculation\n",
    "c = 50   # Coupon payment\n",
    "r = 0.05 # Discount rate (5%)\n",
    "n = 10   # Number of periods\n",
    "f = 1000 # Face value of the bond\n",
    "\n",
    "price = bond_price(c, r, n, f)\n",
    "print(f\"Bond Price: ${price:.2f}\")\n"
   ]
  },
  {
   "cell_type": "markdown",
   "metadata": {},
   "source": [
    "\n",
    "**Exercise**:\n",
    "Calculate the bond price for different coupon payments, discount rates, periods, and face values.\n"
   ]
  },
  {
   "cell_type": "code",
   "execution_count": 13,
   "metadata": {},
   "outputs": [
    {
     "name": "stdout",
     "output_type": "stream",
     "text": [
      "1222.3677486433621\n",
      "770.6015756286943\n"
     ]
    }
   ],
   "source": [
    "\n",
    "# Test the function with different inputs\n",
    "print(bond_price(60, 0.04, 15, 1000))\n",
    "print(bond_price(40, 0.06, 20, 1000))\n"
   ]
  },
  {
   "cell_type": "markdown",
   "metadata": {},
   "source": [
    "\n",
    "#### Valuing Stocks\n",
    "**Dividend Discount Model**:\n",
    "$$\n",
    "P_0 = \\frac{D_1}{r - g} \n",
    "$$\n",
    "\n",
    "Where:\n",
    "- $ P_0 $ = Current stock price\n",
    "- $ D_1 $ = Dividend next period\n",
    "- $ r $ = Discount rate\n",
    "- $ g $ = Growth rate\n"
   ]
  },
  {
   "cell_type": "code",
   "execution_count": 14,
   "metadata": {},
   "outputs": [
    {
     "name": "stdout",
     "output_type": "stream",
     "text": [
      "Stock Price: $40.00\n"
     ]
    }
   ],
   "source": [
    "\n",
    "def stock_price(d1, r, g):\n",
    "    return d1 / (r - g)\n",
    "\n",
    "# Example calculation\n",
    "d1 = 2.00  # Dividend next period\n",
    "r = 0.08   # Discount rate (8%)\n",
    "g = 0.03   # Growth rate (3%)\n",
    "\n",
    "price = stock_price(d1, r, g)\n",
    "print(f\"Stock Price: ${price:.2f}\")\n"
   ]
  },
  {
   "cell_type": "markdown",
   "metadata": {},
   "source": [
    "\n",
    "**Exercise**:\n",
    "Calculate the stock price for different dividends, discount rates, and growth rates.\n"
   ]
  },
  {
   "cell_type": "code",
   "execution_count": 15,
   "metadata": {},
   "outputs": [
    {
     "name": "stdout",
     "output_type": "stream",
     "text": [
      "50.00000000000001\n",
      "35.0\n"
     ]
    }
   ],
   "source": [
    "# Test the function with different inputs\n",
    "print(stock_price(2.50, 0.09, 0.04))\n",
    "print(stock_price(1.75, 0.07, 0.02))\n"
   ]
  },
  {
   "cell_type": "markdown",
   "metadata": {},
   "source": [
    "### Chapter 4: Financial Statement Analysis\n",
    "\n",
    "#### Sources of Financial Information\n",
    "Investment bankers and other financial professionals use various sources to analyze a company's financial statements. Key sources include:\n",
    "- **SEC Filings**: Such as 10-K (annual report) and 10-Q (quarterly report).\n",
    "- **Company Reports**: Annual reports, management discussion and analysis (MD&A).\n",
    "- **Financial Databases**: Bloomberg, Reuters, and others.\n",
    "\n",
    "#### Financial Statement Analysis\n",
    "Financial statement analysis involves evaluating the financial health and performance of a company using various metrics and ratios.\n",
    "\n",
    "### Key Metrics and Ratios\n",
    "#### Growth Statistics\n",
    "Growth statistics help measure the company's performance over time.\n",
    "\n",
    "**Formula**:\n",
    "$$\n",
    "\\text{Growth Rate} = \\frac{\\text{Current Period Value} - \\text{Previous Period Value}}{\\text{Previous Period Value}} \\times 100 \n",
    "$$\n",
    "\n"
   ]
  },
  {
   "cell_type": "code",
   "execution_count": 16,
   "metadata": {},
   "outputs": [
    {
     "name": "stdout",
     "output_type": "stream",
     "text": [
      "Growth Rate: 20.00%\n",
      "25.0\n",
      "5.88235294117647\n"
     ]
    }
   ],
   "source": [
    "\n",
    "def growth_rate(current_value, previous_value):\n",
    "    return ((current_value - previous_value) / previous_value) * 100\n",
    "\n",
    "# Example calculation\n",
    "current_revenue = 120000\n",
    "previous_revenue = 100000\n",
    "\n",
    "growth = growth_rate(current_revenue, previous_revenue)\n",
    "print(f\"Growth Rate: {growth:.2f}%\")\n",
    "\n",
    "# Test the function with different inputs\n",
    "print(growth_rate(150000, 120000))\n",
    "print(growth_rate(90000, 85000))"
   ]
  },
  {
   "cell_type": "markdown",
   "metadata": {},
   "source": [
    "#### Profitability Ratios\n",
    "Profitability ratios assess a company's ability to generate profit relative to revenue, assets, or equity.\n",
    "\n",
    "**Formula**:\n",
    "$$\n",
    "\\text{Profit Margin} = \\frac{\\text{Net Income}}{\\text{Revenue}} \\times 100 \n",
    "$$"
   ]
  },
  {
   "cell_type": "code",
   "execution_count": 17,
   "metadata": {},
   "outputs": [
    {
     "name": "stdout",
     "output_type": "stream",
     "text": [
      "Profit Margin: 20.00%\n",
      "20.833333333333336\n",
      "20.0\n"
     ]
    }
   ],
   "source": [
    "def profit_margin(net_income, revenue):\n",
    "    return (net_income / revenue) * 100\n",
    "\n",
    "# Example calculation\n",
    "net_income = 20000\n",
    "revenue = 100000\n",
    "\n",
    "margin = profit_margin(net_income, revenue)\n",
    "print(f\"Profit Margin: {margin:.2f}%\")\n",
    "\n",
    "# Test the function with different inputs\n",
    "print(profit_margin(25000, 120000))\n",
    "print(profit_margin(30000, 150000))\n"
   ]
  },
  {
   "cell_type": "markdown",
   "metadata": {},
   "source": [
    "#### Return Ratios\n",
    "Return ratios measure the company's efficiency in generating returns for its shareholders.\n",
    "\n",
    "**Formula**:\n",
    "$$\n",
    "\\text{Return on Assets (ROA)} = \\frac{\\text{Net Income}}{\\text{Total Assets}} \\times 100 \n",
    "$$"
   ]
  },
  {
   "cell_type": "code",
   "execution_count": 18,
   "metadata": {},
   "outputs": [
    {
     "name": "stdout",
     "output_type": "stream",
     "text": [
      "Return on Assets: 4.00%\n",
      "5.0\n",
      "3.75\n"
     ]
    }
   ],
   "source": [
    "def return_on_assets(net_income, total_assets):\n",
    "    return (net_income / total_assets) * 100\n",
    "\n",
    "# Example calculation\n",
    "net_income = 20000\n",
    "total_assets = 500000\n",
    "\n",
    "roa = return_on_assets(net_income, total_assets)\n",
    "print(f\"Return on Assets: {roa:.2f}%\")\n",
    "\n",
    "# Test the function with different inputs\n",
    "print(return_on_assets(30000, 600000))\n",
    "print(return_on_assets(15000, 400000))\n"
   ]
  },
  {
   "cell_type": "markdown",
   "metadata": {},
   "source": [
    "#### Activity Ratios\n",
    "Activity ratios evaluate the efficiency of a company's operations.\n",
    "\n",
    "**Formula**:\n",
    "$$\n",
    "\\text{Inventory Turnover} = \\frac{\\text{Cost of Goods Sold (COGS)}}{\\text{Average Inventory}}\n",
    "$$\n"
   ]
  },
  {
   "cell_type": "code",
   "execution_count": 19,
   "metadata": {},
   "outputs": [
    {
     "name": "stdout",
     "output_type": "stream",
     "text": [
      "Inventory Turnover: 5.00\n",
      "5.0\n",
      "5.0\n"
     ]
    }
   ],
   "source": [
    "def inventory_turnover(cogs, average_inventory):\n",
    "    return cogs / average_inventory\n",
    "\n",
    "# Example calculation\n",
    "cogs = 50000\n",
    "average_inventory = 10000\n",
    "\n",
    "turnover = inventory_turnover(cogs, average_inventory)\n",
    "print(f\"Inventory Turnover: {turnover:.2f}\")\n",
    "\n",
    "# Test the function with different inputs\n",
    "print(inventory_turnover(75000, 15000))\n",
    "print(inventory_turnover(60000, 12000))\n"
   ]
  },
  {
   "cell_type": "markdown",
   "metadata": {},
   "source": [
    "#### Credit Ratios\n",
    "Credit ratios assess a company's ability to meet its debt obligations.\n",
    "\n",
    "**Formula**:\n",
    "$$\n",
    "\\text{Debt-to-Equity Ratio} = \\frac{\\text{Total Liabilities}}{\\text{Shareholders' Equity}}\n",
    "$$\n"
   ]
  },
  {
   "cell_type": "code",
   "execution_count": 20,
   "metadata": {},
   "outputs": [
    {
     "name": "stdout",
     "output_type": "stream",
     "text": [
      "Debt-to-Equity Ratio: 1.50\n",
      "1.6\n",
      "1.6666666666666667\n"
     ]
    }
   ],
   "source": [
    "def debt_to_equity(total_liabilities, equity):\n",
    "    return total_liabilities / equity\n",
    "\n",
    "# Example calculation\n",
    "total_liabilities = 300000\n",
    "equity = 200000\n",
    "\n",
    "de_ratio = debt_to_equity(total_liabilities, equity)\n",
    "print(f\"Debt-to-Equity Ratio: {de_ratio:.2f}\")\n",
    "\n",
    "# Test the function with different inputs\n",
    "print(debt_to_equity(400000, 250000))\n",
    "print(debt_to_equity(500000, 300000))\n"
   ]
  },
  {
   "cell_type": "markdown",
   "metadata": {},
   "source": [
    "#### Analyzing Different Time Periods\n",
    "Analyzing financial data over different time periods helps identify trends and patterns.\n",
    "\n",
    "### “Normalizing” the Financials\n",
    "Normalizing financial statements involves adjusting for non-recurring items to reflect a company's true economic performance.\n"
   ]
  },
  {
   "cell_type": "code",
   "execution_count": 21,
   "metadata": {},
   "outputs": [
    {
     "name": "stdout",
     "output_type": "stream",
     "text": [
      "{'revenue': 95000, 'expenses': 83000, 'net_income': 20000}\n",
      "{'revenue': 143000, 'expenses': 95000, 'net_income': 60000}\n",
      "{'revenue': 190000, 'expenses': 128000, 'net_income': 80000}\n"
     ]
    }
   ],
   "source": [
    "def normalize_financials(financials, adjustments):\n",
    "    normalized = financials.copy()\n",
    "    for key, value in adjustments.items():\n",
    "        if key in normalized:\n",
    "            normalized[key] += value\n",
    "    return normalized\n",
    "\n",
    "# Example financials and adjustments\n",
    "financials = {'revenue': 100000, 'expenses': 80000, 'net_income': 20000}\n",
    "adjustments = {'revenue': -5000, 'expenses': 3000}\n",
    "\n",
    "normalized_financials = normalize_financials(financials, adjustments)\n",
    "print(normalized_financials)\n",
    "\n",
    "# Test the function with different inputs\n",
    "financials_1 = {'revenue': 150000, 'expenses': 90000, 'net_income': 60000}\n",
    "adjustments_1 = {'revenue': -7000, 'expenses': 5000}\n",
    "print(normalize_financials(financials_1, adjustments_1))\n",
    "\n",
    "financials_2 = {'revenue': 200000, 'expenses': 120000, 'net_income': 80000}\n",
    "adjustments_2 = {'revenue': -10000, 'expenses': 8000}\n",
    "print(normalize_financials(financials_2, adjustments_2))\n"
   ]
  },
  {
   "cell_type": "markdown",
   "metadata": {},
   "source": [
    "### Chapter 5: Valuation\n",
    "\n",
    "#### Introduction to Valuation\n",
    "Valuation is a critical skill in finance, involving the determination of the present value of an asset or company.\n",
    "\n",
    "### Comparable Company Methodology\n",
    "Comparable company analysis involves valuing a company based on the valuation multiples of similar companies.\n",
    "\n",
    "**Common Multiples**:\n",
    "- Price-to-Earnings (P/E)\n",
    "- Enterprise Value-to-EBITDA (EV/EBITDA)"
   ]
  },
  {
   "cell_type": "code",
   "execution_count": 22,
   "metadata": {},
   "outputs": [
    {
     "name": "stdout",
     "output_type": "stream",
     "text": [
      "P/E Ratio: 20.00\n",
      "EV/EBITDA Ratio: 10.00\n",
      "15.0\n",
      "10.0\n"
     ]
    }
   ],
   "source": [
    "def pe_ratio(price, earnings):\n",
    "    return price / earnings\n",
    "\n",
    "def ev_ebitda(ev, ebitda):\n",
    "    return ev / ebitda\n",
    "\n",
    "# Example calculation\n",
    "price = 50\n",
    "earnings = 2.5\n",
    "ev = 300\n",
    "ebitda = 30\n",
    "\n",
    "pe = pe_ratio(price, earnings)\n",
    "ev_ebitda_ratio = ev_ebitda(ev, ebitda)\n",
    "print(f\"P/E Ratio: {pe:.2f}\")\n",
    "print(f\"EV/EBITDA Ratio: {ev_ebitda_ratio:.2f}\")\n",
    "\n",
    "# Test the functions with different inputs\n",
    "print(pe_ratio(45, 3))\n",
    "print(ev_ebitda(250, 25))\n"
   ]
  },
  {
   "cell_type": "markdown",
   "metadata": {},
   "source": [
    "\n",
    "### Precedent Transaction Methodology\n",
    "Precedent transaction analysis values a company based on the transaction multiples of similar companies that have been acquired.\n"
   ]
  },
  {
   "cell_type": "code",
   "execution_count": 23,
   "metadata": {},
   "outputs": [
    {
     "name": "stdout",
     "output_type": "stream",
     "text": [
      "Transaction Multiple: 10.00\n",
      "9.0\n",
      "10.857142857142858\n"
     ]
    }
   ],
   "source": [
    "def transaction_multiple(purchase_price, ebitda):\n",
    "    return purchase_price / ebitda\n",
    "\n",
    "# Example calculation\n",
    "purchase_price = 400\n",
    "ebitda = 40\n",
    "\n",
    "transaction_mult = transaction_multiple(purchase_price, ebitda)\n",
    "print(f\"Transaction Multiple: {transaction_mult:.2f}\")\n",
    "\n",
    "# Test the function with different inputs\n",
    "print(transaction_multiple(450, 50))\n",
    "print(transaction_multiple(380, 35))\n"
   ]
  },
  {
   "cell_type": "markdown",
   "metadata": {},
   "source": [
    "### Discounted Cash Flow (DCF) Analysis\n",
    "DCF analysis values a company based on the present value of its projected future cash flows.\n",
    "\n",
    "**Formula**:\n",
    "$$ \n",
    "\\text{DCF} = \\sum \\left( \\frac{CF_t}{(1 + r)^t} \\right) + \\frac{TV}{(1 + r)^n} \n",
    "$$\n",
    "\n",
    "Where:\n",
    "- $ CF_t $ = Cash flow at time $ t $\n",
    "- $ r $ = Discount rate\n",
    "- $ TV $ = Terminal value\n",
    "- $ n $ = Number of periods\n",
    "  "
   ]
  },
  {
   "cell_type": "code",
   "execution_count": 24,
   "metadata": {},
   "outputs": [
    {
     "name": "stdout",
     "output_type": "stream",
     "text": [
      "DCF Value: $175815.74\n",
      "237408.875463476\n",
      "286994.5374200932\n"
     ]
    }
   ],
   "source": [
    "def dcf(cash_flows, r, tv, n):\n",
    "    pv_cash_flows = sum(cf / (1 + r) ** t for t, cf in enumerate(cash_flows, start=1))\n",
    "    pv_terminal_value = tv / (1 + r) ** n\n",
    "    return pv_cash_flows + pv_terminal_value\n",
    "\n",
    "# Example calculation\n",
    "cash_flows = [10000, 12000, 14000, 16000, 18000]\n",
    "r = 0.1\n",
    "tv = 200000\n",
    "n = 5\n",
    "\n",
    "dcf_value = dcf(cash_flows, r, tv, n)\n",
    "print(f\"DCF Value: ${dcf_value:.2f}\")\n",
    "\n",
    "# Test the function with different inputs\n",
    "cash_flows_1 = [15000, 16000, 17000, 18000, 19000]\n",
    "tv_1 = 250000\n",
    "print(dcf(cash_flows_1, 0.08, tv_1, 5))\n",
    "\n",
    "cash_flows_2 = [20000, 22000, 24000, 26000, 28000]\n",
    "tv_2 = 300000\n",
    "print(dcf(cash_flows_2, 0.09, tv_2, 5))\n"
   ]
  },
  {
   "cell_type": "markdown",
   "metadata": {},
   "source": [
    "\n",
    "### Valuation Conclusions\n",
    "After performing the various valuation methods, it's important to conclude the appropriate valuation range for a company.\n",
    "\n",
    "#### Example Integration of Methods\n",
    "Combine the results from Comparable Company Analysis, Precedent Transaction Analysis, and DCF Analysis to conclude a valuation range.\n"
   ]
  },
  {
   "cell_type": "code",
   "execution_count": 25,
   "metadata": {},
   "outputs": [
    {
     "name": "stdout",
     "output_type": "stream",
     "text": [
      "Valuation Range: $200.00 - $240.00\n",
      "(210, 250)\n",
      "(180, 210)\n"
     ]
    }
   ],
   "source": [
    "def valuation_range(pe, ev_ebitda, transaction_mult, dcf_value):\n",
    "    low = min(pe, ev_ebitda, transaction_mult, dcf_value)\n",
    "    high = max(pe, ev_ebitda, transaction_mult, dcf_value)\n",
    "    return low, high\n",
    "\n",
    "# Example values\n",
    "pe_val = 200\n",
    "ev_ebitda_val = 220\n",
    "transaction_mult_val = 210\n",
    "dcf_val = 240\n",
    "\n",
    "low_val, high_val = valuation_range(pe_val, ev_ebitda_val, transaction_mult_val, dcf_val)\n",
    "print(f\"Valuation Range: ${low_val:.2f} - ${high_val:.2f}\")\n",
    "\n",
    "# Test the function with different inputs\n",
    "print(valuation_range(210, 230, 220, 250))\n",
    "print(valuation_range(180, 200, 190, 210))"
   ]
  },
  {
   "cell_type": "markdown",
   "metadata": {},
   "source": [
    "\n",
    "### Chapter 6: Financial Modeling\n",
    "\n",
    "#### Overview of an Integrated Cash Flow Model\n",
    "Financial modeling involves creating a summary of a company's expenses and earnings, typically in the form of a spreadsheet, to predict future financial performance. An integrated cash flow model connects the income statement, balance sheet, and cash flow statement.\n",
    "\n",
    "### Building an Integrated Cash Flow Model\n",
    "\n",
    "#### Forecasting the Income Statement\n",
    "The income statement forecasts revenues, expenses, and profits."
   ]
  },
  {
   "cell_type": "code",
   "execution_count": 58,
   "metadata": {},
   "outputs": [
    {
     "name": "stdout",
     "output_type": "stream",
     "text": [
      "Net Income: $280000.0\n",
      "450000.0\n",
      "560000.0\n"
     ]
    }
   ],
   "source": [
    "def forecast_income_statement (revenue, expenses, tax_rate):\n",
    "    net_income = (revenue - expenses) * (1 - tax_rate)\n",
    "    return net_income   \n",
    "\n",
    "# Example forecast\n",
    "revenue = 1000000\n",
    "expenses = 600000\n",
    "tax_rate = 0.3\n",
    "\n",
    "net_income = forecast_income_statement(revenue, expenses, tax_rate)\n",
    "print(f\"Net Income: ${net_income}\")\n",
    "\n",
    "# Test the function with different inputs\n",
    "print(forecast_income_statement(1500000, 900000, 0.25))\n",
    "print(forecast_income_statement(2000000, 1200000, 0.3))\n",
    "\n"
   ]
  },
  {
   "cell_type": "markdown",
   "metadata": {},
   "source": [
    "\n",
    "#### Forecasting the Balance Sheet\n",
    "The balance sheet forecasts assets, liabilities, and equity.\n"
   ]
  },
  {
   "cell_type": "code",
   "execution_count": 57,
   "metadata": {},
   "outputs": [
    {
     "name": "stdout",
     "output_type": "stream",
     "text": [
      "[{'Year': 1, 'Revenue': 100000.0, 'COGS': 60000.0, 'SG&A': 20000.0, 'Operating Income': 20000.0, 'Net Income': 14000.0}, {'Year': 2, 'Revenue': 110000.00000000001, 'COGS': 66000.0, 'SG&A': 22000.000000000004, 'Operating Income': 22000.00000000001, 'Net Income': 15400.000000000007}, {'Year': 3, 'Revenue': 121000.00000000001, 'COGS': 72600.0, 'SG&A': 24200.000000000004, 'Operating Income': 24200.00000000001, 'Net Income': 16940.000000000007}, {'Year': 4, 'Revenue': 133100.00000000003, 'COGS': 79860.00000000001, 'SG&A': 26620.000000000007, 'Operating Income': 26620.000000000007, 'Net Income': 18634.000000000004}, {'Year': 5, 'Revenue': 146410.00000000003, 'COGS': 87846.00000000001, 'SG&A': 29282.000000000007, 'Operating Income': 29282.000000000007, 'Net Income': 20497.400000000005}]\n",
      "[{'Year': 1, 'Assets': 200000.0, 'Liabilities': 100000.0, 'Equity': 100000.0}, {'Year': 2, 'Assets': 210000.0, 'Liabilities': 103000.0, 'Equity': 107000.0}, {'Year': 3, 'Assets': 220500.0, 'Liabilities': 106090.0, 'Equity': 114410.0}, {'Year': 4, 'Assets': 231525.00000000003, 'Liabilities': 109272.7, 'Equity': 122252.30000000003}, {'Year': 5, 'Assets': 243101.25000000006, 'Liabilities': 112550.88100000001, 'Equity': 130550.36900000005}]\n"
     ]
    }
   ],
   "source": [
    "def forecast_balance_sheet (base_assets, base_liabilities, equity, assets_growth, liabilities_growth, years):\n",
    "    forecast = []\n",
    "    for year in range(years):\n",
    "        assets = base_assets * (1 + assets_growth) ** year\n",
    "        liabilities = base_liabilities * (1 + liabilities_growth) ** year\n",
    "        equity = assets - liabilities\n",
    "        forecast.append({\n",
    "            \"Year\": year + 1,\n",
    "            \"Assets\": assets,\n",
    "            \"Liabilities\": liabilities,\n",
    "            \"Equity\": equity\n",
    "        })\n",
    "    return forecast\n",
    "\n",
    "\n",
    "def forecast_cash_flows(net_income, depreciation, capex, change_in_wc, years):\n",
    "    forecast = []\n",
    "    for year in range(years):\n",
    "        free_cash_flow = net_income + depreciation - capex - change_in_wc\n",
    "        forecast.append({ \"Year\": year + 1, \"Free Cash Flow\": free_cash_flow })\n",
    "    return forecast\n",
    "\n",
    "# Example forecasts\n",
    "\n",
    "# Income Statement forecast\n",
    "revenue_growth = 0.1\n",
    "base_revenue = 100000\n",
    "cogs_ratio = 0.6\n",
    "sg_a_ratio = 0.2\n",
    "years = 5\n",
    "\n",
    "income_statement_forecast = forecast_income_statement(revenue_growth, base_revenue, cogs_ratio, sg_a_ratio, years)\n",
    "print(income_statement_forecast)\n",
    "\n",
    "# Balance Sheet forecast\n",
    "base_assets = 200000\n",
    "base_liabilities = 100000\n",
    "equity = 100000\n",
    "assets_growth = 0.05\n",
    "liabilities_growth = 0.03\n",
    "years = 5\n",
    "\n",
    "balance_sheet_forecast = forecast_balance_sheet(base_assets, base_liabilities, equity, assets_growth, liabilities_growth, years)\n",
    "print(balance_sheet_forecast)\n",
    "\n"
   ]
  },
  {
   "cell_type": "markdown",
   "metadata": {},
   "source": [
    "\n",
    "#### Forecasting the Cash Flow Statement\n",
    "The cash flow statement forecasts cash flows from operating, investing, and financing activities."
   ]
  },
  {
   "cell_type": "code",
   "execution_count": 56,
   "metadata": {},
   "outputs": [
    {
     "name": "stdout",
     "output_type": "stream",
     "text": [
      "Income Statement:\n",
      "{'Year': 1, 'Revenue': 100000.0, 'COGS': 60000.0, 'SG&A': 20000.0, 'Operating Income': 20000.0, 'Net Income': 14000.0}\n",
      "{'Year': 2, 'Revenue': 110000.00000000001, 'COGS': 66000.0, 'SG&A': 22000.000000000004, 'Operating Income': 22000.00000000001, 'Net Income': 15400.000000000007}\n",
      "{'Year': 3, 'Revenue': 121000.00000000001, 'COGS': 72600.0, 'SG&A': 24200.000000000004, 'Operating Income': 24200.00000000001, 'Net Income': 16940.000000000007}\n",
      "{'Year': 4, 'Revenue': 133100.00000000003, 'COGS': 79860.00000000001, 'SG&A': 26620.000000000007, 'Operating Income': 26620.000000000007, 'Net Income': 18634.000000000004}\n",
      "{'Year': 5, 'Revenue': 146410.00000000003, 'COGS': 87846.00000000001, 'SG&A': 29282.000000000007, 'Operating Income': 29282.000000000007, 'Net Income': 20497.400000000005}\n",
      "\n",
      "Balance Sheet:\n",
      "{'Year': 1, 'Assets': 514000.0, 'Liabilities': 300000.0, 'Equity': 214000.0}\n",
      "{'Year': 2, 'Assets': 529400.0, 'Liabilities': 315000.0, 'Equity': 214400.0}\n",
      "{'Year': 3, 'Assets': 546340.0, 'Liabilities': 330750.0, 'Equity': 215590.0}\n",
      "{'Year': 4, 'Assets': 564974.0, 'Liabilities': 347287.50000000006, 'Equity': 217686.49999999994}\n",
      "{'Year': 5, 'Assets': 585471.4, 'Liabilities': 364651.87500000006, 'Equity': 220819.52499999997}\n",
      "\n",
      "Cash Flow Statement:\n",
      "{'Year': 1, 'Operating Cash Flow': 19000.0, 'Investing Cash Flow': -20000, 'Financing Cash Flow': 5000, 'Net Cash Flow': 4000.0}\n",
      "{'Year': 2, 'Operating Cash Flow': 20400.000000000007, 'Investing Cash Flow': -20000, 'Financing Cash Flow': 5000, 'Net Cash Flow': 5400.000000000007}\n",
      "{'Year': 3, 'Operating Cash Flow': 21940.000000000007, 'Investing Cash Flow': -20000, 'Financing Cash Flow': 5000, 'Net Cash Flow': 6940.000000000007}\n",
      "{'Year': 4, 'Operating Cash Flow': 23634.000000000004, 'Investing Cash Flow': -20000, 'Financing Cash Flow': 5000, 'Net Cash Flow': 8634.000000000004}\n",
      "{'Year': 5, 'Operating Cash Flow': 25497.400000000005, 'Investing Cash Flow': -20000, 'Financing Cash Flow': 5000, 'Net Cash Flow': 10497.400000000005}\n"
     ]
    }
   ],
   "source": [
    "def forecast_cash_flow_statement(net_income_forecast, capex, change_in_working_capital, debt_issuance):\n",
    "    cash_flow_statement = []\n",
    "    for year_data in net_income_forecast:\n",
    "        operating_cash_flow = year_data[\"Net Income\"] + change_in_working_capital\n",
    "        investing_cash_flow = -capex\n",
    "        financing_cash_flow = debt_issuance - change_in_working_capital\n",
    "        net_cash_flow = operating_cash_flow + investing_cash_flow + financing_cash_flow\n",
    "        cash_flow_statement.append({\n",
    "            \"Year\": year_data[\"Year\"],\n",
    "            \"Operating Cash Flow\": operating_cash_flow,\n",
    "            \"Investing Cash Flow\": investing_cash_flow,\n",
    "            \"Financing Cash Flow\": financing_cash_flow,\n",
    "            \"Net Cash Flow\": net_cash_flow\n",
    "        })\n",
    "    return cash_flow_statement\n",
    "\n",
    "# Example forecast inputs\n",
    "revenue_growth = 0.1\n",
    "base_revenue = 100000\n",
    "cogs_ratio = 0.6\n",
    "sg_a_ratio = 0.2\n",
    "years = 5\n",
    "base_assets = 500000\n",
    "base_liabilities = 300000\n",
    "capex = 20000\n",
    "change_in_working_capital = 5000\n",
    "debt_issuance = 10000\n",
    "\n",
    "# Generate forecasted financial statements\n",
    "income_statement = forecast_income_statement(revenue_growth, base_revenue, cogs_ratio, sg_a_ratio, years)\n",
    "balance_sheet = forecast_balance_sheet(base_assets, base_liabilities, income_statement)\n",
    "cash_flow_statement = forecast_cash_flow_statement(income_statement, capex, change_in_working_capital, debt_issuance)\n",
    "\n",
    "# Display the forecasted financial statements\n",
    "print(\"Income Statement:\")\n",
    "for item in income_statement:\n",
    "    print(item)\n",
    "print(\"\\nBalance Sheet:\")\n",
    "for item in balance_sheet:\n",
    "    print(item)\n",
    "print(\"\\nCash Flow Statement:\")\n",
    "for item in cash_flow_statement:\n",
    "    print(item)\n"
   ]
  },
  {
   "cell_type": "markdown",
   "metadata": {},
   "source": [
    "\n",
    "#### Checking and Analyzing the Model\n",
    "It's important to verify the model's accuracy and consistency.\n"
   ]
  },
  {
   "cell_type": "code",
   "execution_count": 54,
   "metadata": {},
   "outputs": [
    {
     "name": "stdout",
     "output_type": "stream",
     "text": [
      "True\n",
      "Income Statement:\n",
      "{'Year': 1, 'Revenue': 100000.0, 'COGS': 60000.0, 'SG&A': 30000.0, 'Operating Income': 10000.0, 'Net Income': 7000.0}\n",
      "{'Year': 2, 'Revenue': 110000.00000000001, 'COGS': 66000.0, 'SG&A': 33000.0, 'Operating Income': 11000.000000000015, 'Net Income': 7700.00000000001}\n",
      "{'Year': 3, 'Revenue': 121000.00000000001, 'COGS': 72600.0, 'SG&A': 36300.0, 'Operating Income': 12100.000000000015, 'Net Income': 8470.00000000001}\n",
      "{'Year': 4, 'Revenue': 133100.00000000003, 'COGS': 79860.00000000001, 'SG&A': 39930.00000000001, 'Operating Income': 13310.000000000007, 'Net Income': 9317.000000000004}\n",
      "{'Year': 5, 'Revenue': 146410.00000000003, 'COGS': 87846.00000000001, 'SG&A': 43923.00000000001, 'Operating Income': 14641.000000000007, 'Net Income': 10248.700000000004}\n",
      "\n",
      "Balance Sheet:\n",
      "{'Year': 1, 'Assets': 507000.0, 'Liabilities': 300000.0, 'Equity': 207000.0}\n",
      "{'Year': 2, 'Assets': 514700.0, 'Liabilities': 315000.0, 'Equity': 199700.0}\n",
      "{'Year': 3, 'Assets': 523170.0, 'Liabilities': 330750.0, 'Equity': 192420.0}\n",
      "{'Year': 4, 'Assets': 532487.0, 'Liabilities': 347287.50000000006, 'Equity': 185199.49999999994}\n",
      "{'Year': 5, 'Assets': 542735.7, 'Liabilities': 364651.87500000006, 'Equity': 178083.8249999999}\n",
      "\n",
      "Cash Flow Statement:\n",
      "{'Year': 1, 'Operating Cash Flow': 12000.0, 'Investing Cash Flow': -20000, 'Financing Cash Flow': 5000, 'Net Cash Flow': -3000.0}\n",
      "{'Year': 2, 'Operating Cash Flow': 12700.000000000011, 'Investing Cash Flow': -20000, 'Financing Cash Flow': 5000, 'Net Cash Flow': -2299.999999999989}\n",
      "{'Year': 3, 'Operating Cash Flow': 13470.00000000001, 'Investing Cash Flow': -20000, 'Financing Cash Flow': 5000, 'Net Cash Flow': -1529.999999999991}\n",
      "{'Year': 4, 'Operating Cash Flow': 14317.000000000004, 'Investing Cash Flow': -20000, 'Financing Cash Flow': 5000, 'Net Cash Flow': -682.9999999999964}\n",
      "{'Year': 5, 'Operating Cash Flow': 15248.700000000004, 'Investing Cash Flow': -20000, 'Financing Cash Flow': 5000, 'Net Cash Flow': 248.70000000000437}\n"
     ]
    }
   ],
   "source": [
    "def check_model(income_statement, balance_sheet, cash_flow_statement):  \n",
    "    # Check if the total assets equals the sum of liabilities and equity  \n",
    "    for i in range(len(balance_sheet)):  \n",
    "        if balance_sheet[i][\"Assets\"] != balance_sheet[i][\"Liabilities\"] + balance_sheet[i][\"Equity\"]:  \n",
    "            return False  \n",
    "    # Check if the net income equals the sum of operating, investing, and financing cash flows  \n",
    "    for i in range(len(income_statement)):  \n",
    "        if cash_flow_statement[i][\"Net Cash Flow\"] != cash_flow_statement[i][\"Operating Cash Flow\"] + cash_flow_statement[i][\"Investing Cash Flow\"] + cash_flow_statement[i][\"Financing Cash Flow\"]:  \n",
    "            return False  \n",
    "    return True\n",
    "\n",
    "# Example forecast parameters and calculations  \n",
    "revenue_growth = 0.1    # 10% growth rate       \n",
    "base_revenue = 100000   # Initial revenue   \n",
    "cogs_ratio = 0.6        # COGS as a % of revenue    \n",
    "sg_a_ratio = 0.3        # SG&A as a % of revenue    \n",
    "years = 5               # Forecast period   \n",
    "base_assets = 500000    # Initial assets    \n",
    "base_liabilities = 300000   # Initial liabilities   \n",
    "capex = 20000           # Capital expenditures  \n",
    "change_in_working_capital = 5000   # Change in working capital  \n",
    "debt_issuance = 10000   # Debt issuance \n",
    "\n",
    "# Forecast the income statement \n",
    "income_statement = forecast_income_statement(revenue_growth, base_revenue, cogs_ratio, sg_a_ratio, years)   \n",
    "\n",
    "# Forecast the balance sheet    \n",
    "balance_sheet = forecast_balance_sheet(base_assets, base_liabilities, income_statement)\n",
    "\n",
    "# Forecast the cash flow statement\n",
    "cash_flow_statement = forecast_cash_flow_statement(income_statement, capex, change_in_working_capital, debt_issuance)\n",
    "\n",
    "# Check the model   \n",
    "print(check_model(income_statement, balance_sheet, cash_flow_statement))  \n",
    "\n",
    "# Print the forecasted financial statements \n",
    "print(\"Income Statement:\")  \n",
    "for item in income_statement:  \n",
    "    print(item) \n",
    "print(\"\\nBalance Sheet:\")\n",
    "for item in balance_sheet:  \n",
    "    print(item)\n",
    "print(\"\\nCash Flow Statement:\")\n",
    "for item in cash_flow_statement:  \n",
    "    print(item)\n",
    "\n"
   ]
  },
  {
   "cell_type": "markdown",
   "metadata": {},
   "source": [
    "\n",
    "### Chapter 7: Mergers and Acquisitions\n",
    "\n",
    "#### M&A Overview\n",
    "Mergers and Acquisitions (M&A) involve the consolidation of companies or assets. An M&A transaction can be a merger, acquisition, consolidation, tender offer, purchase of assets, or management acquisition.\n",
    "\n",
    "### The M&A Process\n",
    "The M&A process typically includes identifying targets, performing due diligence, negotiating terms, and closing the deal.\n",
    "\n",
    "### M&A Analysis\n",
    "\n",
    "#### Accretion/Dilution Analysis\n",
    "Accretion/Dilution analysis helps determine whether the acquisition will increase (accrete) or decrease (dilute) the acquirer's earnings per share (EPS).\n",
    "\n",
    "**Formula**:\n",
    "\n",
    "$$\n",
    "\\text{Accretion/Dilution} = \\frac{\\text{Pro Forma EPS} - \\text{Acquirer's EPS}}{\\text{Acquirer's EPS}} \\times 100\n",
    "$$\n"
   ]
  },
  {
   "cell_type": "code",
   "execution_count": 59,
   "metadata": {},
   "outputs": [
    {
     "name": "stdout",
     "output_type": "stream",
     "text": [
      "Accretion/Dilution: 10.00%\n",
      "9.090909090909092\n",
      "-5.0\n"
     ]
    }
   ],
   "source": [
    "def accretion_dilution(pro_forma_eps, acquirer_eps):\n",
    "    return ((pro_forma_eps - acquirer_eps) / acquirer_eps) * 100\n",
    "\n",
    "# Example calculation\n",
    "pro_forma_eps = 5.50\n",
    "acquirer_eps = 5.00\n",
    "\n",
    "result = accretion_dilution(pro_forma_eps, acquirer_eps)\n",
    "print(f\"Accretion/Dilution: {result:.2f}%\")\n",
    "\n",
    "# Test the function with different inputs\n",
    "print(accretion_dilution(6.00, 5.50))\n",
    "print(accretion_dilution(4.75, 5.00))\n"
   ]
  },
  {
   "cell_type": "markdown",
   "metadata": {},
   "source": [
    "\n",
    "#### Contribution Analysis\n",
    "Contribution analysis assesses the contribution of each company to the pro forma entity in an M&A transaction.\n",
    "\n",
    "**Formula**:\n",
    "\n",
    "$$\n",
    "\\text{Contribution} = \\frac{\\text{Target's Metric}}{\\text{Pro Forma Metric}} \\times 100 \n",
    "$$\n"
   ]
  },
  {
   "cell_type": "code",
   "execution_count": 60,
   "metadata": {},
   "outputs": [
    {
     "name": "stdout",
     "output_type": "stream",
     "text": [
      "Contribution: 25.00%\n",
      "25.0\n",
      "33.33333333333333\n"
     ]
    }
   ],
   "source": [
    "def contribution(target_metric, pro_forma_metric):\n",
    "    return (target_metric / pro_forma_metric) * 100\n",
    "\n",
    "# Example calculation\n",
    "target_revenue = 200000\n",
    "pro_forma_revenue = 800000\n",
    "\n",
    "result = contribution(target_revenue, pro_forma_revenue)\n",
    "print(f\"Contribution: {result:.2f}%\")\n",
    "\n",
    "# Test the function with different inputs\n",
    "print(contribution(250000, 1000000))\n",
    "print(contribution(300000, 900000))\n"
   ]
  },
  {
   "cell_type": "markdown",
   "metadata": {},
   "source": [
    "\n",
    "#### Analysis at Various Prices\n",
    "Analyzing an acquisition at various prices helps determine the financial impact and feasibility of the deal.\n"
   ]
  },
  {
   "cell_type": "code",
   "execution_count": 61,
   "metadata": {},
   "outputs": [
    {
     "name": "stdout",
     "output_type": "stream",
     "text": [
      "{'Price': 1000000, 'Enterprise Value': 1050000, 'Interest Expense': 52500.0, 'Net Income': 103250.0}\n",
      "{'Price': 1100000, 'Enterprise Value': 1150000, 'Interest Expense': 57500.0, 'Net Income': 99750.0}\n",
      "{'Price': 1200000, 'Enterprise Value': 1250000, 'Interest Expense': 62500.0, 'Net Income': 96250.0}\n",
      "{'Price': 1300000, 'Enterprise Value': 1350000, 'Interest Expense': 67500.0, 'Net Income': 92750.0}\n",
      "{'Price': 1400000, 'Enterprise Value': 1450000, 'Interest Expense': 72500.0, 'Net Income': 89250.0}\n",
      "{'Price': 1500000, 'Enterprise Value': 1550000, 'Interest Expense': 77500.0, 'Net Income': 85750.0}\n",
      "{'Price': 1600000, 'Enterprise Value': 1650000, 'Interest Expense': 82500.0, 'Net Income': 82250.0}\n",
      "{'Price': 1700000, 'Enterprise Value': 1750000, 'Interest Expense': 87500.0, 'Net Income': 78750.0}\n",
      "{'Price': 1800000, 'Enterprise Value': 1850000, 'Interest Expense': 92500.0, 'Net Income': 75250.0}\n"
     ]
    }
   ],
   "source": [
    "def analyze_various_prices(price_range, target_ebitda, synergies, cost_of_debt, tax_rate):\n",
    "    analysis = []\n",
    "    for price in price_range:\n",
    "        enterprise_value = price + synergies\n",
    "        interest_expense = enterprise_value * cost_of_debt\n",
    "        net_income = (target_ebitda - interest_expense) * (1 - tax_rate)\n",
    "        analysis.append({\n",
    "            \"Price\": price,\n",
    "            \"Enterprise Value\": enterprise_value,\n",
    "            \"Interest Expense\": interest_expense,\n",
    "            \"Net Income\": net_income\n",
    "        })\n",
    "    return analysis\n",
    "\n",
    "# Example calculation\n",
    "price_range = [1000000, 1100000, 1200000]\n",
    "target_ebitda = 200000\n",
    "synergies = 50000\n",
    "cost_of_debt = 0.05\n",
    "tax_rate = 0.3\n",
    "\n",
    "price_analysis = analyze_various_prices(price_range, target_ebitda, synergies, cost_of_debt, tax_rate)\n",
    "for analysis in price_analysis:\n",
    "    print(analysis)\n",
    "\n",
    "# Test the function with different inputs\n",
    "price_range_1 = [1300000, 1400000, 1500000]\n",
    "price_analysis_1 = analyze_various_prices(price_range_1, target_ebitda, synergies, cost_of_debt, tax_rate)\n",
    "for analysis in price_analysis_1:\n",
    "    print(analysis)\n",
    "\n",
    "price_range_2 = [1600000, 1700000, 1800000]\n",
    "price_analysis_2 = analyze_various_prices(price_range_2, target_ebitda, synergies, cost_of_debt, tax_rate)\n",
    "for analysis in price_analysis_2:\n",
    "    print(analysis)"
   ]
  },
  {
   "cell_type": "markdown",
   "metadata": {},
   "source": [
    "\n",
    "### End-of-Chapter Questions\n"
   ]
  },
  {
   "cell_type": "code",
   "execution_count": 62,
   "metadata": {},
   "outputs": [
    {
     "name": "stdout",
     "output_type": "stream",
     "text": [
      "Accretion/Dilution: 18.18%\n",
      "Contribution: 25.00%\n",
      "{'Price': 1500000, 'Enterprise Value': 1560000, 'Interest Expense': 93600.0, 'Net Income': 109480.0}\n",
      "{'Price': 1600000, 'Enterprise Value': 1660000, 'Interest Expense': 99600.0, 'Net Income': 105280.0}\n",
      "{'Price': 1700000, 'Enterprise Value': 1760000, 'Interest Expense': 105600.0, 'Net Income': 101080.0}\n"
     ]
    }
   ],
   "source": [
    "# Question 1: Calculate the accretion/dilution if the pro forma EPS is $6.50 and the acquirer's EPS is $5.50.\n",
    "\n",
    "# Solution\n",
    "pro_forma_eps_q1 = 6.50\n",
    "acquirer_eps_q1 = 5.50\n",
    "\n",
    "result_q1 = accretion_dilution(pro_forma_eps_q1, acquirer_eps_q1)\n",
    "print(f\"Accretion/Dilution: {result_q1:.2f}%\")\n",
    "\n",
    "# Question 2: Determine the contribution of a target with $300,000 revenue to a pro forma entity with $1,200,000 revenue.\n",
    "\n",
    "# Solution\n",
    "target_revenue_q2 = 300000\n",
    "pro_forma_revenue_q2 = 1200000\n",
    "\n",
    "result_q2 = contribution(target_revenue_q2, pro_forma_revenue_q2)\n",
    "print(f\"Contribution: {result_q2:.2f}%\")\n",
    "\n",
    "# Question 3: Analyze the financial impact of an acquisition at prices $1,500,000, $1,600,000, and $1,700,000 with target EBITDA of $250,000, synergies of $60,000, cost of debt of 6%, and tax rate of 30%.\n",
    "\n",
    "# Solution\n",
    "price_range_q3 = [1500000, 1600000, 1700000]\n",
    "target_ebitda_q3 = 250000\n",
    "synergies_q3 = 60000\n",
    "cost_of_debt_q3 = 0.06\n",
    "tax_rate_q3 = 0.3\n",
    "\n",
    "price_analysis_q3 = analyze_various_prices(price_range_q3, target_ebitda_q3, synergies_q3, cost_of_debt_q3, tax_rate_q3)\n",
    "for analysis in price_analysis_q3:\n",
    "    print(analysis)"
   ]
  },
  {
   "cell_type": "markdown",
   "metadata": {},
   "source": [
    "\n",
    "### Chapter 8: Leveraged Buyouts\n",
    "\n",
    "#### Overview of LBOs\n",
    "Leveraged Buyouts (LBOs) involve the acquisition of a company using a significant amount of borrowed money (leverage) to meet the cost of acquisition. The assets of the company being acquired are often used as collateral for the loans.\n",
    "\n",
    "### LBO Modeling\n",
    "\n",
    "#### Key Components of an LBO Model\n",
    "1. **Sources and Uses of Funds**: Identifying where the funds come from and how they will be used.\n",
    "2. **Financial Projections**: Projecting the company's financial performance.\n",
    "3. **Debt Schedule**: Planning the repayment of the debt.\n",
    "4. **Returns Analysis**: Calculating the returns to equity investors.\n"
   ]
  },
  {
   "cell_type": "markdown",
   "metadata": {},
   "source": [
    "\n",
    "### Calculating the Sources and Uses of Funds\n"
   ]
  },
  {
   "cell_type": "code",
   "execution_count": 63,
   "metadata": {},
   "outputs": [
    {
     "name": "stdout",
     "output_type": "stream",
     "text": [
      "Sources of Funds: {'Equity': 300000, 'Debt': 700000}\n",
      "Uses of Funds: {'Purchase Price': 1000000, 'Fees': 20000.0}\n",
      "Sources of Funds: {'Equity': 500000, 'Debt': 1000000}\n",
      "Uses of Funds: {'Purchase Price': 1500000, 'Fees': 30000.0}\n",
      "Sources of Funds: {'Equity': 600000, 'Debt': 1400000}\n",
      "Uses of Funds: {'Purchase Price': 2000000, 'Fees': 40000.0}\n"
     ]
    }
   ],
   "source": [
    "def sources_and_uses(purchase_price, equity_contribution, debt):\n",
    "    sources = {\n",
    "        \"Equity\": equity_contribution,\n",
    "        \"Debt\": debt\n",
    "    }\n",
    "    uses = {\n",
    "        \"Purchase Price\": purchase_price,\n",
    "        \"Fees\": purchase_price * 0.02  # Assuming 2% fees\n",
    "    }\n",
    "    return sources, uses\n",
    "\n",
    "# Example calculation\n",
    "purchase_price = 1000000\n",
    "equity_contribution = 300000\n",
    "debt = 700000\n",
    "\n",
    "sources, uses = sources_and_uses(purchase_price, equity_contribution, debt)\n",
    "print(\"Sources of Funds:\", sources)\n",
    "print(\"Uses of Funds:\", uses)\n",
    "\n",
    "# Test the function with different inputs\n",
    "sources_1, uses_1 = sources_and_uses(1500000, 500000, 1000000)\n",
    "print(\"Sources of Funds:\", sources_1)\n",
    "print(\"Uses of Funds:\", uses_1)\n",
    "\n",
    "sources_2, uses_2 = sources_and_uses(2000000, 600000, 1400000)\n",
    "print(\"Sources of Funds:\", sources_2)\n",
    "print(\"Uses of Funds:\", uses_2)"
   ]
  },
  {
   "cell_type": "markdown",
   "metadata": {},
   "source": [
    "\n",
    "### Projecting Financial Performance\n"
   ]
  },
  {
   "cell_type": "code",
   "execution_count": 64,
   "metadata": {},
   "outputs": [
    {
     "name": "stdout",
     "output_type": "stream",
     "text": [
      "{'Year': 1, 'Revenue': 525000.0, 'EBITDA': 105000.0}\n",
      "{'Year': 2, 'Revenue': 551250.0, 'EBITDA': 110250.0}\n",
      "{'Year': 3, 'Revenue': 578812.5, 'EBITDA': 115762.5}\n",
      "{'Year': 4, 'Revenue': 607753.125, 'EBITDA': 121550.625}\n",
      "{'Year': 5, 'Revenue': 638140.78125, 'EBITDA': 127628.15625}\n",
      "{'Year': 1, 'Revenue': 636000.0, 'EBITDA': 139920.0}\n",
      "{'Year': 2, 'Revenue': 674160.0, 'EBITDA': 148315.2}\n",
      "{'Year': 3, 'Revenue': 714609.6000000001, 'EBITDA': 157214.11200000002}\n",
      "{'Year': 4, 'Revenue': 757486.1760000001, 'EBITDA': 166646.95872000002}\n",
      "{'Year': 5, 'Revenue': 802935.3465600001, 'EBITDA': 176645.77624320003}\n",
      "{'Year': 1, 'Revenue': 728000.0, 'EBITDA': 182000.0}\n",
      "{'Year': 2, 'Revenue': 757120.0, 'EBITDA': 189280.0}\n",
      "{'Year': 3, 'Revenue': 787404.8, 'EBITDA': 196851.2}\n",
      "{'Year': 4, 'Revenue': 818900.9920000001, 'EBITDA': 204725.24800000002}\n",
      "{'Year': 5, 'Revenue': 851657.0316800001, 'EBITDA': 212914.25792000003}\n"
     ]
    }
   ],
   "source": [
    "def project_financials(revenue, growth_rate, ebitda_margin, years):\n",
    "    projections = []\n",
    "    for year in range(years):\n",
    "        revenue = revenue * (1 + growth_rate)\n",
    "        ebitda = revenue * ebitda_margin\n",
    "        projections.append({\n",
    "            \"Year\": year + 1,\n",
    "            \"Revenue\": revenue,\n",
    "            \"EBITDA\": ebitda\n",
    "        })\n",
    "    return projections\n",
    "\n",
    "# Example projection\n",
    "initial_revenue = 500000\n",
    "growth_rate = 0.05\n",
    "ebitda_margin = 0.2\n",
    "years = 5\n",
    "\n",
    "financial_projections = project_financials(initial_revenue, growth_rate, ebitda_margin, years)\n",
    "for projection in financial_projections:\n",
    "    print(projection)\n",
    "\n",
    "# Test the function with different inputs\n",
    "financial_projections_1 = project_financials(600000, 0.06, 0.22, 5)\n",
    "for projection in financial_projections_1:\n",
    "    print(projection)\n",
    "\n",
    "financial_projections_2 = project_financials(700000, 0.04, 0.25, 5)\n",
    "for projection in financial_projections_2:\n",
    "    print(projection)\n"
   ]
  },
  {
   "cell_type": "markdown",
   "metadata": {},
   "source": [
    "\n",
    "### Planning the Debt Schedule\n"
   ]
  },
  {
   "cell_type": "code",
   "execution_count": 66,
   "metadata": {},
   "outputs": [
    {
     "name": "stdout",
     "output_type": "stream",
     "text": [
      "{'Year': 1, 'Interest': 50000.0, 'Principal Payment': 950000.0, 'Remaining Principal': 950000.0}\n",
      "{'Year': 2, 'Interest': 47500.0, 'Principal Payment': 902500.0, 'Remaining Principal': 902500.0}\n",
      "{'Year': 3, 'Interest': 45125.0, 'Principal Payment': 857375.0, 'Remaining Principal': 857375.0}\n",
      "{'Year': 4, 'Interest': 42868.75, 'Principal Payment': 814506.25, 'Remaining Principal': 814506.25}\n",
      "{'Year': 5, 'Interest': 40725.3125, 'Principal Payment': 773780.9375, 'Remaining Principal': 773780.9375}\n",
      "{'Year': 1, 'Interest': 72000.0, 'Principal Payment': 1128000.0, 'Remaining Principal': 1128000.0}\n",
      "{'Year': 2, 'Interest': 67680.0, 'Principal Payment': 1060320.0, 'Remaining Principal': 1060320.0}\n",
      "{'Year': 3, 'Interest': 63619.2, 'Principal Payment': 996700.8, 'Remaining Principal': 996700.8}\n",
      "{'Year': 4, 'Interest': 59802.048, 'Principal Payment': 936898.7520000001, 'Remaining Principal': 936898.7520000001}\n",
      "{'Year': 5, 'Interest': 56213.92512000001, 'Principal Payment': 880684.8268800001, 'Remaining Principal': 880684.8268800001}\n",
      "{'Year': 1, 'Interest': 60000.0, 'Principal Payment': 1440000.0, 'Remaining Principal': 1440000.0}\n",
      "{'Year': 2, 'Interest': 57600.0, 'Principal Payment': 1382400.0, 'Remaining Principal': 1382400.0}\n",
      "{'Year': 3, 'Interest': 55296.0, 'Principal Payment': 1327104.0, 'Remaining Principal': 1327104.0}\n",
      "{'Year': 4, 'Interest': 53084.16, 'Principal Payment': 1274019.84, 'Remaining Principal': 1274019.84}\n",
      "{'Year': 5, 'Interest': 50960.793600000005, 'Principal Payment': 1223059.0464, 'Remaining Principal': 1223059.0464}\n"
     ]
    }
   ],
   "source": [
    "def debt_schedule (principal, interest_rate, years):\n",
    "    schedule = []\n",
    "    for year in range(years):\n",
    "        interest = principal * interest_rate\n",
    "        principal_payment = principal - interest\n",
    "        principal = principal_payment\n",
    "        schedule.append({\n",
    "            \"Year\": year + 1,\n",
    "            \"Interest\": interest,\n",
    "            \"Principal Payment\": principal_payment,\n",
    "            \"Remaining Principal\": principal\n",
    "        })\n",
    "    return schedule \n",
    "\n",
    "# Example calculation\n",
    "principal = 1000000\n",
    "interest_rate = 0.05\n",
    "years = 5\n",
    "\n",
    "debt_payment_schedule = debt_schedule(principal, interest_rate, years)\n",
    "for payment in debt_payment_schedule:\n",
    "    print(payment)\n",
    "\n",
    "# Test the function with different inputs\n",
    "principal_1 = 1200000\n",
    "interest_rate_1 = 0.06\n",
    "years_1 = 5 \n",
    "\n",
    "debt_payment_schedule_1 = debt_schedule(principal_1, interest_rate_1, years_1)\n",
    "for payment in debt_payment_schedule_1:\n",
    "    print(payment)\n",
    "\n",
    "principal_2 = 1500000\n",
    "interest_rate_2 = 0.04\n",
    "years_2 = 5\n",
    "\n",
    "debt_payment_schedule_2 = debt_schedule(principal_2, interest_rate_2, years_2)\n",
    "for payment in debt_payment_schedule_2:\n",
    "    print(payment)\n"
   ]
  },
  {
   "cell_type": "markdown",
   "metadata": {},
   "source": [
    "\n",
    "### Calculating Returns to Equity Investors\n"
   ]
  },
  {
   "cell_type": "code",
   "execution_count": 67,
   "metadata": {},
   "outputs": [
    {
     "name": "stdout",
     "output_type": "stream",
     "text": [
      "Internal Rate of Return (IRR): 494232962.28%\n",
      "Internal Rate of Return (IRR): 826934370.24%\n",
      "Internal Rate of Return (IRR): 660583486.01%\n"
     ]
    }
   ],
   "source": [
    "def calculate_irr(cash_flows):\n",
    "    n = len(cash_flows)\n",
    "    irr = 0.1\n",
    "    for _ in range(100):\n",
    "        npv = sum(cf / (1 + irr) ** t for t, cf in enumerate(cash_flows))\n",
    "        irr += (0 - npv) / n\n",
    "    return irr * 100\n",
    "\n",
    "# Example calculation\n",
    "cash_flows = [-300000, 50000, 70000, 90000, 120000, 150000]\n",
    "\n",
    "irr = calculate_irr(cash_flows)\n",
    "print(f\"Internal Rate of Return (IRR): {irr:.2f}%\")\n",
    "\n",
    "# Test the function with different inputs\n",
    "cash_flows_1 = [-500000, 60000, 80000, 100000, 130000, 160000]\n",
    "irr_1 = calculate_irr(cash_flows_1)\n",
    "print(f\"Internal Rate of Return (IRR): {irr_1:.2f}%\")\n",
    "\n",
    "cash_flows_2 = [-400000, 55000, 75000, 95000, 125000, 155000]\n",
    "irr_2 = calculate_irr(cash_flows_2)\n",
    "print(f\"Internal Rate of Return (IRR): {irr_2:.2f}%\")\n"
   ]
  },
  {
   "cell_type": "markdown",
   "metadata": {},
   "source": [
    "\n",
    "### End-of-Chapter Questions"
   ]
  },
  {
   "cell_type": "code",
   "execution_count": 69,
   "metadata": {},
   "outputs": [
    {
     "name": "stdout",
     "output_type": "stream",
     "text": [
      "Sources of Funds: {'Equity': 800000, 'Debt': 1700000}\n",
      "Uses of Funds: {'Purchase Price': 2500000, 'Fees': 50000.0}\n",
      "{'Year': 1, 'Revenue': 802500.0, 'EBITDA': 200625.0}\n",
      "{'Year': 2, 'Revenue': 858675.0, 'EBITDA': 214668.75}\n",
      "{'Year': 3, 'Revenue': 918782.25, 'EBITDA': 229695.5625}\n",
      "{'Year': 4, 'Revenue': 983097.0075000001, 'EBITDA': 245774.25187500002}\n",
      "{'Year': 5, 'Revenue': 1051913.7980250001, 'EBITDA': 262978.44950625004}\n",
      "{'Year': 1, 'Interest': 100000.0, 'Principal Payment': 900000.0, 'Remaining Principal': 900000.0}\n",
      "{'Year': 2, 'Interest': 90000.0, 'Principal Payment': 810000.0, 'Remaining Principal': 810000.0}\n",
      "{'Year': 3, 'Interest': 81000.0, 'Principal Payment': 729000.0, 'Remaining Principal': 729000.0}\n",
      "{'Year': 4, 'Interest': 72900.0, 'Principal Payment': 656100.0, 'Remaining Principal': 656100.0}\n",
      "{'Year': 5, 'Interest': 65610.0, 'Principal Payment': 590490.0, 'Remaining Principal': 590490.0}\n",
      "Internal Rate of Return (IRR): 659604636.19%\n"
     ]
    }
   ],
   "source": [
    "\n",
    "# Question 1: Calculate the sources and uses of funds for a purchase price of $2,500,000, an equity contribution of $800,000, and debt of $1,700,000.\n",
    "\n",
    "# Solution\n",
    "purchase_price_q1 = 2500000\n",
    "equity_contribution_q1 = 800000\n",
    "debt_q1 = 1700000\n",
    "\n",
    "sources_q1, uses_q1 = sources_and_uses(purchase_price_q1, equity_contribution_q1, debt_q1)\n",
    "print(\"Sources of Funds:\", sources_q1)\n",
    "print(\"Uses of Funds:\", uses_q1)\n",
    "\n",
    "# Question 2: Create financial projections for an initial revenue of $750,000, a growth rate of 7%, and an EBITDA margin of 25% over 5 years.\n",
    "\n",
    "# Solution\n",
    "initial_revenue_q2 = 750000\n",
    "growth_rate_q2 = 0.07\n",
    "ebitda_margin_q2 = 0.25\n",
    "years_q2 = 5\n",
    "\n",
    "financial_projections_q2 = project_financials(initial_revenue_q2, growth_rate_q2, ebitda_margin_q2, years_q2)\n",
    "for projection in financial_projections_q2:\n",
    "    print(projection)\n",
    "\n",
    "# Question 3: Create a debt schedule for an initial debt of $1,000,000, an interest rate of 10%, and annual repayments of $200,000 over 5 years.\n",
    "\n",
    "# Solution\n",
    "principal_q3 = 1000000\n",
    "interest_rate_q3 = 0.10\n",
    "years_q3 = 5\n",
    "\n",
    "debt_payment_schedule_q3 = debt_schedule(principal_q3, interest_rate_q3, years_q3)\n",
    "for payment in debt_payment_schedule_q3:\n",
    "    print(payment)\n",
    "\n",
    "# Question 4: Calculate the IRR for the following set of cash flows: [-400,000, 60,000, 80,000, 110,000, 150,000, 190,000].\n",
    "\n",
    "# Solution\n",
    "cash_flows_q4 = [-400000, 60000, 80000, 110000, 150000, 190000]\n",
    "\n",
    "irr_q4 = calculate_irr(cash_flows_q4)\n",
    "print(f\"Internal Rate of Return (IRR): {irr_q4:.2f}%\")\n"
   ]
  }
 ],
 "metadata": {
  "kernelspec": {
   "display_name": "data_analysis",
   "language": "python",
   "name": "python3"
  },
  "language_info": {
   "codemirror_mode": {
    "name": "ipython",
    "version": 3
   },
   "file_extension": ".py",
   "mimetype": "text/x-python",
   "name": "python",
   "nbconvert_exporter": "python",
   "pygments_lexer": "ipython3",
   "version": "3.12.4"
  }
 },
 "nbformat": 4,
 "nbformat_minor": 2
}
