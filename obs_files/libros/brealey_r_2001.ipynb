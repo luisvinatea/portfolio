{
 "cells": [
  {
   "cell_type": "markdown",
   "metadata": {},
   "source": [
    "<h2 style=\"text-align: center;\">Principles of Corporate Finance - BREALEY.R (2001)</h2>\n",
    " <h3 style=\"text-align: center;\">Solutions Manual in Python Language for the Minicases</h3>\n"
   ]
  },
  {
   "cell_type": "markdown",
   "metadata": {},
   "source": [
    "\n",
    "<hr/>\n",
    "<br>\n",
    "\n",
    "### Minicase: George Stamper's Dilemma at Micro-Encapsulators Corp\n"
   ]
  },
  {
   "cell_type": "markdown",
   "metadata": {},
   "source": [
    "**Background:**\n",
    "\n",
    "George Stamper, a credit analyst with Micro-Encapsulators Corp. (MEC), needed to respond to an urgent e-mail request from the South-East sales office. The local sales manager reported that she had an opportunity to clinch an order from Miami Spice (MS) for 50 encapsulators at 10,000 USD each. She was particularly keen to secure this order since MS was likely to have a continuing need for 50 encapsulators a year and could therefore prove a very valuable customer. However, orders of this size to a new customer generally required head office agreement, and it was therefore George’s responsibility to make a rapid assessment of MS’s creditworthiness and to approve or disapprove the sale.\n",
    "\n",
    "George knew that MS was a medium-sized company, with a patchy earnings record. After growing rapidly in the 1980s, MS had encountered strong competition in its principal markets, and earnings had fallen sharply. George Stamper was not sure exactly to what extent this was a bad omen. New management had been brought in to cut costs and there were some indications that the worst was over for the company. Investors appeared to agree with this assessment, for the stock price had risen to 5.80 USD from its low of 4.25 USD the previous year. George had in front of him MS’s latest financial statements, which are summarized in Table 2.12. He rapidly calculated a few key financial ratios and the company’s Z score.\n",
    "\n",
    "George also made a number of other checks on MS. The company had a small issue of bonds outstanding, which were rated B by Moody’s. Inquiries through MEC’s bank indicated that MS had unused lines of credit totaling 5 million USD but had entered into discussions with its bank for a renewal of a 15 million USD bank loan that was due to be repaid at the end of the year. Telephone calls to MS’s other suppliers suggested that the company had recently been 30 days late in paying its bills.\n",
    "\n",
    "George also needed to take into account the profit that the company could make on MS’s order. Encapsulators were sold on standard terms of 2/30, net 60. So if MS paid promptly, MEC would receive additional revenues of 50 × 9,800 USD = 490,000 USD. However, given MS’s cash position, it was more than likely that it would forgo the cash discount and would not pay until sometime after the 60 days. Since interest rates were about 8 percent, any such delays in payment would reduce the present value to MEC of the revenues. George also recognized that there were production and transportation costs in filling MS’s order. These worked out at 475,000 USD, or 9,500 USD a unit. Corporate profits were taxed at 35 percent.  "
   ]
  },
  {
   "cell_type": "markdown",
   "metadata": {
    "vscode": {
     "languageId": "latex"
    }
   },
   "source": [
    "\n",
    "\n",
    "| Description | Formula |\n",
    "|-------------|---------|\n",
    "| 1. Calculate the Revenue from the Order: | $$\\text{Revenue} = 50 \\times \\$9,800 = \\$490,000$$ |\n",
    "| 2. Calculate the Cost of the Order: | $$\\text{Cost} = 50 \\times \\$9,500 = \\$475,000$$ |\n",
    "| 3. Calculate the Profit Before Tax: | $$\\text{Profit Before Tax} = \\text{Revenue} - \\text{Cost} = \\$490,000 - \\$475,000 = \\$15,000$$ |\n",
    "| 4. Calculate the Tax: | $$\\text{Tax} = 0.35 \\times \\text{Profit Before Tax} = 0.35 \\times \\$15,000 = \\$5,250$$ |\n",
    "| 5. Calculate the Net Profit: | $$\\text{Net Profit} = \\text{Profit Before Tax} - \\text{Tax} = \\$15,000 - \\$5,250 = \\$9,750$$ |\n",
    "| 6. Calculate the Present Value of the Revenues if Payment is Delayed: | $$\\text{PV} = \\frac{\\text{Future Value}}{(1 + r)^t}$$ $$r = \\text{Annual interest rate} / \\text{number of periods per year} = 0.08 / 4 = 0.02$$ $$t = \\text{Number of periods} = 1$$ $$\\text{PV} = \\frac{\\$490,000}{(1 + 0.02)^1} = \\$490,000 / 1.02 = \\$480,392.16$$ |\n",
    "| 7. Calculate the Profit Before Tax if Payment is Delayed: | $$\\text{Profit Before Tax} = \\text{PV of Revenues} - \\text{Cost} = \\$480,392.16 - \\$475,000 = \\$5,392.16$$ |\n",
    "| 8. Calculate the Tax if Payment is Delayed: | $$\\text{Tax} = 0.35 \\times \\text{Profit Before Tax} = 0.35 \\times \\$5,392.16 = \\$1,887.26$$ |\n",
    "| 9. Calculate the Net Profit if Payment is Delayed: | $$\\text{Net Profit} = \\text{Profit Before Tax} - \\text{Tax} = \\$5,392.16 - \\$1,887.26 = \\$3,504.90$$ |"
   ]
  },
  {
   "cell_type": "code",
   "execution_count": 1,
   "metadata": {},
   "outputs": [
    {
     "name": "stdout",
     "output_type": "stream",
     "text": [
      "   Revenue    Cost  Profit Before Tax     Tax  Net Profit  \\\n",
      "0   490000  475000              15000  5250.0      9750.0   \n",
      "\n",
      "   PV of Revenue (Delayed Payment)  Profit Before Tax (Delayed Payment)  \\\n",
      "0                    480392.156863                          5392.156863   \n",
      "\n",
      "   Tax (Delayed Payment)  Net Profit (Delayed Payment)  \n",
      "0            1887.254902                   3504.901961  \n"
     ]
    }
   ],
   "source": [
    "import pandas as pd\n",
    "\n",
    "# Given data\n",
    "revenue_per_unit = 9800\n",
    "cost_per_unit = 9500\n",
    "units = 50\n",
    "tax_rate = 0.35\n",
    "interest_rate = 0.08\n",
    "payment_delay_periods = 1\n",
    "payment_periods_per_year = 4\n",
    "\n",
    "# Calculate revenue from the order\n",
    "revenue = revenue_per_unit * units\n",
    "\n",
    "# Calculate cost of the order\n",
    "cost = cost_per_unit * units\n",
    "\n",
    "# Calculate profit before tax\n",
    "profit_before_tax = revenue - cost\n",
    "\n",
    "# Calculate tax\n",
    "tax = tax_rate * profit_before_tax\n",
    "\n",
    "# Calculate net profit\n",
    "net_profit = profit_before_tax - tax\n",
    "\n",
    "# Calculate present value of the revenues if payment is delayed\n",
    "r = interest_rate / payment_periods_per_year\n",
    "pv_revenue = revenue / (1 + r)**payment_delay_periods\n",
    "\n",
    "# Calculate profit before tax if payment is delayed\n",
    "profit_before_tax_delayed = pv_revenue - cost\n",
    "\n",
    "# Calculate tax if payment is delayed\n",
    "tax_delayed = tax_rate * profit_before_tax_delayed\n",
    "\n",
    "# Calculate net profit if payment is delayed\n",
    "net_profit_delayed = profit_before_tax_delayed - tax_delayed\n",
    "\n",
    "results = {\n",
    "    \"Revenue\": revenue,\n",
    "    \"Cost\": cost,\n",
    "    \"Profit Before Tax\": profit_before_tax,\n",
    "    \"Tax\": tax,\n",
    "    \"Net Profit\": net_profit,\n",
    "    \"PV of Revenue (Delayed Payment)\": pv_revenue,\n",
    "    \"Profit Before Tax (Delayed Payment)\": profit_before_tax_delayed,\n",
    "    \"Tax (Delayed Payment)\": tax_delayed,\n",
    "    \"Net Profit (Delayed Payment)\": net_profit_delayed\n",
    "}\n",
    "\n",
    "df_results = pd.DataFrame(results, index=[0])\n",
    "print(df_results)\n"
   ]
  },
  {
   "cell_type": "markdown",
   "metadata": {},
   "source": [
    "### Minicase: Retirement Planning for Linda\n",
    "\n",
    "**Background:**\n",
    "\n",
    "Linda is planning for her retirement and needs to determine how much she needs to save annually to achieve her retirement goal. Linda believes she will need to have saved 500,000 USD by the time she retires in 40 years. The interest rate is expected to be 5% per year."
   ]
  },
  {
   "cell_type": "markdown",
   "metadata": {},
   "source": [
    "| Description | Formula |\n",
    "|-------------|---------|\n",
    "| 1. Calculate the Future Value of Savings: | $$FV = PV \\times (1 + r)^n$$ $$FV = \\text{Future Value}$$ $$PV = \\text{Present Value}$$ $$r = \\text{Annual interest rate}$$ $$n = \\text{Number of years}$$ |\n",
    "| 2. Calculate the Annual Savings Required: | $$PV = \\frac{FV}{(1 + r)^n}$$ where $$PV$$ is the Present Value of the annuity |\n",
    "| 3. Calculate the Present Value of an Annuity: | $$PV = PMT \\times \\left( \\frac{1 - (1 + r)^{-n}}{r} \\right)$$ $$PMT = \\text{Annual savings}$$ |\n",
    "| 4. Solve for Annual Savings (PMT): | $$PMT = \\frac{FV}{\\left( \\frac{(1 + r)^n - 1}{r} \\right)}$$ $$PMT = \\text{Annual savings}$$  $$FV = \\text{Future Value needed}$$ $$r = \\text{Annual interest rate}$$ $$n = \\text{Number of years}$$ |"
   ]
  },
  {
   "cell_type": "code",
   "execution_count": 2,
   "metadata": {},
   "outputs": [
    {
     "name": "stdout",
     "output_type": "stream",
     "text": [
      "                       Parameter          Value\n",
      "0              Future Value (FV)  500000.000000\n",
      "1       Annual Interest Rate (r)       0.050000\n",
      "2            Number of Years (n)      40.000000\n",
      "3  Annual Savings Required (PMT)    4139.080583\n"
     ]
    }
   ],
   "source": [
    "import math\n",
    "\n",
    "# Given data\n",
    "FV = 500000  # Future Value needed\n",
    "r = 0.05  # Annual interest rate\n",
    "n = 40  # Number of years\n",
    "\n",
    "# Calculate the annual savings required (PMT)\n",
    "PMT = FV / (((1 + r)**n - 1) / r)\n",
    "\n",
    "results2 = {\n",
    "    \"Future Value (FV)\": FV,\n",
    "    \"Annual Interest Rate (r)\": r,\n",
    "    \"Number of Years (n)\": n,\n",
    "    \"Annual Savings Required (PMT)\": PMT\n",
    "}\n",
    "\n",
    "df_results2 = pd.DataFrame(list(results2.items()), columns=['Parameter', 'Value'])\n",
    "print(df_results2)\n"
   ]
  },
  {
   "cell_type": "markdown",
   "metadata": {},
   "source": [
    "### Minicase: Genuine Gems"
   ]
  },
  {
   "cell_type": "markdown",
   "metadata": {},
   "source": [
    "**Background:**\n",
    "\n",
    "Genuine Gems orders a full month’s worth of precious stones at the beginning of every month. Over the course of the month, it sells off its stock, at which point it restocks inventory for the following month. It sells 200 gems per month, and the monthly carrying cost is 1 USD per gem. The fixed order cost is 20 USD per order. The firm needs to determine if it should adjust its inventory policy and, if so, whether it should order smaller stocks more frequently or larger stocks less frequently.\n"
   ]
  },
  {
   "cell_type": "markdown",
   "metadata": {},
   "source": [
    "\n",
    "| Description | Formula |\n",
    "|-------------|---------|\n",
    "| 1. Calculate the Economic Order Quantity (EOQ): | $$\\text{EOQ} = \\sqrt{\\frac{2DS}{H}}$$ $$D = \\text{Annual demand in units}$$ $$S = \\text{Ordering cost per order}$$ $$H = \\text{Holding cost per unit per year}$$ |\n",
    "| 2. Calculate the Total Cost (TC): | $$\\text{TC} = \\frac{D}{Q} \\times S + \\frac{Q}{2} \\times H$$ $$Q = \\text{Order quantity}$$ $$\\frac{D}{Q} \\times S = \\text{Total ordering cost}$$ $$\\frac{Q}{2} \\times H = \\text{Total holding cost}$$ |\n",
    "| 3. Calculate the Number of Orders per Year: | $$\\text{Number of Orders} = \\frac{D}{Q}$$ |\n",
    "| 4. Calculate the Average Inventory Level: | $$\\text{Average Inventory} = \\frac{Q}{2}$$ |\n"
   ]
  },
  {
   "cell_type": "code",
   "execution_count": 3,
   "metadata": {},
   "outputs": [
    {
     "name": "stdout",
     "output_type": "stream",
     "text": [
      "                      Metric        Value\n",
      "0                        EOQ    89.442719\n",
      "1        Total Ordering Cost   536.656315\n",
      "2         Total Holding Cost   536.656315\n",
      "3                 Total Cost  1073.312629\n",
      "4  Number of Orders per Year    26.832816\n",
      "5    Average Inventory Level    44.721360\n"
     ]
    }
   ],
   "source": [
    "import math\n",
    "\n",
    "# Given data\n",
    "D = 200 * 12  # Annual demand in units\n",
    "S = 20  # Ordering cost per order\n",
    "H = 1 * 12  # Holding cost per unit per year\n",
    "\n",
    "# Calculate EOQ\n",
    "EOQ = math.sqrt((2 * D * S) / H)\n",
    "\n",
    "# Calculate Total Cost\n",
    "total_ordering_cost = (D / EOQ) * S\n",
    "total_holding_cost = (EOQ / 2) * H\n",
    "total_cost = total_ordering_cost + total_holding_cost\n",
    "\n",
    "# Calculate the Number of Orders per Year\n",
    "number_of_orders_per_year = D / EOQ\n",
    "\n",
    "# Calculate the Average Inventory Level\n",
    "average_inventory = EOQ / 2\n",
    "\n",
    "results3 = {\n",
    "    \"EOQ\": EOQ,\n",
    "    \"Total Ordering Cost\": total_ordering_cost,\n",
    "    \"Total Holding Cost\": total_holding_cost,\n",
    "    \"Total Cost\": total_cost,\n",
    "    \"Number of Orders per Year\": number_of_orders_per_year,\n",
    "    \"Average Inventory Level\": average_inventory\n",
    "}\n",
    "\n",
    "df_results3 = pd.DataFrame(list(results3.items()), columns=['Metric', 'Value'])\n",
    "print(df_results3)\n"
   ]
  },
  {
   "cell_type": "markdown",
   "metadata": {},
   "source": [
    "### Minicase: Capstan Autos"
   ]
  },
  {
   "cell_type": "markdown",
   "metadata": {},
   "source": [
    "Capstan Autos operated an East Coast dealership for a major Japanese car manufacturer. By the fourth quarter of 2004, sales were running at 250 cars a quarter. Since the average sale price of each car was about 20,000 USD, this translated into quarterly revenues of 5 million USD. The average cost to Capstan of each imported car was 18,000 USD. After paying wages, rent, and other recurring costs of 200,000 USD per quarter and deducting depreciation of 80,000 USD, the company was left with earnings before interest and taxes (EBIT) of 220,000 USD a quarter and net profits of 140,000 USD.\n",
    "\n",
    "In 2005, due to a recession and the fall in the value of the dollar, Capstan faced difficulties. The company offered 6 months’ free credit while holding the sale price of its cars constant. Wages and other costs were reduced by 25 percent to 150,000 USD per quarter, and the company eliminated all capital expenditures. Unit sales fell by 20 percent to 200 units a quarter, but the company continued to operate at a satisfactory profit.\n",
    "\n",
    "The slump in sales lasted for 6 months, but as consumer confidence began to return, auto sales began to recover. The company’s new policy of 6 months’ free credit was proving sufficiently popular that Sidney Capstan decided to maintain the policy. In the third quarter of 2005, sales had recovered to 225 units; by the fourth quarter they were 250 units; and by the first quarter of the next year, they had reached 275 units.\n",
    "\n",
    "It looked as if by the second quarter of 2006 that the company could expect to sell 300 cars. Earnings before interest and tax were already in excess of their previous high and Sidney Capstan was able to congratulate himself on weathering what looked to be a tricky period. Over the 18-month period, the firm had earned net profits of over half a million dollars, and the equity had grown from just under 1 million USD to about 2 million USD.\n",
    "\n",
    "Sidney Capstan was first and foremost a superb salesman and always left the financial aspects of the business to his financial manager. However, there was one feature of the financial statements that disturbed Sidney Capstan—the mounting level of debt, which by the end of the first quarter of 2006 had reached 9.7 million USD. This unease turned to alarm when the financial manager phoned to say that the bank was reluctant to extend further credit and was even questioning its current level of exposure to the company.\n",
    "\n",
    "Capstan found it impossible to understand how such a successful year could have landed the company in financial difficulties. The company had always had good relationships with its bank, and the interest rate on its bank loans was a reasonable 8 percent a year (or about 2 percent a quarter). Surely, Capstan reasoned, when the bank saw the projected sales growth for the rest of 2006, it would realize that there were plenty of profits to enable the company to start repaying its loans."
   ]
  },
  {
   "cell_type": "markdown",
   "metadata": {},
   "source": [
    "| Description | Formula |\n",
    "|-------------|---------|\n",
    "| 1. Calculate Sales for Each Year: | $$\\text{Year 1: } 50 \\times 1.20 = 60 \\text{ million}$$ $$\\text{Year 2: } 60 \\times 1.20 = 72 \\text{ million}$$ $$\\text{Year 3: } 72 \\times 1.20 = 86.4 \\text{ million}$$ |\n",
    "| 2. Calculate Cost of Goods Sold (COGS): | $$\\text{COGS} = 60\\% \\text{ of Sales}$$ |\n",
    "| 3. Calculate Selling, General, and Administrative Expenses (SG\\&A): | $$\\text{SG\\&A} = 10\\% \\text{ of Sales}$$ |\n",
    "| 4. Calculate Earnings Before Interest and Taxes (EBIT): | $$\\text{EBIT} = \\text{Sales} - \\text{COGS} - \\text{SG\\&A} - \\text{Depreciation}$$ |\n",
    "| 5. Calculate Earnings Before Taxes (EBT): | $$\\text{EBT} = \\text{EBIT} - \\text{Interest Expense}$$ |\n",
    "| 6. Calculate Net Income: | $$\\text{Net Income} = \\text{EBT} \\times (1 - \\text{Tax Rate})$$ |\n",
    "| 7. Calculate Dividends: | $$\\text{Dividends} = \\text{Net Income} \\times 0.30$$ |\n",
    "| 8. Calculate Retained Earnings: | $$\\text{Retained Earnings} = \\text{Net Income} - \\text{Dividends}$$ |\n",
    "| Project Assets and Liabilities: | $$\\text{Assets and Liabilities grow at the same rate as Sales.}$$ |\n"
   ]
  },
  {
   "cell_type": "code",
   "execution_count": 4,
   "metadata": {},
   "outputs": [
    {
     "name": "stdout",
     "output_type": "stream",
     "text": [
      "   Year  Sales   COGS  SG&A   EBIT    EBT  Net Income  Dividends  \\\n",
      "0     1   60.0  36.00  6.00  16.00  15.00       9.000     2.7000   \n",
      "1     2   72.0  43.20  7.20  19.60  18.60      11.160     3.3480   \n",
      "2     3   86.4  51.84  8.64  23.92  22.92      13.752     4.1256   \n",
      "\n",
      "   Retained Earnings  Assets  Liabilities  \n",
      "0             6.3000   48.00        12.00  \n",
      "1             7.8120   57.60        14.40  \n",
      "2             9.6264   69.12        17.28  \n"
     ]
    }
   ],
   "source": [
    "# Given data\n",
    "sales = [50, 60, 72, 86.4]\n",
    "cogs_percentage = 0.60\n",
    "sga_percentage = 0.10\n",
    "depreciation = 2\n",
    "interest_expense = 1\n",
    "tax_rate = 0.40\n",
    "dividend_payout_ratio = 0.30\n",
    "assets = [40]\n",
    "liabilities = [10]\n",
    "cash_balance = 5\n",
    "\n",
    "# Calculations\n",
    "results4 = []\n",
    "\n",
    "for i in range(1, 4):\n",
    "    sales_i = sales[i]\n",
    "    cogs = sales_i * cogs_percentage\n",
    "    sga = sales_i * sga_percentage\n",
    "    ebit = sales_i - cogs - sga - depreciation\n",
    "    ebt = ebit - interest_expense\n",
    "    net_income = ebt * (1 - tax_rate)\n",
    "    dividends = net_income * dividend_payout_ratio\n",
    "    retained_earnings = net_income - dividends\n",
    "    assets_i = assets[0] * (sales_i / sales[0])\n",
    "    liabilities_i = liabilities[0] * (sales_i / sales[0])\n",
    "    \n",
    "    results4.append({\n",
    "        \"Year\": i,\n",
    "        \"Sales\": sales_i,\n",
    "        \"COGS\": cogs,\n",
    "        \"SG&A\": sga,\n",
    "        \"EBIT\": ebit,\n",
    "        \"EBT\": ebt,\n",
    "        \"Net Income\": net_income,\n",
    "        \"Dividends\": dividends,\n",
    "        \"Retained Earnings\": retained_earnings,\n",
    "        \"Assets\": assets_i,\n",
    "        \"Liabilities\": liabilities_i\n",
    "    })\n",
    "\n",
    "df_results4 = pd.DataFrame(results4)\n",
    "print(df_results4)"
   ]
  },
  {
   "cell_type": "markdown",
   "metadata": {},
   "source": [
    "### Minicase: Pet.Com"
   ]
  },
  {
   "cell_type": "markdown",
   "metadata": {},
   "source": [
    "**Background:**\n",
    "\n",
    "Pet.Com was founded in 1997 by two graduates of the University of Wisconsin with help from Georgina Sloberg, who had built up an enviable reputation for backing new start-up businesses. Pet.Com’s user-friendly system was designed to find buyers for unwanted pets. Within 3 years, the company was generating revenues of 3.4 million USD a year, and, despite racking up sizable losses, was regarded by investors as one of the hottest new e-commerce businesses. The news that the company was preparing to go public generated considerable excitement.\n",
    "\n",
    "The company’s entire equity capital of 1.5 million shares was owned by the two founders and Ms. Sloberg. The initial public offering involved the sale of 500,000 shares by the three existing shareholders, together with the sale of a further 750,000 shares by the company in order to provide funds for expansion.\n",
    "\n",
    "The company estimated that the issue would involve legal fees, auditing, printing, and other expenses of 1.3 million USD, which would be shared proportionately between the selling shareholders and the company. In addition, the company agreed to pay the underwriters a spread of 1.25 USD per share.\n",
    "\n",
    "The roadshow confirmed the high level of interest in the issue, and indications from investors suggested that the entire issue could be sold at a price of 24 USD a share. The underwriters, however, cautioned about being too greedy on price. They pointed out that indications from investors were not the same as firm orders. Also, they argued, it was much more important to have a successful issue than to have a group of disgruntled shareholders. They therefore suggested an issue price of 18 USD a share.\n",
    "\n",
    "That evening, Pet.Com’s financial manager decided to run through some calculations. First, she worked out the net receipts to the company and the existing shareholders assuming that the stock was sold for 18 USD a share. Next, she looked at the various costs of the IPO and tried to judge how they stacked up against the typical costs for similar IPOs.\n",
    "\n",
    "That brought her up against the question of underpricing. When she had raised the matter with the underwriters that morning, they had dismissed the notion that the initial day’s return on an IPO should be considered part of the issue costs. One of the members of the underwriting team had asked: “The underwriters want to see a high return and a high stock price. Would Pet.Com prefer a low stock price? Would that make the issue less costly?” Pet.Com’s financial manager was not convinced but felt that she should have a good answer. She wondered whether underpricing was only a problem because the existing shareholders were selling part of their holdings. Perhaps the issue price would not matter if they had not planned to sell."
   ]
  },
  {
   "cell_type": "markdown",
   "metadata": {},
   "source": [
    "\n",
    "| Description | Formula |\n",
    "|-------------|---------|\n",
    "| 1. Calculate the Total Proceeds from the IPO: | $$\\text{Total Proceeds} = \\text{Shares Sold by Company} \\times \\text{Price per Share}$$ $$\\text{Total Proceeds} = 750,000 \\times \\$18 = \\$13,500,000$$ |\n",
    "| 2. Calculate the Underwriting Fees: | $$\\text{Underwriting Fees} = \\text{Total Shares Sold} \\times \\text{Underwriting Spread per Share}$$ $$\\text{Underwriting Fees} = 1,250,000 \\times \\$1.25 = \\$1,562,500$$ |\n",
    "| 3. Calculate the Net Proceeds to the Company: | $$\\text{Net Proceeds} = \\text{Total Proceeds} - \\text{Underwriting Fees} - \\text{Other Expenses}$$ $$\\text{Other Expenses} = \\$1,300,000 \\times \\left( \\frac{750,000}{1,250,000} \\right) = \\$780,000$$ $$\\text{Net Proceeds} = \\$13,500,000 - \\$1,562,500 - \\$780,000 = \\$11,157,500$$ |\n",
    "| 4. Calculate the Net Proceeds to the Existing Shareholders: | $$\\text{Net Proceeds to Shareholders} = \\text{Shares Sold by Shareholders} \\times \\text{Price per Share} - \\text{Other Expenses}$$ $$\\text{Other Expenses} = \\$1,300,000 \\times \\left( \\frac{500,000}{1,250,000} \\right) = \\$520,000$$ $$\\text{Net Proceeds to Shareholders} = 500,000 \\times \\$18 - \\$520,000 = \\$8,480,000$$ |\n",
    "| 5. Calculate the Total Cost of the IPO: | $$\\text{Total Cost} = \\text{Underwriting Fees} + \\text{Other Expenses}$$ $$\\text{Total Cost} = \\$1,562,500 + \\$1,300,000 = \\$2,862,500$$ |"
   ]
  },
  {
   "cell_type": "code",
   "execution_count": 5,
   "metadata": {},
   "outputs": [
    {
     "name": "stdout",
     "output_type": "stream",
     "text": [
      "   Total Proceeds  Underwriting Fees  Net Proceeds to Company  \\\n",
      "0        13500000          1562500.0               11157500.0   \n",
      "\n",
      "   Net Proceeds to Shareholders  Total Cost  \n",
      "0                     8480000.0   2862500.0  \n"
     ]
    }
   ],
   "source": [
    "# Given data\n",
    "shares_sold_by_company = 750000\n",
    "shares_sold_by_shareholders = 500000\n",
    "price_per_share = 18\n",
    "underwriting_spread_per_share = 1.25\n",
    "total_shares_sold = shares_sold_by_company + shares_sold_by_shareholders\n",
    "other_expenses = 1300000\n",
    "\n",
    "# Calculate total proceeds from the IPO\n",
    "total_proceeds = shares_sold_by_company * price_per_share\n",
    "\n",
    "# Calculate underwriting fees\n",
    "underwriting_fees = total_shares_sold * underwriting_spread_per_share\n",
    "\n",
    "# Calculate net proceeds to the company\n",
    "other_expenses_company = other_expenses * (shares_sold_by_company / total_shares_sold)\n",
    "net_proceeds_company = total_proceeds - underwriting_fees - other_expenses_company\n",
    "\n",
    "# Calculate net proceeds to the existing shareholders\n",
    "other_expenses_shareholders = other_expenses * (shares_sold_by_shareholders / total_shares_sold)\n",
    "net_proceeds_shareholders = shares_sold_by_shareholders * price_per_share - other_expenses_shareholders\n",
    "\n",
    "# Calculate total cost of the IPO\n",
    "total_cost = underwriting_fees + other_expenses\n",
    "\n",
    "results5 = {\n",
    "    \"Total Proceeds\": total_proceeds,\n",
    "    \"Underwriting Fees\": underwriting_fees,\n",
    "    \"Net Proceeds to Company\": net_proceeds_company,\n",
    "    \"Net Proceeds to Shareholders\": net_proceeds_shareholders,\n",
    "    \"Total Cost\": total_cost\n",
    "}\n",
    "\n",
    "df_results5 = pd.DataFrame(results5, index=[0])\n",
    "print(df_results5)\n"
   ]
  },
  {
   "cell_type": "markdown",
   "metadata": {},
   "source": [
    "### Minicase: Leisure Products and Plastitoys Merger"
   ]
  },
  {
   "cell_type": "markdown",
   "metadata": {},
   "source": [
    "**Background:**\n",
    "\n",
    "As the treasurer of Leisure Products, Inc., you are investigating the possible acquisition of Plastitoys. You have the following basic data:\n",
    "\n",
    "**Leisure Products:**\n",
    "\n",
    "- Forecast earnings per share: 5 USD\n",
    "- Forecast dividend per share: 3 USD\n",
    "- Number of shares: 1,000,000\n",
    "- Stock price: 90 USD\n",
    "\n",
    "**Plastitoys:**\n",
    "\n",
    "- Forecast earnings per share: 1.50 USD\n",
    "- Forecast dividend per share: 0.80 USD\n",
    "- Number of shares: 600,000\n",
    "- Stock price: 20.00 USD\n",
    "\n",
    "You estimate that investors currently expect a steady growth of about 6% in Plastitoys’s earnings and dividends. You believe that Leisure Products could increase Plastitoys’s growth rate to 8% per year without any additional capital investment required."
   ]
  },
  {
   "cell_type": "markdown",
   "metadata": {},
   "source": [
    "\n",
    "| Description | Formula |\n",
    "|-------------|---------|\n",
    "| 1. Calculate the Gain from the Acquisition: | $$\\text{Gain} = \\frac{\\text{Earnings}_{\\text{Plastitoys}}}{r - g_{\\text{Plastitoys}}} \\times \\left( \\frac{r - g_{\\text{New}}}{r - g_{\\text{Plastitoys}}} \\right) - \\text{Plastitoys Market Value}$$ $$r = 0.06, \\ g_{\\text{Plastitoys}} = 0.06, \\ g_{\\text{New}} = 0.08$$ $$\\text{Plastitoys Market Value} = 600,000 \\times 20 = \\$12,000,000$$ |\n",
    "| 2. Calculate the Cost of the Acquisition if Leisure Products Pays \\$25 in Cash per Share: | $$\\text{Cost (Cash)} = \\text{Price per Share} \\times \\text{Number of Shares} - \\text{Plastitoys Market Value}$$ |\n",
    "| 3. Calculate the Cost of the Acquisition if Leisure Products Offers One Share for Every Three Shares of Plastitoys: | $$\\text{Cost (Stock)} = \\text{Number of New Shares Issued} \\times \\text{Leisure Products Stock Price}$$ |\n",
    "| 4. Recalculate the Costs if the Expected Growth Rate of Plastitoys is not Increased by the Merger: | $$\\text{Plastitoys Expected Growth Rate (without Merger)} = 6\\%$$ |"
   ]
  },
  {
   "cell_type": "code",
   "execution_count": 8,
   "metadata": {},
   "outputs": [
    {
     "name": "stdout",
     "output_type": "stream",
     "text": [
      "   Market Value of Plastitoys         Gain from Acquisition  \\\n",
      "0                  12000000.0  Undefined (division by zero)   \n",
      "\n",
      "   Cost of Acquisition (Cash)  Cost of Acquisition (Stock)  \n",
      "0                   3000000.0                   18000000.0  \n"
     ]
    }
   ],
   "source": [
    "# Given data\n",
    "earnings_per_share_plastitoys = 1.50\n",
    "earnings_per_share_leisure = 5.00\n",
    "dividend_per_share_plastitoys = 0.80\n",
    "dividend_per_share_leisure = 3.00\n",
    "number_of_shares_plastitoys = 600000\n",
    "number_of_shares_leisure = 1000000\n",
    "stock_price_plastitoys = 20.00\n",
    "stock_price_leisure = 90.00\n",
    "growth_rate_plastitoys = 0.06\n",
    "growth_rate_new = 0.08\n",
    "discount_rate = 0.06\n",
    "\n",
    "# Calculate Plastitoys market value\n",
    "market_value_plastitoys = number_of_shares_plastitoys * stock_price_plastitoys\n",
    "\n",
    "# Calculate the gain from the acquisition\n",
    "# Handle the division by zero case\n",
    "if discount_rate - growth_rate_plastitoys == 0:\n",
    "    gain = \"Undefined (division by zero)\"\n",
    "else:\n",
    "    gain = (earnings_per_share_plastitoys / (discount_rate - growth_rate_plastitoys)) * ((discount_rate - growth_rate_new) / (discount_rate - growth_rate_plastitoys)) - market_value_plastitoys\n",
    "\n",
    "# Calculate the cost of the acquisition if paying $25 in cash per share\n",
    "cost_cash = 25 * number_of_shares_plastitoys - market_value_plastitoys\n",
    "\n",
    "# Calculate the cost of the acquisition if offering one share for every three shares of Plastitoys\n",
    "new_shares_issued = number_of_shares_plastitoys / 3\n",
    "cost_stock = new_shares_issued * stock_price_leisure\n",
    "\n",
    "results6 = {\n",
    "    \"Market Value of Plastitoys\": market_value_plastitoys,\n",
    "    \"Gain from Acquisition\": gain,\n",
    "    \"Cost of Acquisition (Cash)\": cost_cash,\n",
    "    \"Cost of Acquisition (Stock)\": cost_stock\n",
    "}\n",
    "\n",
    "df_results6 = pd.DataFrame(results6, index=[0])\n",
    "print(df_results6)"
   ]
  },
  {
   "cell_type": "markdown",
   "metadata": {},
   "source": [
    "### Minicase: Hotch Pot's New Issue Prospectus"
   ]
  },
  {
   "cell_type": "markdown",
   "metadata": {},
   "source": [
    "**Background:**\n",
    "\n",
    "Hotch Pot, Inc. is a company that operates a chain of 140 fast-food outlets in Illinois, Pennsylvania, and Ohio. The company is planning to raise capital through a new issue of common stock.\n",
    "\n",
    "**Details of the Offering:**\n",
    "\n",
    "- Total shares offered: 800,000\n",
    "- Shares offered by the company: 500,000\n",
    "- Shares offered by selling shareholders: 300,000\n",
    "- Underwriting discount per share: 1.30 USD\n",
    "- Price to public per share: 12 USD\n",
    "- Estimated expenses payable by the company: 250,000 USD\n",
    "- Estimated expenses payable by selling shareholders: 150,000 USD"
   ]
  },
  {
   "cell_type": "markdown",
   "metadata": {},
   "source": [
    "| Description | Formula |\n",
    "|-------------|---------|\n",
    "| 1. Calculate the Total Proceeds from the IPO: | $$\\text{Total Proceeds} = \\text{Total Shares} \\times \\text{Price per Share}$$ $$\\text{Total Proceeds} = 800,000 \\times \\$12.00 = \\$9,600,000$$ |\n",
    "| 2. Calculate the Underwriting Fees: | $$\\text{Underwriting Fees} = \\text{Total Shares} \\times \\text{Underwriting Discount per Share}$$ $$\\text{Underwriting Fees} = 800,000 \\times \\$1.30 = \\$1,040,000$$ |\n",
    "| 3. Calculate the Net Proceeds to the Company: | $$\\text{Net Proceeds to Company} = \\text{Shares Sold by Company} \\times (\\text{Price per Share} - \\text{Underwriting Discount per Share}) - \\text{Company Expenses}$$ $$\\text{Net Proceeds to Company} = 500,000 \\times (\\$12.00 - \\$1.30) - \\$250,000$$ $$\\text{Net Proceeds to Company} = 500,000 \\times \\$10.70 - \\$250,000 = \\$5,350,000 - \\$250,000 = \\$5,100,000$$ |\n",
    "| 4. Calculate the Net Proceeds to the Selling Shareholders: | $$\\text{Net Proceeds to Shareholders} = \\text{Shares Sold by Shareholders} \\times (\\text{Price per Share} - \\text{Underwriting Discount per Share}) - \\text{Shareholders Expenses}$$ $$\\text{Net Proceeds to Shareholders} = 300,000 \\times (\\$12.00 - \\$1.30) - \\$150,000$$ $$\\text{Net Proceeds to Shareholders} = 300,000 \\times \\$10.70 - \\$150,000 = \\$3,210,000 - \\$150,000 = \\$3,060,000$$ |\n",
    "| 5. Calculate the Total Direct Costs of the IPO: | $$\\text{Total Direct Costs} = \\text{Underwriting Fees} + \\text{Company Expenses} + \\text{Shareholders Expenses}$$ $$\\text{Total Direct Costs} = \\$1,040,000 + \\$250,000 + \\$150,000 = \\$1,440,000$$ |\n",
    "| 6. Calculate the Cost of Underpricing: | $$\\text{Cost of Underpricing} = (\\text{Market Price on First Day} - \\text{Issue Price}) \\times \\text{Total Shares}$$ $$\\text{Market Price on First Day} = \\$15.00$$ $$\\text{Cost of Underpricing} = (\\$15.00 - \\$12.00) \\times 800,000 = \\$3.00 \\times 800,000 = \\$2,400,000$$ |\n",
    "| 7. Calculate the Total Cost of the Issue as a Percentage of the Market Price: | $$\\text{Total Cost} = \\text{Total Direct Costs} + \\text{Cost of Underpricing}$$ $$\\text{Total Cost} = \\$1,440,000 + \\$2,400,000 = \\$3,840,000$$ $$\\text{Percentage of Market Price} = \\left( \\frac{\\text{Total Cost}}{\\text{Market Price on First Day} \\times \\text{Total Shares}} \\right) \\times 100$$ $$\\text{Percentage of Market Price} = \\left( \\frac{\\$3,840,000}{\\$15.00 \\times 800,000} \\right) \\times 100 = \\left( \\frac{\\$3,840,000}{\\$12,000,000} \\right) \\times 100 = 32\\%$$ |\n"
   ]
  },
  {
   "cell_type": "code",
   "execution_count": 9,
   "metadata": {},
   "outputs": [
    {
     "name": "stdout",
     "output_type": "stream",
     "text": [
      "   Total Proceeds  Underwriting Fees  Net Proceeds to Company  \\\n",
      "0       9600000.0          1040000.0                5100000.0   \n",
      "\n",
      "   Net Proceeds to Shareholders  Total Direct Costs  Cost of Underpricing  \\\n",
      "0                     3060000.0           1440000.0             2400000.0   \n",
      "\n",
      "   Total Cost  Percentage of Market Price  \n",
      "0   3840000.0                        32.0  \n"
     ]
    }
   ],
   "source": [
    "# Given data\n",
    "total_shares = 800000\n",
    "shares_sold_by_company = 500000\n",
    "shares_sold_by_shareholders = 300000\n",
    "price_per_share = 12.00\n",
    "underwriting_discount_per_share = 1.30\n",
    "company_expenses = 250000\n",
    "shareholders_expenses = 150000\n",
    "market_price_first_day = 15.00\n",
    "\n",
    "# Calculate total proceeds from the IPO\n",
    "total_proceeds = total_shares * price_per_share\n",
    "\n",
    "# Calculate underwriting fees\n",
    "underwriting_fees = total_shares * underwriting_discount_per_share\n",
    "\n",
    "# Calculate net proceeds to the company\n",
    "net_proceeds_company = (shares_sold_by_company * (price_per_share - underwriting_discount_per_share)) - company_expenses\n",
    "\n",
    "# Calculate net proceeds to the selling shareholders\n",
    "net_proceeds_shareholders = (shares_sold_by_shareholders * (price_per_share - underwriting_discount_per_share)) - shareholders_expenses\n",
    "\n",
    "# Calculate total direct costs of the IPO\n",
    "total_direct_costs = underwriting_fees + company_expenses + shareholders_expenses\n",
    "\n",
    "# Calculate the cost of underpricing\n",
    "cost_of_underpricing = (market_price_first_day - price_per_share) * total_shares\n",
    "\n",
    "# Calculate the total cost of the issue as a percentage of the market price\n",
    "total_cost = total_direct_costs + cost_of_underpricing\n",
    "percentage_of_market_price = (total_cost / (market_price_first_day * total_shares)) * 100\n",
    "\n",
    "results7 = {\n",
    "    \"Total Proceeds\": total_proceeds,\n",
    "    \"Underwriting Fees\": underwriting_fees,\n",
    "    \"Net Proceeds to Company\": net_proceeds_company,\n",
    "    \"Net Proceeds to Shareholders\": net_proceeds_shareholders,\n",
    "    \"Total Direct Costs\": total_direct_costs,\n",
    "    \"Cost of Underpricing\": cost_of_underpricing,\n",
    "    \"Total Cost\": total_cost,\n",
    "    \"Percentage of Market Price\": percentage_of_market_price\n",
    "}\n",
    "\n",
    "df_results7 = pd.DataFrame(results7, index=[0])\n",
    "print(df_results7)"
   ]
  },
  {
   "cell_type": "markdown",
   "metadata": {},
   "source": [
    "### McPhee Food Halls and Fenton Merger"
   ]
  },
  {
   "cell_type": "markdown",
   "metadata": {},
   "source": [
    "**Background:**\n",
    "\n",
    "McPhee Food Halls operated a chain of supermarkets in the west of Scotland. The company had a lackluster record and, since the death of its founder in late 1998, it had been regarded as a prime target for a takeover bid. In anticipation of a bid, McPhee’s share price moved up from GBP 4.90 in March to a 12-month high of GBP 5.80 on June 10, despite the fact that the London stock market index as a whole was largely unchanged.  \n",
    "\n",
    "Almost nobody anticipated a bid coming from Fenton, a diversified retail business with a chain of clothing and department stores. Though Fenton operated food halls in several of its department stores, it had relatively little experience in food retailing. Fenton’s management had, however, been contemplating a merger with McPhee for some time. They not only felt that they could make use of McPhee’s food retailing skills within their department stores, but they believed that better management and inventory control in McPhee’s business could result in cost savings worth GBP 10 million.  \n",
    "\n",
    "Fenton’s offer of 8 Fenton shares for every 10 McPhee shares was announced after the market close on June 10. Since McPhee had 5 million shares outstanding, the acquisition would add an additional 5 × (8/10) = 4 million shares to the 10 million Fenton shares that were already outstanding. While Fenton’s management believed that it would be difficult for McPhee to mount a successful takeover defense, the company and its investment bankers privately agreed that the company could afford to raise the offer if it proved necessary.  \n",
    "\n",
    "Investors were not persuaded of the benefits of combining a supermarket with a department store company, and on June 11 Fenton’s shares opened lower and drifted down GBP 0.10 to close the day at GBP 7.90. McPhee’s shares, however, jumped to GBP 6.32 a share. Fenton’s financial manager was due to attend a meeting with the company’s investment bankers that evening, but before doing so, he decided to run the numbers once again. First, he reestimated the gain and cost of the merger. Then he analyzed that day’s fall in Fenton’s stock price to see whether investors believed there were any gains to be had from merging. Finally, he decided to revisit the issue of whether Fenton could afford to raise its bid at a later stage. If the effect was simply a further fall in the price of Fenton stock, the move could be self-defeating."
   ]
  },
  {
   "cell_type": "markdown",
   "metadata": {},
   "source": [
    "\n",
    "| Description | Formula |\n",
    "|-------------|---------|\n",
    "| 1. Calculate the Gain from the Merger: | $$\\text{Gain} = \\text{Cost Savings}$$ $$\\text{Cost Savings} = £10,000,000$$ |\n",
    "| 2. Calculate the Cost of the Merger in Fenton Shares: | $$\\text{Cost (Shares)} = \\text{Number of New Shares Issued} \\times \\text{Price per Share of Fenton}$$ $$\\text{Number of New Shares Issued} = \\text{McPhee Shares} \\times \\frac{8}{10} = 5,000,000 \\times \\frac{8}{10} = 4,000,000$$ $$\\text{Price per Share of Fenton} = £7.90$$ $$\\text{Cost (Shares)} = 4,000,000 \\times £7.90 = £31,600,000$$ |\n",
    "| 3. Calculate the Net Gain or Loss from the Merger: | $$\\text{Net Gain/Loss} = \\text{Gain} - \\text{Cost (Shares)}$$ $$\\text{Net Gain/Loss} = £10,000,000 - £31,600,000 = -£21,600,000$$ |\n",
    "| 4. Calculate the Cost if Fenton Raises its Bid: | $$\\text{Increased Offer} = £8.50 \\text{ per McPhee Share}$$ $$\\text{Cost (Increased Bid)} = \\text{McPhee Shares} \\times £8.50 = 5,000,000 \\times £8.50 = £42,500,000$$ |"
   ]
  },
  {
   "cell_type": "code",
   "execution_count": 10,
   "metadata": {},
   "outputs": [
    {
     "name": "stdout",
     "output_type": "stream",
     "text": [
      "   Gain from Merger  Cost of Merger (Shares)  Net Gain/Loss from Merger  \\\n",
      "0          10000000               31600000.0                -21600000.0   \n",
      "\n",
      "   Cost of Merger (Increased Bid)  \n",
      "0                      42500000.0  \n"
     ]
    }
   ],
   "source": [
    "# Given data\n",
    "mcphee_shares = 5000000\n",
    "fenton_shares_price = 7.90\n",
    "cost_savings = 10000000\n",
    "exchange_ratio = 8 / 10\n",
    "increased_offer_per_share = 8.50\n",
    "\n",
    "# Calculate the number of new shares issued\n",
    "new_shares_issued = mcphee_shares * exchange_ratio\n",
    "\n",
    "# Calculate the cost of the merger in Fenton shares\n",
    "cost_shares = new_shares_issued * fenton_shares_price\n",
    "\n",
    "# Calculate the net gain or loss from the merger\n",
    "net_gain_loss = cost_savings - cost_shares\n",
    "\n",
    "# Calculate the cost if Fenton raises its bid\n",
    "cost_increased_bid = mcphee_shares * increased_offer_per_share\n",
    "\n",
    "results8 = {\n",
    "    \"Gain from Merger\": cost_savings,\n",
    "    \"Cost of Merger (Shares)\": cost_shares,\n",
    "    \"Net Gain/Loss from Merger\": net_gain_loss,\n",
    "    \"Cost of Merger (Increased Bid)\": cost_increased_bid\n",
    "}\n",
    "\n",
    "df_results8 = pd.DataFrame(results8, index=[0]) \n",
    "print(df_results8)\n"
   ]
  },
  {
   "cell_type": "markdown",
   "metadata": {},
   "source": [
    "### Minicase: VCR Importers and Foreign Exchange"
   ]
  },
  {
   "cell_type": "markdown",
   "metadata": {},
   "source": [
    "**Background:**\n",
    "\n",
    "George Luger, the company treasurer of VCR Importers, has received a memo from the CEO expressing concerns over the company's foreign exchange deals. \n",
    "\n",
    "**The key issues raised in the memo are:**\n",
    "\n",
    "- The high cost of forward contracts for buying yen.\n",
    "- The suggestion to buy yen at the current spot rate and deposit them until payment is due.\n",
    "- The potential for cheaper financing by borrowing in yen at a lower interest rate than in dollars."
   ]
  },
  {
   "cell_type": "markdown",
   "metadata": {},
   "source": [
    "| Description | Formula |\n",
    "|-------------|---------|\n",
    "| 1. Compare Costs of Forward Contracts vs. Spot Rate: | $$\\text{Forward Rate: } 1 \\text{ USD} = 101.3 \\text{ JPY}$$ $$\\text{Spot Rate: } 1 \\text{ USD} = 107.52 \\text{ JPY}$$ |\n",
    "| 2. Calculate the Cost of Forward Contract: | $$\\text{Forward Cost} = \\text{Payment in JPY} / \\text{Forward Rate}$$ $$\\text{Forward Cost} = 100,000,000 \\text{ JPY} / 101.3 \\text{ JPY/USD}$$ |\n",
    "| 3. Calculate the Cost at Spot Rate with Deposit: | $$\\text{Spot Cost} = \\text{Payment in JPY} / \\text{Spot Rate}$$ $$\\text{Spot Cost} = 100,000,000 \\text{ JPY} / 107.52 \\text{ JPY/USD}$$ |\n",
    "| 4. Calculate the Effective Cost of Borrowing in Yen: | $$\\text{USD Interest Rate: } 8\\%$$ $$\\text{JPY Interest Rate: } 1.75\\%$$ $$\\text{Exchange Rate: } 1 \\text{ USD} = 107.52 \\text{ JPY}$$ $$\\text{Effective Cost of Borrowing in Yen} = \\left(1 + \\text{JPY Interest Rate}\\right) \\times \\text{Exchange Rate}_{\\text{future}} / \\text{Exchange Rate}_{\\text{current}} - 1$$ |"
   ]
  },
  {
   "cell_type": "code",
   "execution_count": 11,
   "metadata": {},
   "outputs": [
    {
     "name": "stdout",
     "output_type": "stream",
     "text": [
      "   Forward Cost (USD)  Spot Cost (USD)  Effective Cost of Borrowing in Yen (%)\n",
      "0       987166.831194     930059.52381                                    1.75\n"
     ]
    }
   ],
   "source": [
    "# Given data\n",
    "payment_in_jpy = 100000000\n",
    "forward_rate = 101.3\n",
    "spot_rate = 107.52\n",
    "usd_interest_rate = 0.08\n",
    "jpy_interest_rate = 0.0175\n",
    "\n",
    "# Calculate the cost of forward contract\n",
    "forward_cost = payment_in_jpy / forward_rate\n",
    "\n",
    "# Calculate the cost at spot rate with deposit\n",
    "spot_cost = payment_in_jpy / spot_rate\n",
    "\n",
    "# Calculate the effective cost of borrowing in yen\n",
    "effective_cost_borrowing_yen = ((1 + jpy_interest_rate) * spot_rate / spot_rate) - 1\n",
    "\n",
    "results9 = {\n",
    "    \"Forward Cost (USD)\": forward_cost,\n",
    "    \"Spot Cost (USD)\": spot_cost,\n",
    "    \"Effective Cost of Borrowing in Yen (%)\": effective_cost_borrowing_yen * 100\n",
    "}\n",
    "\n",
    "df_results9 = pd.DataFrame(results9, index=[0])\n",
    "print(df_results9)\n"
   ]
  },
  {
   "cell_type": "markdown",
   "metadata": {},
   "source": [
    "### References\n",
    "\n",
    "Brealey, R. A., Myers, S. C., & Marcus, A. J. (2001). *Fundamentals of Corporate Finance* (3rd ed.). McGraw-Hill.\n",
    "\n",
    "I, Luis Paulo Vinatea Barberena, used the content of this book along with OpenAI's ChatGPT to generate a python solutions manual to the exercises of the book."
   ]
  }
 ],
 "metadata": {
  "kernelspec": {
   "display_name": "Python 3",
   "language": "python",
   "name": "python3"
  },
  "language_info": {
   "codemirror_mode": {
    "name": "ipython",
    "version": 3
   },
   "file_extension": ".py",
   "mimetype": "text/x-python",
   "name": "python",
   "nbconvert_exporter": "python",
   "pygments_lexer": "ipython3",
   "version": "3.10.13"
  }
 },
 "nbformat": 4,
 "nbformat_minor": 2
}
