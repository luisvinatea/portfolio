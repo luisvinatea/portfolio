{
 "cells": [
  {
   "cell_type": "markdown",
   "id": "f2c48a01-480b-44cf-aa55-370eaa79f444",
   "metadata": {},
   "source": [
    "# Selección de Inversiones - Semana 1 "
   ]
  },
  {
   "attachments": {},
   "cell_type": "markdown",
   "id": "3f46aa7c-4411-4fba-bb85-86196f04207b",
   "metadata": {},
   "source": [
    "Francisco es un contable muy eficiente y entregado a su trabajo, en la actualidad tiene un cliente cuya empresa no consideró el desgaste de un elemento de transporte, un camión de gran tonelaje en este caso. La empresa estima que en un plazo de 2 años dejará de ser operativo. El costo de reposición de una nueva maquinaria es de aproximadamente 153.000,00€, debido a ello y teniendo en cuenta la importancia de este camión para el funcionamiento de la empresa, le propone a su cliente que considere dejar un porcentaje de los beneficios para las inversiones futuras. Una entidad financiera le ofrece una tasa de interés del 32% Nominal capitalizable trimestralmente. El director financiero de la empresa desea saber:     \n",
    "\n",
    "|Problema | Solución |Cálculos| \n",
    "|---------|----------|--------|\n",
    "|¿Cuánto debe dejar de sus beneficios para abrir una cuenta de inversión que le pueda dar en los dos años, la cantidad necesaria para la reposición?| Para resolver este problema, necesitamos calcular cuánto debe invertir la empresa hoy para que, en dos años, esa inversión crezca hasta los 153,000 € necesarios para reemplazar el camión. Dado que la tasa de interés es del 32% nominal anual capitalizable trimestralmente, primero debemos convertir esta tasa a su equivalente trimestral y luego usarla para calcular el valor presente.| $\\text{Tasa trimestral} = \\frac{0.32}{4} = 0.08$  $PV = \\frac{FV}{(1 + r)^n}$ |\n"
   ]
  },
  {
   "cell_type": "code",
   "execution_count": 1,
   "id": "242dd166-2d73-44b6-9009-e8a3bb9ed0a2",
   "metadata": {},
   "outputs": [
    {
     "data": {
      "text/plain": [
       "82661.13932880228"
      ]
     },
     "execution_count": 1,
     "metadata": {},
     "output_type": "execute_result"
    }
   ],
   "source": [
    "# Variables\n",
    "FV = 153000  # Valor futuro en euros\n",
    "tasa_nominal_anual = 0.32\n",
    "tasa_trimestral = tasa_nominal_anual / 4  # Tasa trimestral\n",
    "n_trimestres = 2 * 4  # Número de trimestres en 2 años\n",
    "\n",
    "# Calcular el valor presente\n",
    "PV = FV / (1 + tasa_trimestral) ** n_trimestres\n",
    "\n",
    "PV"
   ]
  },
  {
   "cell_type": "markdown",
   "id": "9b1bce82-bcff-45c2-bf90-fead26f74e40",
   "metadata": {},
   "source": [
    "### Explicación del código\n",
    "\n",
    "1. Definimos las variables: el valor futuro (153,000 €), la tasa nominal anual (32%), la tasa trimestral y el número de trimestres.\n",
    "2. Calculamos el valor presente usando la fórmula del valor presente con capitalización compuesta.\n",
    "\n",
    "### Resultado\n",
    "\n",
    "El resultado del valor presente (PV) nos dirá cuánto debe invertir la empresa hoy para alcanzar los 153,000 € en dos años con una tasa de interés del 32% nominal capitalizable trimestralmente."
   ]
  },
  {
   "attachments": {},
   "cell_type": "markdown",
   "id": "2e0e612f-d944-4a49-a9b2-51deab5de327",
   "metadata": {},
   "source": [
    "## 2.\n",
    "\n",
    "Un trabajador ha pedido un préstamo a la empresa dónde presta sus servicios. Ha pedido 17.000,00€ para poder cambiarse el coche. La empresa le ha concedido el préstamo a un tipo del 7% nominal, capitalizable cada 50 días.    \n",
    "\n",
    "|Problema | Solución |Cálculos| \n",
    "|---------|----------|--------|\n",
    "|¿Cuánto va a acabar pagando el empleado a la empresa al final del periodo concedido que es de un año?                                                                        | Para resolver este problema, necesitamos calcular el monto total que el trabajador pagará al final del año, considerando la tasa de interés del 7% nominal capitalizable cada 50 días|                                                                                                                                                                  $$\\text{Número de periodos} = \\frac{365}{50} \\approx 7.3$$ $$\\text{Tasa por periodo} = \\frac{0.07}{7.3} \\approx 0.00959$$ $$FV = PV \\times (1 + r)^n$$|"
   ]
  },
  {
   "cell_type": "code",
   "execution_count": 2,
   "id": "61f4de37-ee20-4752-ba39-b27e744b33cc",
   "metadata": {},
   "outputs": [
    {
     "data": {
      "text/plain": [
       "18226.55976048901"
      ]
     },
     "execution_count": 2,
     "metadata": {},
     "output_type": "execute_result"
    }
   ],
   "source": [
    "# Variables\n",
    "PV = 17000  # Valor presente en euros\n",
    "tasa_nominal_anual = 0.07\n",
    "numero_periodos = 365 / 50  # Número de periodos de 50 días en un año\n",
    "tasa_por_periodo = tasa_nominal_anual / numero_periodos  # Tasa por periodo\n",
    "\n",
    "# Calcular el valor futuro\n",
    "FV = PV * (1 + tasa_por_periodo) ** numero_periodos\n",
    "\n",
    "FV"
   ]
  },
  {
   "cell_type": "markdown",
   "id": "180ba2cf-1748-494b-82b6-fee986d9f0a7",
   "metadata": {},
   "source": [
    "### Explicación del código\n",
    "\n",
    "1. Definimos las variables: el valor presente (17,000 €), la tasa nominal anual (7%), el número de periodos de 50 días en un año y la tasa por periodo.\n",
    "2. Calculamos el valor futuro usando la fórmula del valor futuro con capitalización compuesta.\n",
    "\n",
    "### Resultado\n",
    "\n",
    "El resultado del valor futuro (FV) nos dirá cuánto va a acabar pagando el empleado a la empresa al final del año."
   ]
  },
  {
   "attachments": {},
   "cell_type": "markdown",
   "id": "e8744c52-888d-4e6d-9eb0-9ccbe4ab4a78",
   "metadata": {},
   "source": [
    "## 3. \n",
    "\n",
    "Antonio es el tutor de un niño adolescente y tiene la obligación de planificar su acceso a una Universidad privada. Al menor le faltan 5 años para empezar los estudios superiores. Pensando en la planificación que deberá realizar para cubrir el coste de las inscripciones y todos los gastos en que puedan incurrir al momento de su ingreso a la universidad, decide abrir una cuentas de ahorro en una entidad financiera local, ofreciéndole una tasa de interés del 14% Nominal capitalizable bimestralmente. La cuenta se abre con la  cantidad inicial de 20.000,00€  \n",
    "\n",
    "|Problema | Solución |Cálculos| \n",
    "|---------|----------|--------|\n",
    "|¿Cuánto recibirá la cuenta al retirar el monto total ahorrado al iniciar los estudios?| Para resolver este problema, necesitamos calcular el monto total que estará en la cuenta de ahorro al final de los 5 años, considerando la tasa de interés del 14% nominal capitalizable bimestralmente. | $$ \\text{Número de periodos bimestrales por año}$$ $$= \\frac{12}{2} = 6 $$ $$ \\text{Tasa bimestral} = \\frac{0.14}{6} \\approx 0.02333 $$ $$ FV = PV \\times (1 + r)^n $$ |"
   ]
  },
  {
   "cell_type": "code",
   "execution_count": 3,
   "id": "81431762-cf97-4dc3-a1dd-c367333f11fa",
   "metadata": {},
   "outputs": [
    {
     "data": {
      "text/plain": [
       "39952.46855766454"
      ]
     },
     "execution_count": 3,
     "metadata": {},
     "output_type": "execute_result"
    }
   ],
   "source": [
    "# Variables\n",
    "PV = 20000  # Valor presente en euros\n",
    "tasa_nominal_anual = 0.14\n",
    "numero_periodos_anuales = 6  # Número de periodos bimestrales por año\n",
    "tasa_bimestral = tasa_nominal_anual / numero_periodos_anuales  # Tasa bimestral\n",
    "numero_periodos_totales = 5 * numero_periodos_anuales  # Número total de periodos bimestrales en 5 años\n",
    "\n",
    "# Calcular el valor futuro\n",
    "FV = PV * (1 + tasa_bimestral) ** numero_periodos_totales\n",
    "\n",
    "FV"
   ]
  },
  {
   "cell_type": "markdown",
   "id": "a869eb0d-07dd-43d3-b488-1eaa4853f2cd",
   "metadata": {},
   "source": [
    "### Explicación del código\n",
    "\n",
    "1. Definimos las variables: el valor presente (20,000 €), la tasa nominal anual (14%), el número de periodos bimestrales por año (6) y la tasa bimestral.\n",
    "2. Calculamos el número total de periodos bimestrales en 5 años.\n",
    "3. Calculamos el valor futuro usando la fórmula del valor futuro con capitalización compuesta.\n",
    "\n",
    "### Resultado\n",
    "\n",
    "El resultado del valor futuro (FV) nos dirá cuánto recibirá la cuenta al retirar el monto total ahorrado al iniciar los estudios."
   ]
  },
  {
   "attachments": {},
   "cell_type": "markdown",
   "id": "db6fd3fb-3ece-4b31-b287-4fc20ddc2751",
   "metadata": {},
   "source": [
    "## 4. \n",
    "\n",
    "Hace ya algún tiempo la empresa Alfa SA consiguió un préstamo de una entidad financiera a un tipo de interés preferencial. A falta de ocho meses para pagar esa cantidad prestada, la empresa gana un contrato con el que obtiene recursos suficientes para pagar la cantidad debida, 248.000,00€. La empresa se plantea en la actualidad invertir una cantidad de dinero suficiente para pagar la deuda contraída en la fecha de vencimiento del contrato de préstamo. La empresa ha buscado diferentes alternativas para invertir y ha conseguido una oferta de un banco que le ofrece un 14% anual capitalizable mensualmente.  \n",
    "\n",
    "\n",
    "|Problema | Solución |Cálculos| \n",
    "|---------|----------|--------|\n",
    "|¿Cuánto debe invertir la empresa hoy (recordemos que faltan 8 meses) al 14%, de tal forma que pueda obtener los 248.000,00€ en la fecha de vencimiento de la deuda?| Para resolver este problema, necesitamos calcular cuánto debe invertir la empresa hoy para obtener 248,000 € en 8 meses, considerando una tasa de interés del 14% anual capitalizable mensualmente. | $$ \\text{Tasa mensual} = \\frac{0.14}{12} \\approx 0.01167 $$ $$ PV = \\frac{FV}{(1 + r)^n} $$ |"
   ]
  },
  {
   "cell_type": "code",
   "execution_count": 4,
   "id": "3e97313f-a763-403a-8454-86752a284904",
   "metadata": {},
   "outputs": [
    {
     "data": {
      "text/plain": [
       "226022.75033797603"
      ]
     },
     "execution_count": 4,
     "metadata": {},
     "output_type": "execute_result"
    }
   ],
   "source": [
    "# Variables\n",
    "FV = 248000  # Valor futuro en euros\n",
    "tasa_nominal_anual = 0.14\n",
    "tasa_mensual = tasa_nominal_anual / 12  # Tasa mensual\n",
    "n_meses = 8  # Número de meses\n",
    "\n",
    "# Calcular el valor presente\n",
    "PV = FV / (1 + tasa_mensual) ** n_meses\n",
    "\n",
    "PV"
   ]
  },
  {
   "cell_type": "markdown",
   "id": "b8d6e9d4-f26f-4b37-8c7c-f5a038dd4e7b",
   "metadata": {},
   "source": [
    "### Explicación del código\n",
    "\n",
    "1. Definimos las variables: el valor futuro (248,000 €), la tasa nominal anual (14%), la tasa mensual y el número de meses (8).\n",
    "2. Calculamos el valor presente usando la fórmula del valor presente con capitalización compuesta.\n",
    "\n",
    "### Resultado\n",
    "\n",
    "El resultado del valor presente (PV) nos dirá cuánto debe invertir la empresa hoy para tener los 248,000 € necesarios en 8 meses."
   ]
  }
 ],
 "metadata": {
  "kernelspec": {
   "display_name": "Python 3 (ipykernel)",
   "language": "python",
   "name": "python3"
  },
  "language_info": {
   "codemirror_mode": {
    "name": "ipython",
    "version": 3
   },
   "file_extension": ".py",
   "mimetype": "text/x-python",
   "name": "python",
   "nbconvert_exporter": "python",
   "pygments_lexer": "ipython3",
   "version": "3.12.4"
  }
 },
 "nbformat": 4,
 "nbformat_minor": 5
}
