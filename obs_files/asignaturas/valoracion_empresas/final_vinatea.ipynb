{
 "cells": [
  {
   "cell_type": "markdown",
   "metadata": {},
   "source": [
    "# WACC"
   ]
  },
  {
   "cell_type": "code",
   "execution_count": 12,
   "metadata": {},
   "outputs": [
    {
     "name": "stdout",
     "output_type": "stream",
     "text": [
      "WACC: 0.04\n",
      "Costo de Financiación 0.13\n"
     ]
    }
   ],
   "source": [
    "def calculate_wacc():\n",
    "    # Aqui calculo el wacc, con los datos del problema\n",
    "    Rf = 0.035  # Tasa libre de riesgo (3.5%)\n",
    "    beta = 2.14  # Beta\n",
    "    market_risk_premium = 0.0435  # Prima del mercado (4.35%)\n",
    "    cost_of_debt = 0.036  # Costo de la deuda (3.6%)\n",
    "    tax_rate = 0.30  # Tipo impositivo (30%)\n",
    "    \n",
    "    # Valores de Mercado\n",
    "    equity_value = 1_000_000 * 1.22  # Patrimonio (1 millón de acciones * $1.22/Accion)\n",
    "    debt_value = 6_300_000 + 4_500_000  # Deuda total (L/P + C/P)\n",
    "    total_value = equity_value + debt_value  # Valor del patrimonio neto \n",
    "\n",
    "    # Costo de financiación usando CAPM\n",
    "    cost_of_equity = Rf + beta * market_risk_premium\n",
    "\n",
    "    # Formula del WACC\n",
    "    wacc = (equity_value / total_value) * cost_of_equity + (debt_value / total_value) * cost_of_debt * (1 - tax_rate)\n",
    "    \n",
    "    return wacc, cost_of_equity\n",
    "\n",
    "print(f\"WACC: {wacc:,.2f}\") # Obtenemos el WACC\n",
    "print (f\"Costo de Financiación {cost_of_equity:,.2f}\") # Obtenemos el costo de financiación "
   ]
  },
  {
   "cell_type": "markdown",
   "metadata": {},
   "source": [
    "# DCF"
   ]
  },
  {
   "cell_type": "code",
   "execution_count": 10,
   "metadata": {},
   "outputs": [
    {
     "name": "stdout",
     "output_type": "stream",
     "text": [
      "Valor de Negocio: $930,534,884.04\n"
     ]
    }
   ],
   "source": [
    "def dcf_valuation():\n",
    "    # Datos del Ejercicio\n",
    "    sales = [42_500_000]  # Ventas Iniciales\n",
    "    sales_growth = [0.06, 0.06, 0.05, 0.04, 0.04]  # Incremento de las ventas en 5 años\n",
    "    gross_margin = [0.52, 0.52, 0.52, 0.45, 0.45]  # Incremento del margen bruto\n",
    "    personnel_reduction = 700_000  # Reducción en los costos de mano de obra\n",
    "    personnel_growth = 0.03  # Incremento del costo de trabajo después del tercer año\n",
    "    capex_percent = [0.07, 0.07, 0.06, 0.06, 0.06]  # CAPEX en % de ventas\n",
    "    working_capital_percent = 0.15  # Estimativa de cambio en el working capital\n",
    "    wacc, _ = calculate_wacc()  # WACC obtenido antes\n",
    "    terminal_growth = 0.015  # Ritmo de crecimiento de los perpetuos\n",
    "\n",
    "    # Proyección de ventas y EBITDA\n",
    "    for i in range(1, 6):\n",
    "        new_sales = sales[-1] * (1 + sales_growth[i-1])\n",
    "        sales.append(new_sales)\n",
    "\n",
    "    # Computo EBITDA, CAPEX, y flujos de caja libre\n",
    "    free_cash_flows = []\n",
    "    for i in range(5):\n",
    "        ebitda = sales[i] * gross_margin[i]\n",
    "        capex = sales[i] * capex_percent[i]\n",
    "        free_cash_flow = ebitda - capex  \n",
    "        free_cash_flows.append(free_cash_flow)\n",
    "\n",
    "    # Calculo los perpetuos\n",
    "    terminal_value = free_cash_flows[-1] * (1 + terminal_growth) / (wacc - terminal_growth)\n",
    "\n",
    "    # Calculato el valor presente de los flujos de caja futuros\n",
    "    npv = sum(fcf / ((1 + wacc) ** (i + 1)) for i, fcf in enumerate(free_cash_flows))\n",
    "    npv_terminal_value = terminal_value / ((1 + wacc) ** 5)\n",
    "\n",
    "    # Valor de Negocio es equivalente al Valor presente de los FCF + Valor Presente de los perpetuos\n",
    "    business_value = npv + npv_terminal_value\n",
    "\n",
    "    return business_value\n",
    "\n",
    "business_value = dcf_valuation()\n",
    "print(f\"Valor de Negocio: ${business_value:,.2f}\") # Obtenemos el valor del negocio\n"
   ]
  },
  {
   "cell_type": "markdown",
   "metadata": {},
   "source": [
    "# Enunciado\n",
    "\n",
    "**Calcular el Coste de Capital (WACC)**\n",
    "\n",
    "El **WACC** ya ha sido calculado y es:\n",
    "\n",
    "$$\n",
    "WACC = 0.0356 = 3.56\\%\n",
    "$$\n",
    "\n",
    "\n",
    "**Valoración del Target por el Método DCF**\n",
    "\n",
    "La **Valoración del Negocio** se realiza usando el método de **Flujo de Caja Descontado (DCF)**. El valor total del negocio fue calculado:\n",
    "\n",
    "$$\n",
    "\\text{Valor del negocio} = \\$930,534,884.04\n",
    "$$\n",
    "\n",
    "Este valor refleja la suma de los flujos de caja proyectados para los próximos años, descontados al presente utilizando el WACC, más el valor terminal (valor a perpetuidad).\n",
    "\n",
    "#### Valor de las Acciones:\n",
    "  \n",
    "\n",
    "$$\n",
    "\\text{Valor de las acciones} = \\frac{930,534,884.04 - 10,800,000}{1,000,000} = \\$919.73 \\, \\text{por acción}\n",
    "$$\n",
    "\n",
    "El nuevo valor de las acciones después de la evaluación DCF con sinergias sería de aproximadamente **$919.73 por acción**, comparado con el valor actual de **$1.22 por acción** en el mercado.\n",
    "\n",
    "**¿Deben Tenerse en Cuenta las Potenciales Sinergias en los Flujos de Caja?**\n",
    "\n",
    "**Sí**: Las sinergias representan mejoras en la eficiencia operativa o financiera como resultado de la fusión o adquisición. Estas sinergias pueden reducir los costos operativos, mejorar las ventas, o hacer que el uso de los activos sea más eficiente, lo que a su vez incrementa el valor futuro del negocio. En el caso del target, las sinergias se traducen en una reducción de costos (como personal, alquiler, servicios, etc.), lo que mejora el flujo de caja y, en última instancia, el valor empresarial.\n",
    "\n",
    "**¿Es Adecuada la Tasa de Crecimiento Perpetuo?**\n",
    "\n",
    "Esta tasa está en línea con el crecimiento esperado de la economía a largo plazo. Una tasa de crecimiento perpetuo que exceda este valor podría ser demasiado optimista, especialmente para una empresa en un mercado competitivo y maduro como el de la robótica. Además, una tasa del 1.5% se encuentra ligeramente por encima de la inflación (sin considerar los escenarios recientes), lo que es razonable para mantener el valor del dinero en el tiempo.\n",
    "\n",
    "**Máxima Tasa Sugerida**: \n",
    "- La máxima tasa de crecimiento perpetuo que sugeriría sería alrededor del **2%**. Esto estaría alineado con un crecimiento económico sostenido sin ser demasiado optimista ni poner en riesgo la evaluación con un crecimiento perpetuo irreal. Como expliqué en la anterior actividad, la tasa se alinea con el modelo de crecimiento de Solow, para economias maduras de largo plazo.\n",
    "\n",
    "**¿Son Suficientes las Inversiones en CAPEX para el Cálculo de la Perpetuidad?**\n",
    "\n",
    "Las inversiones en **CAPEX del 7% y luego 6% de las ventas** parecen suficientes para los primeros años, pero pueden no ser adecuadas para la perpetuidad.\n",
    "- En las primeras fases, el 7% y 6% de CAPEX en relación con las ventas es apropiado para una empresa que está experimentando crecimiento. Esto asegura que la empresa está invirtiendo lo suficiente en infraestructura y tecnología para mantener su posición competitiva. En el sector de robótica, si hablamos de innovación, es natural que los pioneros desfruten de crecimiento acelerado mientras la ola de replicadores se empieza a configurar, como detallado por Schumpeter.\n",
    "  \n",
    "- **Para la perpetuidad**, es probable que la empresa, una vez madura, no necesite invertir tanto en CAPEX. Una tasa de CAPEX más baja en la perpetuidad (por ejemplo, 3%-4%) sería más razonable, ya que las empresas maduras tienden a reducir sus necesidades de inversión en activos fijos y enfocarse en el mantenimiento de su capacidad actual.\n"
   ]
  }
 ],
 "metadata": {
  "kernelspec": {
   "display_name": "obs",
   "language": "python",
   "name": "python3"
  },
  "language_info": {
   "codemirror_mode": {
    "name": "ipython",
    "version": 3
   },
   "file_extension": ".py",
   "mimetype": "text/x-python",
   "name": "python",
   "nbconvert_exporter": "python",
   "pygments_lexer": "ipython3",
   "version": "3.12.5"
  }
 },
 "nbformat": 4,
 "nbformat_minor": 2
}
